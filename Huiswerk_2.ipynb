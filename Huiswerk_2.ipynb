{
 "cells": [
  {
   "cell_type": "code",
   "execution_count": 16,
   "metadata": {},
   "outputs": [],
   "source": [
    "import numpy as np\n",
    "import pandas as pd\n",
    "import os"
   ]
  },
  {
   "cell_type": "markdown",
   "metadata": {},
   "source": [
    "# Huiswerkopgaven - deel 2\n",
    "\n",
    "Dit notebook bevat opgaven om thuis mee aan de slag te gaan. Het laden van (voorbeelden van) uitwerkingen gaat op dezelfde manier als in de opgaven die tijdens de cursus zijn gedaan. Het notebook is onderverdeeld in twee stukken. Het eerste onderdeel raad ik je zeker aan te doen. Dit leert je nog meer basisfunctionaliteit van de tijdens de cursus behandelde stof. Feitelijk heb je zonder die opgaven een incompleet beeld. Het tweede deel (de \"bonus\") kun je doen als je er zin in hebt en uitgedaagd wil worden. Je leert er op zich niet onmisbare stof, maar wel nieuwe dingen die leuk zijn (en van meer oefening leer je het beter).\n",
    "\n",
    "\n",
    "## 1. Een array centreren door broadcasting\n",
    "Loopen over een array is erg traag in Python. Veel functies in numpy werken daarom als array-operaties, ook wel vectoroperaties genoemd, die op de hele array tegelijk werken. Broadcasting breidt die mogelijkheden nog een beetje uit. Hier zullen we een array centreren. Maak een array van 20 rijen en 3 kolommen en met random getallen tussen 0 en 3. Vermenigvuldig de middelste kolom met 2. Bereken het gemiddelde van elke kolom. Trek deze gemiddelden af van de kolommen en verifieer dat de gemiddelden dan 0 zijn. Elk van deze zinnen kan in 1 regel Python worden gedaan. Probeer dat ook te doen.\n",
    "\n",
    "Welke van al deze stappen vallen onder broadcasting?\n"
   ]
  },
  {
   "cell_type": "code",
   "execution_count": null,
   "metadata": {},
   "outputs": [],
   "source": []
  },
  {
   "cell_type": "code",
   "execution_count": 3,
   "metadata": {},
   "outputs": [],
   "source": [
    "to_include = os.path.join('uitwerkingen', '2h-broadcasting.py') \n",
    "# %load $to_include"
   ]
  },
  {
   "cell_type": "markdown",
   "metadata": {},
   "source": [
    "## 2. Merging, joining en combineren op allerlei manieren.\n",
    "\n",
    "Voordat we kijken naar het gebruik van indices en kolommen voor het combineren van data, kijken we snel naar \"index alignment\". Zie hier twee DataFrames, met de top 3 van Amerikaanse Staten naar oppervlakte en bevolking (ik definieer meteen een functie voor zometeen):"
   ]
  },
  {
   "cell_type": "code",
   "execution_count": 9,
   "metadata": {},
   "outputs": [
    {
     "data": {
      "text/html": [
       "<div>\n",
       "<style scoped>\n",
       "    .dataframe tbody tr th:only-of-type {\n",
       "        vertical-align: middle;\n",
       "    }\n",
       "\n",
       "    .dataframe tbody tr th {\n",
       "        vertical-align: top;\n",
       "    }\n",
       "\n",
       "    .dataframe thead th {\n",
       "        text-align: right;\n",
       "    }\n",
       "</style>\n",
       "<table border=\"1\" class=\"dataframe\">\n",
       "  <thead>\n",
       "    <tr style=\"text-align: right;\">\n",
       "      <th></th>\n",
       "      <th>A</th>\n",
       "      <th>B</th>\n",
       "      <th>C</th>\n",
       "    </tr>\n",
       "  </thead>\n",
       "  <tbody>\n",
       "    <tr>\n",
       "      <th>0</th>\n",
       "      <td>A0</td>\n",
       "      <td>B0</td>\n",
       "      <td>C0</td>\n",
       "    </tr>\n",
       "    <tr>\n",
       "      <th>1</th>\n",
       "      <td>A1</td>\n",
       "      <td>B1</td>\n",
       "      <td>C1</td>\n",
       "    </tr>\n",
       "    <tr>\n",
       "      <th>2</th>\n",
       "      <td>A2</td>\n",
       "      <td>B2</td>\n",
       "      <td>C2</td>\n",
       "    </tr>\n",
       "  </tbody>\n",
       "</table>\n",
       "</div>"
      ],
      "text/plain": [
       "    A   B   C\n",
       "0  A0  B0  C0\n",
       "1  A1  B1  C1\n",
       "2  A2  B2  C2"
      ]
     },
     "execution_count": 9,
     "metadata": {},
     "output_type": "execute_result"
    }
   ],
   "source": [
    "area = pd.Series({'Alaska': 1723337, 'Texas': 695662,\n",
    "                  'California': 423967}, name='area')\n",
    "population = pd.Series({'California': 38332521, 'Texas': 26448193,\n",
    "                        'New York': 19651127}, name='population')\n",
    "\n",
    "def make_df(cols, ind):\n",
    "    data = {c: [str(c) + str(i) for i in ind]\n",
    "            for c in cols}\n",
    "    return pd.DataFrame(data, ind)\n",
    "\n",
    "# Voorbeeldje:\n",
    "make_df('ABC', range(3))"
   ]
  },
  {
   "cell_type": "markdown",
   "metadata": {},
   "source": [
    "Series werken als arrays. We kunnen ze dus gewoon op elkaar delen. Wat zijn de indices in deze twee Series objecten? Wat gebeurt er als je ze op elkaar deelt om de bevolkingsdichtheid uit te rekenen? Hoe zit dat? \n",
    "\n",
    "Laat vervolgens zien dat dat met DataFrames net zo werkt.\n",
    "\n",
    "Maak met bovenstaande functie twee dataframes met overeenkomstige kolommen. Hoe werkt concat op die twee? Concat kan ook op de andere as dan de default. Onderzoek hoe dit werkt.\n",
    "\n",
    "Reproduceer de twee koffie dataframes uit de instructie. Als je ze merget zonder specificatie van de key, wat gebeurt er dan? Welke vorm van join resulteert in de langste dataframe, left, right, inner of outer?"
   ]
  },
  {
   "cell_type": "code",
   "execution_count": null,
   "metadata": {},
   "outputs": [],
   "source": []
  },
  {
   "cell_type": "code",
   "execution_count": 22,
   "metadata": {},
   "outputs": [],
   "source": [
    "to_include = os.path.join('uitwerkingen', '2h-combineren.py') \n",
    "# %load $to_include"
   ]
  },
  {
   "cell_type": "markdown",
   "metadata": {},
   "source": [
    "## 3. Ingewikkeldere aggregatie\n",
    "\n",
    "Voor deze opdracht gebruiken we een met seaborn (een pakket wat we in de volgende cursusbijeenkomst uitvoerig zullen bekijken) meegeleverde dataset over exoplaneten (planeten bij andere sterren, in dit geval ontdekt voor 2014):\n"
   ]
  },
  {
   "cell_type": "code",
   "execution_count": 24,
   "metadata": {},
   "outputs": [
    {
     "name": "stdout",
     "output_type": "stream",
     "text": [
      "(1035, 6)\n"
     ]
    },
    {
     "data": {
      "text/html": [
       "<div>\n",
       "<style scoped>\n",
       "    .dataframe tbody tr th:only-of-type {\n",
       "        vertical-align: middle;\n",
       "    }\n",
       "\n",
       "    .dataframe tbody tr th {\n",
       "        vertical-align: top;\n",
       "    }\n",
       "\n",
       "    .dataframe thead th {\n",
       "        text-align: right;\n",
       "    }\n",
       "</style>\n",
       "<table border=\"1\" class=\"dataframe\">\n",
       "  <thead>\n",
       "    <tr style=\"text-align: right;\">\n",
       "      <th></th>\n",
       "      <th>method</th>\n",
       "      <th>number</th>\n",
       "      <th>orbital_period</th>\n",
       "      <th>mass</th>\n",
       "      <th>distance</th>\n",
       "      <th>year</th>\n",
       "    </tr>\n",
       "  </thead>\n",
       "  <tbody>\n",
       "    <tr>\n",
       "      <th>0</th>\n",
       "      <td>Radial Velocity</td>\n",
       "      <td>1</td>\n",
       "      <td>269.300</td>\n",
       "      <td>7.10</td>\n",
       "      <td>77.40</td>\n",
       "      <td>2006</td>\n",
       "    </tr>\n",
       "    <tr>\n",
       "      <th>1</th>\n",
       "      <td>Radial Velocity</td>\n",
       "      <td>1</td>\n",
       "      <td>874.774</td>\n",
       "      <td>2.21</td>\n",
       "      <td>56.95</td>\n",
       "      <td>2008</td>\n",
       "    </tr>\n",
       "    <tr>\n",
       "      <th>2</th>\n",
       "      <td>Radial Velocity</td>\n",
       "      <td>1</td>\n",
       "      <td>763.000</td>\n",
       "      <td>2.60</td>\n",
       "      <td>19.84</td>\n",
       "      <td>2011</td>\n",
       "    </tr>\n",
       "    <tr>\n",
       "      <th>3</th>\n",
       "      <td>Radial Velocity</td>\n",
       "      <td>1</td>\n",
       "      <td>326.030</td>\n",
       "      <td>19.40</td>\n",
       "      <td>110.62</td>\n",
       "      <td>2007</td>\n",
       "    </tr>\n",
       "    <tr>\n",
       "      <th>4</th>\n",
       "      <td>Radial Velocity</td>\n",
       "      <td>1</td>\n",
       "      <td>516.220</td>\n",
       "      <td>10.50</td>\n",
       "      <td>119.47</td>\n",
       "      <td>2009</td>\n",
       "    </tr>\n",
       "  </tbody>\n",
       "</table>\n",
       "</div>"
      ],
      "text/plain": [
       "            method  number  orbital_period   mass  distance  year\n",
       "0  Radial Velocity       1         269.300   7.10     77.40  2006\n",
       "1  Radial Velocity       1         874.774   2.21     56.95  2008\n",
       "2  Radial Velocity       1         763.000   2.60     19.84  2011\n",
       "3  Radial Velocity       1         326.030  19.40    110.62  2007\n",
       "4  Radial Velocity       1         516.220  10.50    119.47  2009"
      ]
     },
     "execution_count": 24,
     "metadata": {},
     "output_type": "execute_result"
    }
   ],
   "source": [
    "import seaborn as sns\n",
    "planets = sns.load_dataset( 'planets')\n",
    "print(planets.shape)\n",
    "planets.head()"
   ]
  },
  {
   "cell_type": "markdown",
   "metadata": {},
   "source": [
    "Als het goed is weet je al hoe je basisstatistieken voor elke numerieke kolom krijgt. Doe dit.\n",
    "\n",
    "Groepeer deze per methode en krijg dezelfde statistieken op je scherm over de kolom jaar. Wat betekent de count kolom nu?\n",
    "\n",
    "Met de .aggregate() methode kun je meerdere aggregaties tegelijk doen op groupby objecten. Groepeer de planeten op jaar van ontdekking en laat de minimale waarde en mediaan van de 'mass' en 'distance' kolommen zien, allemaal in 1 overzicht.\n",
    "\n",
    "Gebruik wat je wil en weet om uit de exoplanetentabel een tabel te genereren die per methode het aantal planeten per decennium weergeeft."
   ]
  },
  {
   "cell_type": "code",
   "execution_count": null,
   "metadata": {},
   "outputs": [],
   "source": []
  },
  {
   "cell_type": "code",
   "execution_count": 38,
   "metadata": {},
   "outputs": [],
   "source": [
    "to_include = os.path.join('uitwerkingen', '2h-aggregatie.py') \n",
    "# %load $to_include"
   ]
  },
  {
   "cell_type": "markdown",
   "metadata": {},
   "source": [
    "## Bonusopgaven\n",
    "\n",
    "### Datumtijd in pandas\n",
    "\n",
    "Iedereen die wel eens met data over data (als in: de datum) heeft gewerkt weet hoe lastig dit kan zijn, wat betekent bijvoorbeeld een maand later dan 30 januari? Of Wat is de datum van elke laatste vrijdag van een kwartaal? Pandas is ontwikkeld voor de financiele wereld en heeft mede daarom uitgebreide functionaliteiten voor datum-tijd variabelen ingebouwd.\n",
    "\n",
    "In core Python zit ook al een library, van welke gebruik gemaakt wordt."
   ]
  },
  {
   "cell_type": "code",
   "execution_count": 17,
   "metadata": {},
   "outputs": [
    {
     "name": "stdout",
     "output_type": "stream",
     "text": [
      "2018-09-19 10:34:14.140714\n",
      "2018 9 19\n"
     ]
    }
   ],
   "source": [
    "import datetime as dt\n",
    "now = dt.datetime.now()\n",
    "print(now)\n",
    "print(now.year, now.month, now.day)"
   ]
  },
  {
   "cell_type": "code",
   "execution_count": 11,
   "metadata": {},
   "outputs": [
    {
     "name": "stdout",
     "output_type": "stream",
     "text": [
      "3738 days, 15:45:00\n",
      "3738 56700\n"
     ]
    }
   ],
   "source": [
    "delta = dt.datetime(now.year, now.month, now.day) - dt.datetime(2008, 6, 24, 8, 15)\n",
    "print(delta) \n",
    "print(delta.days, delta.seconds)   # Let op het seconds stuk!\n"
   ]
  },
  {
   "cell_type": "code",
   "execution_count": 14,
   "metadata": {},
   "outputs": [
    {
     "data": {
      "text/plain": [
       "'2001-09-11'"
      ]
     },
     "execution_count": 14,
     "metadata": {},
     "output_type": "execute_result"
    }
   ],
   "source": [
    "stamp = dt.datetime(2001, 9, 11)\n",
    "str(stamp)\n",
    "stamp.strftime('%Y-%m-%d')  # Formatting op http://strftime.org/"
   ]
  },
  {
   "cell_type": "code",
   "execution_count": 26,
   "metadata": {},
   "outputs": [
    {
     "name": "stdout",
     "output_type": "stream",
     "text": [
      "2011-01-02    0.009879\n",
      "2011-01-05   -1.103676\n",
      "2011-01-07    0.214999\n",
      "2011-01-08    1.502509\n",
      "2011-01-10    0.813888\n",
      "2011-01-12   -0.732366\n",
      "dtype: float64 <class 'pandas.core.series.Series'>\n",
      "\n",
      "DatetimeIndex(['2011-01-02', '2011-01-05', '2011-01-07', '2011-01-08',\n",
      "               '2011-01-10', '2011-01-12'],\n",
      "              dtype='datetime64[ns]', freq=None)\n",
      "\n",
      "2011-01-02    0.009879\n",
      "2011-01-07    0.214999\n",
      "2011-01-10    0.813888\n",
      "dtype: float64\n",
      "\n",
      "0.8138877366719708 0.8138877366719708\n"
     ]
    }
   ],
   "source": [
    "# En dan nu in pandas, een TimeSeries:\n",
    "dates = [dt.datetime(2011, 1, 2), dt.datetime(2011, 1, 5),\n",
    "         dt.datetime(2011, 1, 7), dt.datetime(2011, 1, 8),\n",
    "         dt.datetime(2011, 1, 10), dt.datetime(2011, 1, 12)]\n",
    "ts = pd.Series(np.random.randn(6), index=dates)\n",
    "print(ts, type(ts))\n",
    "print()\n",
    "print(ts.index)   # let op de aanduiding van de frequentie\n",
    "print()\n",
    "print(ts[::2])   # Integer-like indezing\n",
    "print()\n",
    "print(ts['1/10/2011'], ts['20110110'])   # Probeer dat ook eens met \"fancy indexing\"?\n",
    "print()\n"
   ]
  },
  {
   "cell_type": "markdown",
   "metadata": {},
   "source": [
    "Bovenstaande geeft al aan dat werken met een datum niet heel ingewikkeld is als je de juiste functionaliteit hebt gevonden. Pandas gaat echter nog een stuk verder, en kan werken met frequenties en periodes en kan op tal van manieren de indez \"resamplen\". Omdat je nu met de syntax bekend bent geraakt is het volgende in opdracht vorm, maar voel je vooral niet bezwaard Google en andere resources te gebruiken bij het opzoeken van functionaliteit!\n",
    "\n",
    "Gebruik pd.date_range() om een TimeSeries te maken met 1000 dagelijkse entries vanaf 1 januari 2010. Stop er bijvoorbeeld random getallen in.\n",
    "\n",
    "Wat gebeurt er als je als index alleen een jaartal gebruikt? Of een jaartal en een maand?\n",
    "\n",
    "Maak een Series van die lange reeks, die alleen de entries bevat uit de laatste twee maanden die vorkomen in de oorspronkelijke Series."
   ]
  },
  {
   "cell_type": "code",
   "execution_count": null,
   "metadata": {},
   "outputs": [],
   "source": []
  },
  {
   "cell_type": "code",
   "execution_count": 52,
   "metadata": {},
   "outputs": [],
   "source": [
    "to_include = os.path.join('uitwerkingen', '2h-datetime.py') \n",
    "# %load $to_include"
   ]
  },
  {
   "cell_type": "markdown",
   "metadata": {},
   "source": [
    "Behalve \"momenten\" (ook wel: TimeStamps) kan pandas ook werken met \"periodes\" (ook: DateTimePeriod). Dit geeft de mogelijkheid om tijdlijnen volledig te vullen, om te zien in wleke periode een bepaald moment valt, en om periodes te resamplen (getallen per maand worden dan heel gemakkelijk getallen per jaar, of per kwartaal, etc.).\n",
    "\n",
    "Gebruik de pd.period_range() om vanaf een bepaalde datum minstens 10 tegelmatige perioden te construeren, bijvoorbeeld 10 maanden. Hoe ziet deze eruit?\n",
    "\n",
    "Frequenties kunnen heel funky worden samengesteld. Maak een PeriodIndex die periodes van 3,5 uur kent, vanaf een zelf gekozen moment en zorg dat de index minsten een paar dagen doorloopt. Wat is de frequentie volgens pandas? \n",
    "\n",
    "Pandas gaat nog veel verder en kan bijvoorbeeld periodes laten beginnen en eindigen op alleen alle werkdagen, van de laatste werkdag van een kwartaal tot de laatste werkdag van het volgende jaar, per Amerikaans fiscaal jaar en noem maar op. Zoek hier vooral nog wat informatie over als deze dingen nodig of nuttig blijken!\n",
    "\n",
    "Het veranderen van de frequentie van je periode is wel nog interessant om te bekijken. Maak van je 3H30 PeriodIndex een TimeSeries te maken met random getallen. Gebruik asfreq() om die te resamplen naar perioden per dag. Wat is er met de indices en getallen gebeurd?\n",
    "\n",
    ".resample() is een functie waarmee je de frequentie kunt veranderen en binnen de nieuwe frequentie ook aggregeren. Doe dit ook met dagen, en sommeer alle getallen. Welke vrijheid in keuze heb je rekening mee te houden?\n",
    "\n",
    "Downsampling is uiteraard ook mogelijk.\n",
    "\n",
    "Maak een reeks van alle eerste dagen van de maand. Trek er vervolgens een dag vanaf. Check van het resultaat ook de frequentie!"
   ]
  },
  {
   "cell_type": "code",
   "execution_count": null,
   "metadata": {},
   "outputs": [],
   "source": []
  },
  {
   "cell_type": "code",
   "execution_count": 79,
   "metadata": {},
   "outputs": [],
   "source": [
    "to_include = os.path.join('uitwerkingen', '2h-perioden.py') \n",
    "# %load $to_include"
   ]
  },
  {
   "cell_type": "markdown",
   "metadata": {},
   "source": [
    "Met datumtijdvariabelen is nog veel meer te doen en ik raad je aan dit goed e bestuderen als dit voor jouw werk van belang gaat zijn. Je kunt je een hoop frustratie besparen en een hoop tijd winnen als je vaardig bent met het manipuleren van datumtijd- en periodevariabelen!"
   ]
  },
  {
   "cell_type": "code",
   "execution_count": null,
   "metadata": {},
   "outputs": [],
   "source": []
  }
 ],
 "metadata": {
  "kernelspec": {
   "display_name": "Python 3",
   "language": "python",
   "name": "python3"
  },
  "language_info": {
   "codemirror_mode": {
    "name": "ipython",
    "version": 3
   },
   "file_extension": ".py",
   "mimetype": "text/x-python",
   "name": "python",
   "nbconvert_exporter": "python",
   "pygments_lexer": "ipython3",
   "version": "3.6.6"
  }
 },
 "nbformat": 4,
 "nbformat_minor": 2
}
