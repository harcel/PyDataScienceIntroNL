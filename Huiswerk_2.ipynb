{
 "cells": [
  {
   "cell_type": "markdown",
   "metadata": {},
   "source": [
    "# Huiswerkopgaven - deel 2\n",
    "\n",
    "Dit notebook bevat opgaven om thuis mee aan de slag te gaan. Het laden van (voorbeelden van) uitwerkingen gaat op dezelfde manier als in de opgaven die tijdens de cursus zijn gedaan. Het notebook is onderverdeeld in twee stukken. Het eerste onderdeel raad ik je zeker aan te doen. Dit leert je nog meer basisfunctionaliteit van de tijdens de cursus behandelde stof. Feitelijk heb je zonder die opgaven een incompleet beeld. Het tweede deel (de \"bonus\") kun je doen als je er zin in hebt en uitgedaagd wil worden. Je leert er op zich niet onmisbare stof, maar wel nieuwe dingen die leuk zijn (en van meer oefening leer je het beter).\n",
    "\n"
   ]
  },
  {
   "cell_type": "code",
   "execution_count": null,
   "metadata": {},
   "outputs": [],
   "source": []
  },
  {
   "cell_type": "code",
   "execution_count": null,
   "metadata": {},
   "outputs": [],
   "source": []
  },
  {
   "cell_type": "code",
   "execution_count": null,
   "metadata": {},
   "outputs": [],
   "source": []
  },
  {
   "cell_type": "code",
   "execution_count": null,
   "metadata": {},
   "outputs": [],
   "source": []
  },
  {
   "cell_type": "markdown",
   "metadata": {},
   "source": [
    "## XX. Merging, joining en combineren op allerlei manieren."
   ]
  },
  {
   "cell_type": "code",
   "execution_count": null,
   "metadata": {},
   "outputs": [],
   "source": []
  },
  {
   "cell_type": "code",
   "execution_count": null,
   "metadata": {},
   "outputs": [],
   "source": []
  },
  {
   "cell_type": "markdown",
   "metadata": {},
   "source": [
    "## XX. Ingewikkeldere aggregatie"
   ]
  },
  {
   "cell_type": "code",
   "execution_count": null,
   "metadata": {},
   "outputs": [],
   "source": []
  },
  {
   "cell_type": "code",
   "execution_count": null,
   "metadata": {},
   "outputs": [],
   "source": []
  }
 ],
 "metadata": {
  "kernelspec": {
   "display_name": "Python 3",
   "language": "python",
   "name": "python3"
  },
  "language_info": {
   "codemirror_mode": {
    "name": "ipython",
    "version": 3
   },
   "file_extension": ".py",
   "mimetype": "text/x-python",
   "name": "python",
   "nbconvert_exporter": "python",
   "pygments_lexer": "ipython3",
   "version": "3.6.6"
  }
 },
 "nbformat": 4,
 "nbformat_minor": 2
}
