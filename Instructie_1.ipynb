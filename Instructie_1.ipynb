{
 "cells": [
  {
   "cell_type": "markdown",
   "metadata": {},
   "source": [
    "# Python vanuit Jupyter notebooks\n",
    "\n",
    "Dit notebook is onderdeel van een serie van 3 x 4 notebooks, die horen bij de introductiecursus Python voor data science. Deze beslaat 4 avonden die ieder hun eigen thema hebben:\n",
    "\n",
    "1.) Een introductie tot de programmeertaal Python en de Jupyter Notebooks/Labs waarin we Python gebruiken.\n",
    "\n",
    "2.) Werken met data in Python. Data science heet data science omdat het over data gaat. Dus het lezen, bewerken en verwerken van data staat voorop.\n",
    "\n",
    "3.) Visualisatie. Niet alleen omdat het je resultaten mooi en overzichtelijk weergeeft, maar ook omdat je je data beter leert begrijpen.\n",
    "\n",
    "4.) Machine learning is tegenwoordig niet meer weg te denken uit de toolbox van de data scientist, dus een gedegen introductie tot dit waanzinnig interessante vakgebied kan niet ontbreken!\n",
    "\n",
    "Voor elk van de onderdelen bestaat een instructie notebook. Deze kan gebruikt worden als naslagwerk, om te zien hoe bepaalde dingen werken en als je wil ok om daarmee te experimenteren. De opgaven in de corresponderende notebooks zijn opgaven die de stof uit de instructienotebooks verrijken. Die zullen grotendeels op de cursusavonden gedaan worden, maar het is aan te raden om deze thuis ook te bekijken, om te zorgen dat je niks mist. De huiswerknotebooks bevatten nog extra opgaven voor als je meer wil oefenen. Daarnaast bevatten ze wat extra uitdaging voor wie daar aan toe is. Veel van de onderwerpen die we behandelen in de 4 cursusbijeenkomsten zijn slechts het topje van de ijsberg waar het neerkomt op diepgang van het materiaal en de extra opgaven geven je een indruk van wat er nog meer achter de horizon ligt.\n",
    "\n",
    "De series met opgaven en huiswerk bevatten dus een hoop opgaven. Zelden heeft een opgave slechts 1 correct antwoord. Je kunt dingen oplossen zoals je zelf wil. Mocht je vastlopen, je uitwerkingen willen controleren, of zien hoe ik de opgave zou hebben aangepakt, dan zijn er uitwerkingen beschikbaar. Deze zijn in het notebook in te laden en geven je een manier van aanpakken van de opgave die je zo moet kunnen uitvoeren. Wil je feedback op je eigen methode of heb je nog vragen over, schroom dan niet om deze te mailen naar datascience@marcelhaas.com.\n",
    "\n",
    "Veel plezier!\n"
   ]
  },
  {
   "cell_type": "markdown",
   "metadata": {},
   "source": [
    "## Python als handig rekenhulpmiddel\n",
    "\n",
    "Vanuit een notebook, of vanuit welke omgeving je Python dan ook gebruikt, kun je korte eenvoudige opdrachten geven die direct een resultaat opleveren. Regels die beginnen met een # zijn \"commentaar\" en worden door Python genegeerd. Wanneer je ctrl-enter indrukt worden de opdrachten die in de betreffende cell staan uitgevoerd. Druk je shift-enter dan gebeurt datzelfde en ga je door naar de volgende cell."
   ]
  },
  {
   "cell_type": "code",
   "execution_count": 1,
   "metadata": {},
   "outputs": [
    {
     "data": {
      "text/plain": [
       "7"
      ]
     },
     "execution_count": 1,
     "metadata": {},
     "output_type": "execute_result"
    }
   ],
   "source": [
    "# Deze regel doet dus verder niks. Ik kan hier wel zeggen dat ik in de komende regel een simpele optelling ga doen.\n",
    "3+4"
   ]
  },
  {
   "cell_type": "markdown",
   "metadata": {},
   "source": [
    "Zoals je ziet voert Python braaf je rekensommetje uit en geeft hij het antwoord direct onder de code waar je staat. Het tonen van het resultaat gebeurt echter wel alleen voor de laatste regel. Dingen die in andere regels staan gebeuren wel, maar omdat Python nog niet klaar is met al je opdrachten wordt er niks getoond, behalve als dat expliciet gezegd wordt:"
   ]
  },
  {
   "cell_type": "code",
   "execution_count": 4,
   "metadata": {},
   "outputs": [
    {
     "name": "stdout",
     "output_type": "stream",
     "text": [
      "8\n",
      "a = 16\n"
     ]
    },
    {
     "data": {
      "text/plain": [
       "9"
      ]
     },
     "execution_count": 4,
     "metadata": {},
     "output_type": "execute_result"
    }
   ],
   "source": [
    "3+2\n",
    "a = 2**4\n",
    "print(2+6)\n",
    "44\n",
    "3*7\n",
    "print(\"a =\", a)\n",
    "1+8"
   ]
  },
  {
   "cell_type": "markdown",
   "metadata": {},
   "source": [
    "Ook na het uitvoeren van de cell weet Python nog wat gedefinieerde variabelen inhouden:"
   ]
  },
  {
   "cell_type": "code",
   "execution_count": 6,
   "metadata": {},
   "outputs": [
    {
     "data": {
      "text/plain": [
       "16"
      ]
     },
     "execution_count": 6,
     "metadata": {},
     "output_type": "execute_result"
    }
   ],
   "source": [
    "a"
   ]
  },
  {
   "cell_type": "markdown",
   "metadata": {},
   "source": [
    "## Strings, indexing en het gebruik van functies\n",
    "\n",
    "In Python kun je niet alleen met getallen werken, maar ook met strings: tekst. We gebruiken strings hier om te kijken naar hoe Python omgaat met indices en hoe je functies gebruikt."
   ]
  },
  {
   "cell_type": "code",
   "execution_count": 1,
   "metadata": {},
   "outputs": [],
   "source": [
    "mijn_eerste_string = \"Python is echt heel leuk!\""
   ]
  },
  {
   "cell_type": "code",
   "execution_count": 2,
   "metadata": {},
   "outputs": [
    {
     "name": "stdout",
     "output_type": "stream",
     "text": [
      "Python is echt heel leuk!\n"
     ]
    }
   ],
   "source": [
    "# Deze string kun je in je scherm laten printen\n",
    "print(mijn_eerste_string)"
   ]
  },
  {
   "cell_type": "code",
   "execution_count": null,
   "metadata": {},
   "outputs": [],
   "source": []
  }
 ],
 "metadata": {
  "kernelspec": {
   "display_name": "Python 3",
   "language": "python",
   "name": "python3"
  },
  "language_info": {
   "codemirror_mode": {
    "name": "ipython",
    "version": 3
   },
   "file_extension": ".py",
   "mimetype": "text/x-python",
   "name": "python",
   "nbconvert_exporter": "python",
   "pygments_lexer": "ipython3",
   "version": "3.6.6"
  }
 },
 "nbformat": 4,
 "nbformat_minor": 2
}
