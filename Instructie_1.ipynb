{
 "cells": [
  {
   "cell_type": "markdown",
   "metadata": {},
   "source": [
    "# Python vanuit Jupyter notebooks\n",
    "\n",
    "Dit notebook is onderdeel van een serie van 3 x 4 notebooks, die horen bij de introductiecursus Python voor data science. Deze beslaat 4 avonden die ieder hun eigen thema hebben:\n",
    "\n",
    "1.) **Een introductie** tot de programmeertaal **Python** en de **Jupyter** Notebooks/Labs waarin we Python gebruiken.\n",
    "\n",
    "2.) Werken met **data** in Python. Data science heet data science omdat het over data gaat. Dus het lezen, bewerken en verwerken van data staat voorop.\n",
    "\n",
    "3.) **Visualisatie**. Niet alleen omdat het je resultaten mooi en overzichtelijk weergeeft, maar ook omdat je je data beter leert begrijpen.\n",
    "\n",
    "4.) **Machine learning** is tegenwoordig niet meer weg te denken uit de toolbox van de data scientist, dus een gedegen introductie tot dit waanzinnig interessante vakgebied kan niet ontbreken!\n",
    "\n",
    "Voor elk van de onderdelen bestaat een instructie notebook. Deze gaat vergezeld door een presentatie tijdens de cursus en kan gebruikt worden als naslagwerk, om te zien hoe bepaalde dingen werken en, als je wil, ook om daarmee te experimenteren. Het is vaak kort en bondig, maar geeft je wellicht genoeg houvast om met de documentatie binnen Python en online op gang te komen. De opgaven in de corresponderende notebooks zijn opgaven die de stof uit de instructienotebooks verrijken. Die zullen grotendeels op de cursusavonden gedaan worden, maar het is aan te raden om deze thuis ook te bekijken, om te zorgen dat je niks mist. De huiswerknotebooks bevatten nog extra opgaven voor als je meer wil oefenen. Daarnaast bevatten ze wat extra uitdaging voor wie daar aan toe is. Veel van de onderwerpen die we behandelen in de 4 cursusbijeenkomsten zijn slechts het topje van de ijsberg waar het neerkomt op diepgang van het materiaal en de extra opgaven geven je een indruk van wat er nog meer achter de horizon ligt.\n",
    "\n",
    "De series met opgaven en huiswerk bevatten dus een hoop opgaven. Zelden heeft een opgave slechts 1 correct antwoord. Je kunt dingen oplossen zoals je zelf wil. Mocht je vastlopen, je uitwerkingen willen controleren, of zien hoe ik de opgave zou hebben aangepakt, dan zijn er uitwerkingen beschikbaar. Deze zijn in het notebook in te laden en geven je een manier van aanpakken van de opgave in een cell die je zo moet kunnen uitvoeren. Wil je feedback op je eigen methode of heb je nog vragen over, schroom dan niet om deze te mailen naar datascience@marcelhaas.com.\n",
    "\n",
    "Veel plezier!\n"
   ]
  },
  {
   "cell_type": "markdown",
   "metadata": {},
   "source": [
    "## Python als handig rekenhulpmiddel\n",
    "\n",
    "Vanuit een notebook, of vanuit welke omgeving je Python dan ook gebruikt, kun je korte eenvoudige opdrachten geven die direct een resultaat opleveren. Regels die beginnen met een # zijn \"commentaar\" en worden door Python genegeerd. Wanneer je ctrl-enter indrukt worden de opdrachten die in de betreffende cell staan uitgevoerd. Druk je shift-enter dan gebeurt datzelfde en ga je door naar de volgende cell."
   ]
  },
  {
   "cell_type": "code",
   "execution_count": 1,
   "metadata": {},
   "outputs": [
    {
     "data": {
      "text/plain": [
       "7"
      ]
     },
     "execution_count": 1,
     "metadata": {},
     "output_type": "execute_result"
    }
   ],
   "source": [
    "# Deze regel doet dus verder niks. Ik kan hier wel zeggen dat ik in de komende regel een simpele optelling ga doen.\n",
    "3+4"
   ]
  },
  {
   "cell_type": "markdown",
   "metadata": {},
   "source": [
    "Zoals je ziet voert Python braaf je rekensommetje uit en geeft hij het antwoord direct onder de code waar je staat. Het tonen van het resultaat gebeurt echter wel alleen voor de laatste regel. Dingen die in andere regels staan gebeuren wel, maar omdat Python nog niet klaar is met al je opdrachten wordt er niks getoond, behalve als dat expliciet gezegd wordt:"
   ]
  },
  {
   "cell_type": "code",
   "execution_count": 19,
   "metadata": {},
   "outputs": [
    {
     "name": "stdout",
     "output_type": "stream",
     "text": [
      "8\n",
      "a = 16\n"
     ]
    },
    {
     "data": {
      "text/plain": [
       "9"
      ]
     },
     "execution_count": 19,
     "metadata": {},
     "output_type": "execute_result"
    }
   ],
   "source": [
    "3+2\n",
    "a = 2**4\n",
    "print(2+6)\n",
    "44\n",
    "3*7\n",
    "print(\"a =\", a)\n",
    "1+8"
   ]
  },
  {
   "cell_type": "markdown",
   "metadata": {},
   "source": [
    "Ook na het uitvoeren van de cell weet Python nog wat gedefinieerde variabelen inhouden:"
   ]
  },
  {
   "cell_type": "code",
   "execution_count": 20,
   "metadata": {},
   "outputs": [
    {
     "data": {
      "text/plain": [
       "16"
      ]
     },
     "execution_count": 20,
     "metadata": {},
     "output_type": "execute_result"
    }
   ],
   "source": [
    "a"
   ]
  },
  {
   "cell_type": "markdown",
   "metadata": {},
   "source": [
    "## Strings, indexing en het gebruik van functies\n",
    "\n",
    "In Python kun je niet alleen met getallen werken, maar ook met strings: tekst. We gebruiken strings hier om te kijken naar hoe Python omgaat met indices en hoe je functies gebruikt."
   ]
  },
  {
   "cell_type": "code",
   "execution_count": 1,
   "metadata": {},
   "outputs": [],
   "source": [
    "mijn_eerste_string = \"Python is echt heel leuk!\""
   ]
  },
  {
   "cell_type": "code",
   "execution_count": 2,
   "metadata": {},
   "outputs": [
    {
     "name": "stdout",
     "output_type": "stream",
     "text": [
      "Python is echt heel leuk!\n"
     ]
    }
   ],
   "source": [
    "# Deze string kun je in je scherm laten printen\n",
    "print(mijn_eerste_string)"
   ]
  },
  {
   "cell_type": "markdown",
   "metadata": {},
   "source": [
    "Indexering in Python is 0-based, dus het eerste element heeft index 0, het tweede 1 en zo verder. Met negatieve indices tel je de andere kant op, zodat index -1 overeenkomt met het laatste getal. Deze methode werkt voor strings, maar ook voor \"containers\" van data zoals we die verderop zullen zien. Voorbeelden:"
   ]
  },
  {
   "cell_type": "code",
   "execution_count": 10,
   "metadata": {},
   "outputs": [
    {
     "name": "stdout",
     "output_type": "stream",
     "text": [
      "Het eerste teken in de string heeft index 0 en is P\n",
      "Het laatste teken in de string heeft index -1 (of de lengte van de string -1) en is ! !\n"
     ]
    }
   ],
   "source": [
    "print(\"Het eerste teken in de string heeft index 0 en is\", mijn_eerste_string[0])\n",
    "print(\"Het laatste teken in de string heeft index -1 (of de lengte van de string -1) en is\", mijn_eerste_string[-1], mijn_eerste_string[len(mijn_eerste_string)-1])"
   ]
  },
  {
   "cell_type": "markdown",
   "metadata": {},
   "source": [
    "Slicing is het nemen van een stuk van de string, en wordt gegeven door een begin en eindpunt gescheiden door een dubbele punt (:). Het eindpunt zelf wordt *niet* meegenomen. De stapgrootte kun je aangeven achter nog een dubbele punt, deze is standaard uiteraard 1:"
   ]
  },
  {
   "cell_type": "code",
   "execution_count": 9,
   "metadata": {},
   "outputs": [
    {
     "name": "stdout",
     "output_type": "stream",
     "text": [
      "Het eerste teken in de string heeft index 0. Die en alle even elementen zijn Pto seh ellu!\n",
      "Juist alle oneven vind je zo: yhni cthe ek\n",
      "Van element 2 tot en met 11 in stapjes van 3: tnsc\n"
     ]
    }
   ],
   "source": [
    "print(\"Het eerste teken in de string heeft index 0. Die en alle even elementen zijn\", mijn_eerste_string[0::2])\n",
    "print(\"Juist alle oneven vind je zo:\", mijn_eerste_string[1::2])\n",
    "print(\"Van element 2 tot en met 11 in stapjes van 3:\", mijn_eerste_string[2:12:3])"
   ]
  },
  {
   "cell_type": "markdown",
   "metadata": {},
   "source": [
    "Je ziet hier veevuldig het gebruik van print(). Zo'n statement dat eindigt op haakjes, al dan niet met iets ertussen is een **functie**. Zo er bestaan er nog veel meer. "
   ]
  },
  {
   "cell_type": "markdown",
   "metadata": {},
   "source": [
    "## In Python zitten functionaliteiten om je te helpen en de documentatie te raadplegen ingebouwd.\n",
    "\n",
    "De help functionaliteiten van Python zijn direct vanuit notebooks toegankelijk. Zo kun je alt-tab indrukken als je tussen de haakjes van de functie staat, of op de volgende manier de help raadplegen: "
   ]
  },
  {
   "cell_type": "code",
   "execution_count": 11,
   "metadata": {},
   "outputs": [
    {
     "data": {
      "text/plain": [
       "\u001b[0;31mDocstring:\u001b[0m\n",
       "print(value, ..., sep=' ', end='\\n', file=sys.stdout, flush=False)\n",
       "\n",
       "Prints the values to a stream, or to sys.stdout by default.\n",
       "Optional keyword arguments:\n",
       "file:  a file-like object (stream); defaults to the current sys.stdout.\n",
       "sep:   string inserted between values, default a space.\n",
       "end:   string appended after the last value, default a newline.\n",
       "flush: whether to forcibly flush the stream.\n",
       "\u001b[0;31mType:\u001b[0m      builtin_function_or_method\n"
      ]
     },
     "metadata": {},
     "output_type": "display_data"
    }
   ],
   "source": [
    "?print"
   ]
  },
  {
   "cell_type": "markdown",
   "metadata": {},
   "source": [
    "Zoals je ziet staat daar precies hoe je hem kunt aanroepen, wat je extra opties zijn en wat de functie dan gaat doen. Maak hier gebruik van tijdens het experimenteren!"
   ]
  },
  {
   "cell_type": "markdown",
   "metadata": {},
   "source": [
    "## Intermezzo: Alles in Python is een \"object\"\n",
    "\n",
    "Wat het precies betekent dat alles in Python een \"object\" is, is niet heel belangrijk op dit punt. Wat er wel erg handig aan is, is om te weten dat er allerlei \"attributen\" en \"methoden\" bestaan bij een object. Attributen zijn een soort \"extra info\" over het object (hier zien we later voorbeelden van). Methoden zijn functies die op het object kunnen worden losgelaten (bijvoorbeeld: maak van alle letters in de string hoofdletters). Het uitvoeren van een methode gebeurt dus net zoals bij andere functies ook met twee haakjes.\n",
    "\n",
    "Om te zien wat er allemaal beschikbaar is voor het object in kwestie kun je de naam van het object typen dan een punt en dan tab (deze probeert \"tab completion\" en geeft alle opties). Voorbeeld:"
   ]
  },
  {
   "cell_type": "code",
   "execution_count": 29,
   "metadata": {},
   "outputs": [
    {
     "name": "stdout",
     "output_type": "stream",
     "text": [
      "<built-in method upper of str object at 0x7f31141dd0d0>\n",
      "PYTHON IS ECHT HEEL LEUK!\n"
     ]
    },
    {
     "data": {
      "text/plain": [
       "\u001b[0;31mDocstring:\u001b[0m\n",
       "S.upper() -> str\n",
       "\n",
       "Return a copy of S converted to uppercase.\n",
       "\u001b[0;31mType:\u001b[0m      builtin_function_or_method\n"
      ]
     },
     "metadata": {},
     "output_type": "display_data"
    }
   ],
   "source": [
    "print(mijn_eerste_string.upper)\n",
    "print(mijn_eerste_string.upper())\n",
    "?mijn_eerste_string.upper()"
   ]
  },
  {
   "cell_type": "markdown",
   "metadata": {},
   "source": [
    "Iets waar je je bedacht op moet zijn is dat de naam van een variabele eigenlijk een \"pointer\" is naar een object. Dus als je zegt \"a = 5\", dan wordt het object \"5\" aangemaakt in geheugen en de a is een pointer naar dat object. Dit heeft een verassend effect soms:"
   ]
  },
  {
   "cell_type": "code",
   "execution_count": 40,
   "metadata": {},
   "outputs": [
    {
     "name": "stdout",
     "output_type": "stream",
     "text": [
      "[0, 0, 0, 0, 0, 5, 0, 0, 0]\n",
      "[0, 0, 0, 0, 0, 5, 0, 0, 0]\n",
      "True\n",
      "True\n"
     ]
    }
   ],
   "source": [
    "v = [0,0,0,0,0,0,0,0,0]\n",
    "vec = v\n",
    "vec[5] = 5\n",
    "\n",
    "print(vec)\n",
    "print(v)\n",
    "\n",
    "print(vec == v)\n",
    "print(vec is v)"
   ]
  },
  {
   "cell_type": "code",
   "execution_count": 42,
   "metadata": {},
   "outputs": [
    {
     "name": "stdout",
     "output_type": "stream",
     "text": [
      "[0, 0, 0, 0, 0, 5, 0, 0, 0]\n",
      "[0, 0, 0, 0, 0, 0, 0, 0, 0]\n",
      "False\n",
      "True\n",
      "False\n",
      "False\n"
     ]
    }
   ],
   "source": [
    "v = [0,0,0,0,0,0,0,0,0]\n",
    "vec = v[:]\n",
    "vec[5] = 5\n",
    "w = [0, 0, 0, 0, 0, 5, 0, 0, 0]\n",
    "\n",
    "print(vec)\n",
    "print(v)\n",
    "\n",
    "print(vec == v)\n",
    "print(vec == w)\n",
    "print(vec is v)\n",
    "print(vec is w)"
   ]
  },
  {
   "cell_type": "markdown",
   "metadata": {},
   "source": [
    "In veel gevallen waarin je rekent met arrays van getallen en tabellen is dit ongewenst gedrag en is in de definitie van containers die we daar later voor gaan gebruiken ingebouwd dat een nieuwe verwijzing een kopie maakt, of in technische taal: een tweede instantie van hetzelfde object. In de praktijk zul je je hier dus niet zoveel zorgen meer over hoeven maken, maar het is goed om het in je achterhoofd te hebben."
   ]
  },
  {
   "cell_type": "markdown",
   "metadata": {},
   "source": [
    "## Containers: lists en dictionaries\n",
    "\n",
    "Een variabelenaam per getal is natuurlijk niet handog meer als je met grotehoeveelheden getallen tegelijk werkt. Daarvoor stoppen we getallen die bij elkaar horen in een \"container\". Lists en dictionaries zijn daar voorbeelden van.\n",
    "\n",
    "Een list is gewoon een lijst van allerlei variabelen. Hierin kun je echt alles stoppen: floating point getallen, integers, strings, andere lists en dictionaries en alle dingen die we later nog tegenkomen. Ook hierop kun je indices gebruiken zoals bij strings:"
   ]
  },
  {
   "cell_type": "code",
   "execution_count": 30,
   "metadata": {},
   "outputs": [
    {
     "name": "stdout",
     "output_type": "stream",
     "text": [
      "1\n",
      "['lijst', 'woorden']\n"
     ]
    }
   ],
   "source": [
    "mijn_eerste_list = [1, 2.3, \"stukje tekst\", [\"een\", \"lijst\", \"woorden\"]]\n",
    "print(mijn_eerste_list[0])\n",
    "print(mijn_eerste_list[-1][1:])"
   ]
  },
  {
   "cell_type": "code",
   "execution_count": null,
   "metadata": {},
   "outputs": [],
   "source": []
  },
  {
   "cell_type": "code",
   "execution_count": null,
   "metadata": {},
   "outputs": [],
   "source": []
  }
 ],
 "metadata": {
  "kernelspec": {
   "display_name": "Python 3",
   "language": "python",
   "name": "python3"
  },
  "language_info": {
   "codemirror_mode": {
    "name": "ipython",
    "version": 3
   },
   "file_extension": ".py",
   "mimetype": "text/x-python",
   "name": "python",
   "nbconvert_exporter": "python",
   "pygments_lexer": "ipython3",
   "version": "3.6.6"
  }
 },
 "nbformat": 4,
 "nbformat_minor": 2
}
