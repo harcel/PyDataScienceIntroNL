{
 "cells": [
  {
   "cell_type": "markdown",
   "metadata": {},
   "source": [
    "# Python vanuit Jupyter notebooks\n",
    "\n",
    "Dit notebook is onderdeel van een serie van 3 x 4 notebooks, die horen bij de introductiecursus Python voor data science. Deze beslaat 4 avonden die ieder hun eigen thema hebben:\n",
    "\n",
    "1.) **Een introductie** tot de programmeertaal **Python** en de **Jupyter** Notebooks/Labs waarin we Python gebruiken.\n",
    "\n",
    "2.) Werken met **data** in Python. Data science heet data science omdat het over data gaat. Dus het lezen, bewerken en verwerken van data staat voorop.\n",
    "\n",
    "3.) **Visualisatie**. Niet alleen omdat het je resultaten mooi en overzichtelijk weergeeft, maar ook omdat je je data beter leert begrijpen.\n",
    "\n",
    "4.) **Machine learning** is tegenwoordig niet meer weg te denken uit de toolbox van de data scientist, dus een gedegen introductie tot dit waanzinnig interessante vakgebied kan niet ontbreken!\n",
    "\n",
    "Voor elk van de onderdelen bestaat een instructie notebook. Deze gaat vergezeld door een presentatie tijdens de cursus en kan gebruikt worden als naslagwerk, om te zien hoe bepaalde dingen werken en, als je wil, ook om daarmee te experimenteren. Het is vaak kort en bondig, maar geeft je wellicht genoeg houvast om met de documentatie binnen Python en online op gang te komen. De opgaven in de corresponderende notebooks zijn opgaven die de stof uit de instructienotebooks verrijken. Die zullen grotendeels op de cursusavonden gedaan worden, maar het is aan te raden om deze thuis ook te bekijken, om te zorgen dat je niks mist. De huiswerknotebooks bevatten nog extra opgaven voor als je meer wil oefenen. Daarnaast bevatten ze wat extra uitdaging voor wie daar aan toe is. Veel van de onderwerpen die we behandelen in de 4 cursusbijeenkomsten zijn slechts het topje van de ijsberg waar het neerkomt op diepgang van het materiaal en de extra opgaven geven je een indruk van wat er nog meer achter de horizon ligt.\n",
    "\n",
    "De series met opgaven en huiswerk bevatten dus een hoop opgaven. Zelden heeft een opgave slechts 1 correct antwoord. Je kunt dingen oplossen zoals je zelf wil. Mocht je vastlopen, je uitwerkingen willen controleren, of zien hoe ik de opgave zou hebben aangepakt, dan zijn er uitwerkingen beschikbaar. Deze zijn in het notebook in te laden en geven je een manier van aanpakken van de opgave in een cell die je zo moet kunnen uitvoeren. Wil je feedback op je eigen methode of heb je nog vragen over, schroom dan niet om deze te mailen naar datascience@marcelhaas.com.\n",
    "\n",
    "Veel plezier!\n"
   ]
  },
  {
   "cell_type": "markdown",
   "metadata": {},
   "source": [
    "## Python als handig rekenhulpmiddel\n",
    "\n",
    "Vanuit een notebook, of vanuit welke omgeving je Python dan ook gebruikt, kun je korte eenvoudige opdrachten geven die direct een resultaat opleveren. Regels die beginnen met een # zijn \"commentaar\" en worden door Python genegeerd. Wanneer je ctrl-enter indrukt worden de opdrachten die in de betreffende cell staan uitgevoerd. Druk je shift-enter dan gebeurt datzelfde en ga je door naar de volgende cell."
   ]
  },
  {
   "cell_type": "code",
   "execution_count": 1,
   "metadata": {},
   "outputs": [
    {
     "data": {
      "text/plain": [
       "7"
      ]
     },
     "execution_count": 1,
     "metadata": {},
     "output_type": "execute_result"
    }
   ],
   "source": [
    "# Deze regel doet dus verder niks. Ik kan hier wel zeggen dat ik in de komende regel een simpele optelling ga doen.\n",
    "3+4"
   ]
  },
  {
   "cell_type": "markdown",
   "metadata": {},
   "source": [
    "Zoals je ziet voert Python braaf je rekensommetje uit en geeft hij het antwoord direct onder de code waar je staat. Het tonen van het resultaat gebeurt echter wel alleen voor de laatste regel. Dingen die in andere regels staan gebeuren wel, maar omdat Python nog niet klaar is met al je opdrachten wordt er niks getoond, behalve als dat expliciet gezegd wordt:"
   ]
  },
  {
   "cell_type": "code",
   "execution_count": 19,
   "metadata": {},
   "outputs": [
    {
     "name": "stdout",
     "output_type": "stream",
     "text": [
      "8\n",
      "a = 16\n"
     ]
    },
    {
     "data": {
      "text/plain": [
       "9"
      ]
     },
     "execution_count": 19,
     "metadata": {},
     "output_type": "execute_result"
    }
   ],
   "source": [
    "3+2\n",
    "a = 2**4\n",
    "print(2+6)\n",
    "44\n",
    "3*7\n",
    "print(\"a =\", a)\n",
    "1+8"
   ]
  },
  {
   "cell_type": "markdown",
   "metadata": {},
   "source": [
    "Ook na het uitvoeren van de cell weet Python nog wat gedefinieerde variabelen inhouden:"
   ]
  },
  {
   "cell_type": "code",
   "execution_count": 20,
   "metadata": {},
   "outputs": [
    {
     "data": {
      "text/plain": [
       "16"
      ]
     },
     "execution_count": 20,
     "metadata": {},
     "output_type": "execute_result"
    }
   ],
   "source": [
    "a"
   ]
  },
  {
   "cell_type": "markdown",
   "metadata": {},
   "source": [
    "## Strings, indexing en het gebruik van functies\n",
    "\n",
    "In Python kun je niet alleen met getallen werken, maar ook met strings: tekst. We gebruiken strings hier om te kijken naar hoe Python omgaat met indices en hoe je functies gebruikt."
   ]
  },
  {
   "cell_type": "code",
   "execution_count": 1,
   "metadata": {},
   "outputs": [],
   "source": [
    "mijn_eerste_string = \"Python is echt heel leuk!\""
   ]
  },
  {
   "cell_type": "code",
   "execution_count": 2,
   "metadata": {},
   "outputs": [
    {
     "name": "stdout",
     "output_type": "stream",
     "text": [
      "Python is echt heel leuk!\n"
     ]
    }
   ],
   "source": [
    "# Deze string kun je in je scherm laten printen\n",
    "print(mijn_eerste_string)"
   ]
  },
  {
   "cell_type": "markdown",
   "metadata": {},
   "source": [
    "Indexering in Python is 0-based, dus het eerste element heeft index 0, het tweede 1 en zo verder. Met negatieve indices tel je de andere kant op, zodat index -1 overeenkomt met het laatste getal. Deze methode werkt voor strings, maar ook voor \"containers\" van data zoals we die verderop zullen zien. Voorbeelden:"
   ]
  },
  {
   "cell_type": "code",
   "execution_count": 10,
   "metadata": {},
   "outputs": [
    {
     "name": "stdout",
     "output_type": "stream",
     "text": [
      "Het eerste teken in de string heeft index 0 en is P\n",
      "Het laatste teken in de string heeft index -1 (of de lengte van de string -1) en is ! !\n"
     ]
    }
   ],
   "source": [
    "print(\"Het eerste teken in de string heeft index 0 en is\", mijn_eerste_string[0])\n",
    "print(\"Het laatste teken in de string heeft index -1 (of de lengte van de string -1) en is\", mijn_eerste_string[-1], mijn_eerste_string[len(mijn_eerste_string)-1])"
   ]
  },
  {
   "cell_type": "markdown",
   "metadata": {},
   "source": [
    "Slicing is het nemen van een stuk van de string, en wordt gegeven door een begin en eindpunt gescheiden door een dubbele punt (:). Het eindpunt zelf wordt *niet* meegenomen. De stapgrootte kun je aangeven achter nog een dubbele punt, deze is standaard uiteraard 1:"
   ]
  },
  {
   "cell_type": "code",
   "execution_count": 9,
   "metadata": {},
   "outputs": [
    {
     "name": "stdout",
     "output_type": "stream",
     "text": [
      "Het eerste teken in de string heeft index 0. Die en alle even elementen zijn Pto seh ellu!\n",
      "Juist alle oneven vind je zo: yhni cthe ek\n",
      "Van element 2 tot en met 11 in stapjes van 3: tnsc\n"
     ]
    }
   ],
   "source": [
    "print(\"Het eerste teken in de string heeft index 0. Die en alle even elementen zijn\", mijn_eerste_string[0::2])\n",
    "print(\"Juist alle oneven vind je zo:\", mijn_eerste_string[1::2])\n",
    "print(\"Van element 2 tot en met 11 in stapjes van 3:\", mijn_eerste_string[2:12:3])"
   ]
  },
  {
   "cell_type": "markdown",
   "metadata": {},
   "source": [
    "Je ziet hier veevuldig het gebruik van print(). Zo'n statement dat eindigt op haakjes, al dan niet met iets ertussen is een **functie**. Zo er bestaan er nog veel meer. "
   ]
  },
  {
   "cell_type": "markdown",
   "metadata": {},
   "source": [
    "## In Python zitten functionaliteiten om je te helpen en de documentatie te raadplegen ingebouwd.\n",
    "\n",
    "De help functionaliteiten van Python zijn direct vanuit notebooks toegankelijk. Zo kun je alt-tab indrukken als je tussen de haakjes van de functie staat, of op de volgende manier de help raadplegen: "
   ]
  },
  {
   "cell_type": "code",
   "execution_count": 11,
   "metadata": {},
   "outputs": [
    {
     "data": {
      "text/plain": [
       "\u001b[0;31mDocstring:\u001b[0m\n",
       "print(value, ..., sep=' ', end='\\n', file=sys.stdout, flush=False)\n",
       "\n",
       "Prints the values to a stream, or to sys.stdout by default.\n",
       "Optional keyword arguments:\n",
       "file:  a file-like object (stream); defaults to the current sys.stdout.\n",
       "sep:   string inserted between values, default a space.\n",
       "end:   string appended after the last value, default a newline.\n",
       "flush: whether to forcibly flush the stream.\n",
       "\u001b[0;31mType:\u001b[0m      builtin_function_or_method\n"
      ]
     },
     "metadata": {},
     "output_type": "display_data"
    }
   ],
   "source": [
    "?print"
   ]
  },
  {
   "cell_type": "markdown",
   "metadata": {},
   "source": [
    "Zoals je ziet staat daar precies hoe je hem kunt aanroepen, wat je extra opties zijn en wat de functie dan gaat doen. Maak hier gebruik van tijdens het experimenteren!"
   ]
  },
  {
   "cell_type": "markdown",
   "metadata": {},
   "source": [
    "## Containers: lists en dictionaries\n",
    "\n",
    "Een variabelenaam per getal is natuurlijk niet handog meer als je met grotehoeveelheden getallen tegelijk werkt. Daarvoor stoppen we getallen die bij elkaar horen in een \"container\". Lists en dictionaries zijn daar voorbeelden van.\n",
    "\n",
    "Een list is gewoon een lijst van allerlei variabelen. Hierin kun je echt alles stoppen: floating point getallen, integers, strings, andere lists en dictionaries en alle dingen die we later nog tegenkomen. Ook hierop kun je indices gebruiken zoals bij strings:"
   ]
  },
  {
   "cell_type": "code",
   "execution_count": 30,
   "metadata": {},
   "outputs": [
    {
     "name": "stdout",
     "output_type": "stream",
     "text": [
      "1\n",
      "['lijst', 'woorden']\n"
     ]
    }
   ],
   "source": [
    "mijn_eerste_list = [1, 2.3, \"stukje tekst\", [\"een\", \"lijst\", \"woorden\"]]\n",
    "print(mijn_eerste_list[0])\n",
    "print(mijn_eerste_list[-1][1:])"
   ]
  },
  {
   "cell_type": "markdown",
   "metadata": {},
   "source": [
    "Lists hebben een volgorde, dus de index van een bepaald element is vast. Dictionaries zijn wat dat betreft heel anders. Ze bestaan uit elementen die allemaal een \"key/value\"-paar zijn. De key is de naam van een element in de dictionary (vergelijkbaar met een index) en de value is de waarde. Net als in lists kunnen de waarden allerlei typen data door elkaar zijn. Keys kunnen gemaakt worden door getallen te gebruiken, maar ook strings en tuples. Tuples hebben we nog niet gezien maar zijn lists die niet te veranderen zijn (\"immutable\"):"
   ]
  },
  {
   "cell_type": "code",
   "execution_count": 2,
   "metadata": {},
   "outputs": [
    {
     "name": "stdout",
     "output_type": "stream",
     "text": [
      "(1, 2, 3.14, 'woord')\n",
      "1\n"
     ]
    },
    {
     "ename": "TypeError",
     "evalue": "'tuple' object does not support item assignment",
     "output_type": "error",
     "traceback": [
      "\u001b[0;31m---------------------------------------------------------------------------\u001b[0m",
      "\u001b[0;31mTypeError\u001b[0m                                 Traceback (most recent call last)",
      "\u001b[0;32m<ipython-input-2-15ab614d8925>\u001b[0m in \u001b[0;36m<module>\u001b[0;34m()\u001b[0m\n\u001b[1;32m      2\u001b[0m \u001b[0mprint\u001b[0m\u001b[0;34m(\u001b[0m\u001b[0mmijn_eerste_tuple\u001b[0m\u001b[0;34m)\u001b[0m\u001b[0;34m\u001b[0m\u001b[0m\n\u001b[1;32m      3\u001b[0m \u001b[0mprint\u001b[0m\u001b[0;34m(\u001b[0m\u001b[0mmijn_eerste_tuple\u001b[0m\u001b[0;34m[\u001b[0m\u001b[0;36m0\u001b[0m\u001b[0;34m]\u001b[0m\u001b[0;34m)\u001b[0m\u001b[0;34m\u001b[0m\u001b[0m\n\u001b[0;32m----> 4\u001b[0;31m \u001b[0mmijn_eerste_tuple\u001b[0m\u001b[0;34m[\u001b[0m\u001b[0;36m1\u001b[0m\u001b[0;34m]\u001b[0m \u001b[0;34m=\u001b[0m \u001b[0;36m17\u001b[0m\u001b[0;34m\u001b[0m\u001b[0m\n\u001b[0m",
      "\u001b[0;31mTypeError\u001b[0m: 'tuple' object does not support item assignment"
     ]
    }
   ],
   "source": [
    "mijn_eerste_tuple = (1, 2, 3.14, 'woord')\n",
    "print(mijn_eerste_tuple)\n",
    "print(mijn_eerste_tuple[0])\n",
    "mijn_eerste_tuple[1] = 17"
   ]
  },
  {
   "cell_type": "code",
   "execution_count": 3,
   "metadata": {},
   "outputs": [],
   "source": [
    "mijn_eerste_dict = {'aap':'monkey', 'kip':'chicken', 3:'three', 'three':3, 'dict':{1:1, 2:2}}"
   ]
  },
  {
   "cell_type": "markdown",
   "metadata": {},
   "source": [
    "Dictionaries zijn (voor technici) \"hash tables\" en een lookup is bijzonder snel, ook in heel grote dictionaries. Ook het testen van het bestaan van een key in een dictionary is eenvoudig en snel:"
   ]
  },
  {
   "cell_type": "code",
   "execution_count": 5,
   "metadata": {},
   "outputs": [
    {
     "name": "stdout",
     "output_type": "stream",
     "text": [
      "3\n"
     ]
    },
    {
     "data": {
      "text/plain": [
       "True"
      ]
     },
     "execution_count": 5,
     "metadata": {},
     "output_type": "execute_result"
    }
   ],
   "source": [
    "print(mijn_eerste_dict['three'])\n",
    "'kip' in mijn_eerste_dict"
   ]
  },
  {
   "cell_type": "markdown",
   "metadata": {},
   "source": [
    "## Intermezzo: Alles in Python is een \"object\"\n",
    "\n",
    "Wat het precies betekent dat alles in Python een \"object\" is, is niet heel belangrijk op dit punt. Wat er wel erg handig aan is, is om te weten dat er allerlei \"attributen\" en \"methoden\" bestaan bij een object. Attributen zijn een soort \"extra info\" over het object (hier zien we later voorbeelden van). Methoden zijn functies die op het object kunnen worden losgelaten (bijvoorbeeld: maak van alle letters in de string hoofdletters). Het uitvoeren van een methode gebeurt dus net zoals bij andere functies ook met twee haakjes.\n",
    "\n",
    "Om te zien wat er allemaal beschikbaar is voor het object in kwestie kun je de naam van het object typen dan een punt en dan tab (deze probeert \"tab completion\" en geeft alle opties). Voorbeeld:"
   ]
  },
  {
   "cell_type": "code",
   "execution_count": 29,
   "metadata": {},
   "outputs": [
    {
     "name": "stdout",
     "output_type": "stream",
     "text": [
      "<built-in method upper of str object at 0x7f31141dd0d0>\n",
      "PYTHON IS ECHT HEEL LEUK!\n"
     ]
    },
    {
     "data": {
      "text/plain": [
       "\u001b[0;31mDocstring:\u001b[0m\n",
       "S.upper() -> str\n",
       "\n",
       "Return a copy of S converted to uppercase.\n",
       "\u001b[0;31mType:\u001b[0m      builtin_function_or_method\n"
      ]
     },
     "metadata": {},
     "output_type": "display_data"
    }
   ],
   "source": [
    "print(mijn_eerste_string.upper)\n",
    "print(mijn_eerste_string.upper())\n",
    "?mijn_eerste_string.upper()"
   ]
  },
  {
   "cell_type": "markdown",
   "metadata": {},
   "source": [
    "Iets waar je je bedacht op moet zijn is dat de naam van een variabele eigenlijk een \"pointer\" is naar een object. Dus als je zegt \"a = 5\", dan wordt het object \"5\" aangemaakt in geheugen en de a is een pointer naar dat object. Dit heeft een verassend effect soms:"
   ]
  },
  {
   "cell_type": "code",
   "execution_count": 40,
   "metadata": {},
   "outputs": [
    {
     "name": "stdout",
     "output_type": "stream",
     "text": [
      "[0, 0, 0, 0, 0, 5, 0, 0, 0]\n",
      "[0, 0, 0, 0, 0, 5, 0, 0, 0]\n",
      "True\n",
      "True\n"
     ]
    }
   ],
   "source": [
    "v = [0,0,0,0,0,0,0,0,0]\n",
    "vec = v\n",
    "vec[5] = 5\n",
    "\n",
    "print(vec)\n",
    "print(v)\n",
    "\n",
    "print(vec == v)\n",
    "print(vec is v)"
   ]
  },
  {
   "cell_type": "code",
   "execution_count": 42,
   "metadata": {},
   "outputs": [
    {
     "name": "stdout",
     "output_type": "stream",
     "text": [
      "[0, 0, 0, 0, 0, 5, 0, 0, 0]\n",
      "[0, 0, 0, 0, 0, 0, 0, 0, 0]\n",
      "False\n",
      "True\n",
      "False\n",
      "False\n"
     ]
    }
   ],
   "source": [
    "v = [0,0,0,0,0,0,0,0,0]\n",
    "vec = v[:]\n",
    "vec[5] = 5\n",
    "w = [0, 0, 0, 0, 0, 5, 0, 0, 0]\n",
    "\n",
    "print(vec)\n",
    "print(v)\n",
    "\n",
    "print(vec == v)\n",
    "print(vec == w)\n",
    "print(vec is v)\n",
    "print(vec is w)"
   ]
  },
  {
   "cell_type": "markdown",
   "metadata": {},
   "source": [
    "In veel gevallen waarin je rekent met arrays van getallen en tabellen is dit ongewenst gedrag en is in de definitie van containers die we daar later voor gaan gebruiken ingebouwd dat een nieuwe verwijzing een kopie maakt, of in technische taal: een tweede instantie van hetzelfde object. In de praktijk zul je je hier dus niet zoveel zorgen meer over hoeven maken, maar het is goed om het in je achterhoofd te hebben."
   ]
  },
  {
   "cell_type": "markdown",
   "metadata": {},
   "source": [
    "## Loops en condities\n",
    "\n",
    "Zoals bij veel programmeertalen kun je ook in Python gebruik maken van loops (door middel van \"for\" en \"while\") en condities (\"if\", \"elif\", \"else\"). For luidt een loop in met een vooraf gedefinieerd start- en eindpunt, while gaat door tot niet meer aan de conditie is voldaan. Bij beide kun je ook uit de loop springen met een break-statement. Het bereik van de code waarover de loop plaatsvindt wordt aangegeven met het indentatieniveau, er is dus geen statement om het eind van de geloopte code aan te geven en er staat niks tussen haakjes. Datzelfde geldt voor condities: als aan de conditie wordt voldaan, dan wordt alle code op 1 indentatieniveau dieper uitgevoerd. Dit scheelt een hoop typewerk en dwingt je tot het schrijven van nette, overzichtelijke code. Er is 1 uitzondering op die regel: als alles wat je in de loop of onder een bepaalde conditie wil doen op 1 regel past, dan kun je het gewoon achter de dubbele punt zetten, op dezelfde regel.\n"
   ]
  },
  {
   "cell_type": "code",
   "execution_count": 12,
   "metadata": {},
   "outputs": [
    {
     "name": "stdout",
     "output_type": "stream",
     "text": [
      "1\n",
      "Ik mag lekker door!\n",
      "2\n",
      "Ik mag lekker door!\n",
      "3\n",
      "Ik mag lekker door!\n",
      "4\n",
      "Ik mag lekker door!\n",
      "5\n",
      "\n",
      "2\n",
      "5\n",
      "8\n",
      "\n",
      "5\n",
      "30\n",
      "155\n"
     ]
    }
   ],
   "source": [
    "for i in (1, 2, 3, 4, 5, 6):\n",
    "    print(i)\n",
    "    if i*2 < 10:\n",
    "        print(\"Ik mag lekker door!\")\n",
    "    elif i*2 > 10:\n",
    "        print(\"Alleen precies tien is wat met deze statements nog niet is afgedekt.\")\n",
    "    else:\n",
    "        break\n",
    "\n",
    "print()\n",
    "\n",
    "for ii in range(2,10,3): print(ii)        \n",
    "\n",
    "print()\n",
    "\n",
    "j = 0\n",
    "while j < 100:\n",
    "    j = (j+1) * 5\n",
    "    print(j)"
   ]
  },
  {
   "cell_type": "markdown",
   "metadata": {},
   "source": [
    "## List comprehension\n",
    "\n",
    "Een efficiente manier om een functie te schrijven die op een list (of andere iterable) werkt en weer een list oplevert, is de list comprehension. Bijna in natuurlijke taal wordt een lijst gedefinieerd met een loop geschreven binnen de rechte haken van de list. Hier volgt een simpele en een iets complexere variant van een list comprehension. Gebruik deze wanneer het kan, dat laat zien dat je een echte Pythonista bent!"
   ]
  },
  {
   "cell_type": "code",
   "execution_count": 4,
   "metadata": {},
   "outputs": [
    {
     "name": "stdout",
     "output_type": "stream",
     "text": [
      "['PPP', 'yyy', 'ttt', 'hhh', 'ooo', 'nnn']\n",
      "[0, 9, 12, 27, 24]\n"
     ]
    }
   ],
   "source": [
    "mooikort = [3*x for x in 'Python']\n",
    "print(mooikort)\n",
    "ingewikkelder = [2*x if not x**2 % 2 else 3*x for x in range(0,15,3)]\n",
    "print(ingewikkelder)"
   ]
  },
  {
   "cell_type": "markdown",
   "metadata": {},
   "source": [
    "## Functies definieren en gebruiken\n",
    "\n",
    "Blokken code met een specifiek doel kun je veranderen in een functie die je dan kunt aanroepen, evetueel met verplichte parameters (ook wel \"arguments\" genoemd, of \"args\", waarvan de volgorde vastligt) en en optionele parameters (ook wel \"keyword arguments\" of \"kwargs\", waarvan de volgorde niet vastligt maar die je bij naam noemt) die eventueel een resultaat teruggeven. In het algemeen ziet de structuur van een functie er als volgt uit:"
   ]
  },
  {
   "cell_type": "code",
   "execution_count": 16,
   "metadata": {},
   "outputs": [
    {
     "name": "stdout",
     "output_type": "stream",
     "text": [
      "28\n",
      "319\n"
     ]
    }
   ],
   "source": [
    "# Het definieren van deze waarden is alleen om de functiedefinitie te laten werken, \n",
    "# in de praktijk kan de functiedefinitie hardcoded waarden hebben.\n",
    "defaultwaarde1 = 1\n",
    "defaultwaarde2 = 2\n",
    "\n",
    "def functienaam(parameter1, parameter2, optionele_parameter1=defaultwaarde1, optionele_parameter2=defaultwaarde2):\n",
    "    \"\"\"Documentatie over de functie in een docstring bovenaan de functie.\"\"\"\n",
    "    \n",
    "    # code die alle input gebruikt\n",
    "    resultaat = parameter1 + parameter2 + optionele_parameter1 + optionele_parameter2\n",
    "    \n",
    "    return resultaat\n",
    "    \n",
    "\n",
    "print(functienaam(12, 13))\n",
    "print(functienaam(100, 200, optionele_parameter2=18))"
   ]
  },
  {
   "cell_type": "code",
   "execution_count": 17,
   "metadata": {},
   "outputs": [
    {
     "data": {
      "text/plain": [
       "\u001b[0;31mSignature:\u001b[0m \u001b[0mfunctienaam\u001b[0m\u001b[0;34m(\u001b[0m\u001b[0mparameter1\u001b[0m\u001b[0;34m,\u001b[0m \u001b[0mparameter2\u001b[0m\u001b[0;34m,\u001b[0m \u001b[0moptionele_parameter1\u001b[0m\u001b[0;34m=\u001b[0m\u001b[0;36m1\u001b[0m\u001b[0;34m,\u001b[0m \u001b[0moptionele_parameter2\u001b[0m\u001b[0;34m=\u001b[0m\u001b[0;36m2\u001b[0m\u001b[0;34m)\u001b[0m\u001b[0;34m\u001b[0m\u001b[0m\n",
       "\u001b[0;31mDocstring:\u001b[0m Documentatie over de functie in een docstring bovenaan de functie.\n",
       "\u001b[0;31mFile:\u001b[0m      ~/work/freelance/PyDataScienceIntroNL/<ipython-input-16-8b97fad5d865>\n",
       "\u001b[0;31mType:\u001b[0m      function\n"
      ]
     },
     "metadata": {},
     "output_type": "display_data"
    }
   ],
   "source": [
    "?functienaam"
   ]
  },
  {
   "cell_type": "markdown",
   "metadata": {},
   "source": [
    "Het gebruik van functies kan op nog veel veelzijger wijze, maar die voeren te ver voor een introductie. Ben je benieuwd, zoek dan vooral de documentatie op!\n",
    "\n",
    "## Functionaliteit importeren\n",
    "\n",
    "Door anderen geschreven functionaliteiten (definities van objecten, variabelen en functies) kunnen worden geimporteerd als ze in een library of package zitten. Dat kan op meerdere manieren:"
   ]
  },
  {
   "cell_type": "code",
   "execution_count": 2,
   "metadata": {},
   "outputs": [],
   "source": [
    "# Importeer 1 functie (sqrt()) uit een package (math):\n",
    "from math import sqrt\n",
    "# De functie sqrt() is nu beschikbaar.\n",
    "\n",
    "# Importeer alles wat in de package math zit:\n",
    "# from math import *\n",
    "# Doe dit nooit, namespaces zijn een goed idee en dit maakt onduidelijk welke functionaliteit in de rest van de code waarvandaan komt.\n",
    "\n",
    "# Importeer een heel package:\n",
    "import math\n",
    "# Alle functionaliteit is nu beschikbaar in de math namespace:\n",
    "wortel9 = math.sqrt(9)\n",
    "\n",
    "# Importeer ene package met kortere naam:\n",
    "import math as m\n",
    "# Alle functionaliteit is nu beschikbaar in de \"m\" namespace:\n",
    "wortel2 = m.sqrt(2)\n"
   ]
  },
  {
   "cell_type": "markdown",
   "metadata": {},
   "source": [
    "Het importeren van alle functionaliteiten doe je normaal gesproken allemaal in de bovenste code-cell van je notebook. Dit heeft meerdere voordelen, maar de belangrijkste zijn wel dat je zeker weet dat alle gebruikte packages zijn geinstalleerd en dat je bovenin al kan zien wat de dependencies van je notebook zijn.\n",
    "\n",
    "## Numerical Python: numpy\n",
    "\n",
    "Zo beginnen veel, zo niet alle, data science gerelateerde notebooks met een kort lijstje imports, waar numpy er een van is. Deze wordt door bijna iedereen op de wereld afgekort tot np. Zo zul je ook hulp op **StackOverflow** (als je dat nog niet kent: ga er eens kijken) voor numpy altijd onder np vinden. We houden ons hier uiteraard aan die conventie.\n",
    "\n",
    "Numpy maakt gebruik van zogenaamde arrays. Deze lijken in de eerste plaats op lists, maar ze zijn heel wezenlijk anders:\n",
    "- Binnen een array zijn alle elementen van hetzelfde data type (dus geen mix zoals in lists)\n",
    "- Op arrays zijn de bewerkingen standaard array-operaties, wat betekent dat ze elementsgewijs worden uitgevoerd. Zo is, voor array a, 3*a gelijk aan een even lange array als a waarin alle elementen met 3 zijn vermenigvuldigd.\n",
    "\n",
    "Enkele voorbeelden:"
   ]
  },
  {
   "cell_type": "code",
   "execution_count": 9,
   "metadata": {},
   "outputs": [
    {
     "name": "stdout",
     "output_type": "stream",
     "text": [
      "[1 2 3 4]\n",
      "[ 3  6  9 12]\n",
      "[41 32 23 14]\n",
      "['1' '2' 'help'] bestaat uit alleen maar strings omdat er daar minstens 1 van voorkomt!\n"
     ]
    }
   ],
   "source": [
    "import numpy as np\n",
    "\n",
    "mijn_eerste_array = np.array([1, 2, 3, 4])\n",
    "print(mijn_eerste_array)\n",
    "\n",
    "keer3 = mijn_eerste_array * 3\n",
    "print(keer3)\n",
    "\n",
    "print(mijn_eerste_array + np.array([40, 30, 20, 10]))\n",
    "\n",
    "# Dingen die dus niet zouden kunnen, maar wel iets opleveren:\n",
    "huh = np.array([1, 2, 'help'])\n",
    "print(huh, \"bestaat uit alleen maar strings omdat er daar minstens 1 van voorkomt!\")"
   ]
  },
  {
   "cell_type": "code",
   "execution_count": 10,
   "metadata": {},
   "outputs": [
    {
     "name": "stdout",
     "output_type": "stream",
     "text": [
      "[[ 1  2]\n",
      " [50 60]]\n"
     ]
    }
   ],
   "source": [
    "# Arrays kunnen meer dan 1 dimensie hebben\n",
    "dim2 = np.array([[1 , 2],\n",
    "                 [50, 60]])   # Deze mag je op 1 regel definieren, maar dit maakt het leesbaarder\n",
    "print(dim2)"
   ]
  },
  {
   "cell_type": "code",
   "execution_count": 11,
   "metadata": {},
   "outputs": [
    {
     "name": "stdout",
     "output_type": "stream",
     "text": [
      "Het totaal van mijn eerste array is 10\n",
      "Het gemiddelde van mijn eerste array is 2.5\n",
      "De mediaan van mijn eerste array is 2.5\n"
     ]
    }
   ],
   "source": [
    "# Op arrays zijn bijzonder veel bewrekingen gedefinieerd. Veel zijn methoden van het array object, maar numpy kent ook functies die geen methode zijn.\n",
    "\n",
    "print(\"Het totaal van mijn eerste array is\", mijn_eerste_array.sum())\n",
    "print(\"Het gemiddelde van mijn eerste array is\", mijn_eerste_array.mean())\n",
    "print(\"De mediaan van mijn eerste array is\", np.median(mijn_eerste_array))"
   ]
  },
  {
   "cell_type": "code",
   "execution_count": 12,
   "metadata": {},
   "outputs": [
    {
     "name": "stdout",
     "output_type": "stream",
     "text": [
      "De verschillende sommen van dim2:\n",
      "113\n",
      "[51 62]\n",
      "[  3 110]\n"
     ]
    }
   ],
   "source": [
    "# Op twee- en hogerdimensionale arrays kun je zulke dingen over de hele array, of langs de rijen of kolommen doen:\n",
    "print(\"De verschillende sommen van dim2:\")\n",
    "print(dim2.sum())\n",
    "print(dim2.sum(axis=0))\n",
    "print(dim2.sum(axis=1))"
   ]
  },
  {
   "cell_type": "markdown",
   "metadata": {},
   "source": [
    "Tenslotte heeft numpy een enorme berg aan functionaliteit. Ik raad je van harte aan eens te kijken op de website wat er allemaal mogelijk is: http://www.numpy.org/\n",
    "\n",
    "## Referenties naar literatuur over de stof van hierboven en nog veel meer van de komende weken:\n",
    "\n",
    "Python Data Science Handbook (en al het andere youtube- en blogmateriaal van auteur Jake VanderPlas, zie http://jakevdp.github.io/), geheel in notebooks op github: https://jakevdp.github.io/PythonDataScienceHandbook/. Het pandas boek van Wes McKinney: https://github.com/wesm/pydata-book\n",
    "\n",
    "Antwoorden op al je vragen (of ze staan er al, of je hebt ze snel) op StackOverflow: https://stackoverflow.com/\n",
    "\n",
    "Documentatie van de voor data science belangrijke paketten: https://docs.scipy.org/doc/, http://pandas.pydata.org/pandas-docs/stable/\n",
    "\n",
    "Voor visualisatie gebruiken we matplotlib (https://matplotlib.org/ en de gallery op https://matplotlib.org/gallery/index.html), seaborn (https://seaborn.pydata.org/) en bokeh (https://bokeh.pydata.org/en/latest/).\n",
    "\n",
    "Verder vind je op YouTube veel praatjes en workshops (vaak met materiaal op github). Let er wel op dat je redelijk recent materiaal bekijkt, sommige van deze paketten zijn nog stevig in ontwikkeling. Op YouTube kun je zoeken naar PyData, (Euro)SciPy, Pycon, Enthought en Numfocus. Dat geeft je een hele hoop materiaal."
   ]
  },
  {
   "cell_type": "code",
   "execution_count": null,
   "metadata": {},
   "outputs": [],
   "source": []
  }
 ],
 "metadata": {
  "kernelspec": {
   "display_name": "Python 3",
   "language": "python",
   "name": "python3"
  },
  "language_info": {
   "codemirror_mode": {
    "name": "ipython",
    "version": 3
   },
   "file_extension": ".py",
   "mimetype": "text/x-python",
   "name": "python",
   "nbconvert_exporter": "python",
   "pygments_lexer": "ipython3",
   "version": "3.6.6"
  }
 },
 "nbformat": 4,
 "nbformat_minor": 2
}
