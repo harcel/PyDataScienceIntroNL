{
 "cells": [
  {
   "cell_type": "code",
   "execution_count": 1,
   "metadata": {},
   "outputs": [],
   "source": [
    "import numpy as np\n",
    "import pandas as pd\n",
    "import os"
   ]
  },
  {
   "cell_type": "markdown",
   "metadata": {},
   "source": [
    "# Opdrachten bij de Introductie Python voor data science -- deel 2: \"Python en data\"\n",
    "\n",
    "De opdrachten in dit notebook horen bij het tweede deel van de cursus, waarin we Python gebruiken voor het lezen, bewerken en schrijven van data. De meeste van deze opdrachten komen al op de cursusavond aan bod. Ik raad je aan om alle opdrachten waar je niet aan toe komt tijdens de cursus thuis te doen. In sommige gevallen zit er lesmateriaal in wat anders dan in de opdracht niet langskomt in de lesstof.\n",
    "\n",
    "Alle opdrachten hebben een voorbeeld van een uitwerking die wordt geladen wanneer de cellen met \"%load XXX\" worden uitgevoerd. Let wel:\n",
    "- Probeer het eerst zelf! Je leert er pas echt van door te proberen, eventueel te falen en nog een keer te proberen!\n",
    "- Dit is *een* uitwerking, meerdere varianten zijn waarschijnlijk mogelijk. Overleg bij twijfel gerust met een medecursist, of met de docent!\n",
    "\n",
    "## 1. Basic numpy\n",
    "Maak een array met daarin alle even getallen van 2 tot en met 20. \n",
    "\n",
    "Vermenigvuldig deze met 3, zonder loop te gebruiken.\n",
    "\n",
    "Tel er vervolgens 1 bij op en geef de som van alle getallen. \n",
    "\n",
    "Check bij welke index de waarde deelbaar is door 5 door gebruik te maken van np.where().\n"
   ]
  },
  {
   "cell_type": "code",
   "execution_count": null,
   "metadata": {},
   "outputs": [],
   "source": []
  },
  {
   "cell_type": "code",
   "execution_count": 13,
   "metadata": {},
   "outputs": [],
   "source": [
    "to_include = os.path.join('uitwerkingen', '2-numpybasics.py') \n",
    "# %load $to_include"
   ]
  },
  {
   "cell_type": "markdown",
   "metadata": {},
   "source": [
    "## 2. Hoger-dimensionale arrays.\n",
    "\n",
    "In de data science brengen we dingen graag terug naar tweedimensionale tabellen, dus daar houden we ons hier ook evne bij. Maak een array van 5 rijen en 3 kolommen gevuld met random integers van 0 t/m 9.\n",
    "\n",
    "Wanneer je reshape gerbuikt om deze dataset 3 rijen en 5 kolommen geeft, zijn dan de som van de oorspronkelijke kolommen gelijk aan die van de nieuwe rijen? Waarom?\n",
    "\n",
    "Hoe kun je deze som hetzelfde maken?\n"
   ]
  },
  {
   "cell_type": "code",
   "execution_count": null,
   "metadata": {},
   "outputs": [],
   "source": []
  },
  {
   "cell_type": "code",
   "execution_count": 6,
   "metadata": {},
   "outputs": [],
   "source": [
    "to_include = os.path.join('uitwerkingen', '2-2darrays.py') \n",
    "# %load $to_include"
   ]
  },
  {
   "cell_type": "markdown",
   "metadata": {},
   "source": [
    "## 3. Horizontaal en verticaal stacken.\n",
    "Naast concatenate bestaan er ook horizontale en verticale stack functies. Gebruik np.hstack and np.vstack voor de voorbeelden van concatenate uit de instructie. Welke functionaliteit heeft jouw voorkeur? Waarom? Waarom zouden eigenlijk al die dingen naast elkaar bestaan?"
   ]
  },
  {
   "cell_type": "code",
   "execution_count": null,
   "metadata": {},
   "outputs": [],
   "source": []
  },
  {
   "cell_type": "code",
   "execution_count": 10,
   "metadata": {},
   "outputs": [],
   "source": [
    "to_include = os.path.join('uitwerkingen', '2-hvstack.py') \n",
    "# %load $to_include"
   ]
  },
  {
   "cell_type": "markdown",
   "metadata": {},
   "source": [
    "## 4. Broadcasting met een rij en kolom vector.\n",
    "\n",
    "Gebruik broadcasting om met 1 rij- en 1 kolomvector de volgende matrix te genereren:\n",
    "\n",
    "array([[0, 1, 2],\n",
    "\n",
    "      [1, 2, 3],\n",
    "\n",
    "      [2, 3, 4]])\n",
    "      \n",
    "Hoeveel elementen moeten beide vectoren hebben? Wat zegt de symmetrie (gespiegeld in de diagonaal) van de output over je input vectoren? Heb je iets aan de waarden op de diagonaal?"
   ]
  },
  {
   "cell_type": "code",
   "execution_count": null,
   "metadata": {},
   "outputs": [],
   "source": []
  },
  {
   "cell_type": "code",
   "execution_count": 11,
   "metadata": {},
   "outputs": [],
   "source": [
    "to_include = os.path.join('uitwerkingen', '2-broadcasting.py') \n",
    "# %load $to_include"
   ]
  },
  {
   "cell_type": "markdown",
   "metadata": {},
   "source": [
    "## 5. Series, lists, dicts....\n",
    "Hieronder staan twee lijstjes: 5 gemeenten en hun aantal inwoners (volgens wikipedia, september 2018). Maak van deze lists eerst een dictionary met de gemeente als key en het aantal inwoners als value. Als je daarvan een Serie maakt, dan in is de index ineens mooi geregeld!"
   ]
  },
  {
   "cell_type": "code",
   "execution_count": 3,
   "metadata": {},
   "outputs": [],
   "source": [
    "Steden = [\"Amsterdam\",\n",
    "\"Rotterdam\",\n",
    "\"Den Haag\",\n",
    "\"Utrecht\",\n",
    "\"Eindhoven\"\n",
    "]\n",
    "Inwoners = [859732,\n",
    "    641326,\n",
    "    534158,\n",
    "    349234,\n",
    "    229637\n",
    "]"
   ]
  },
  {
   "cell_type": "code",
   "execution_count": null,
   "metadata": {},
   "outputs": [],
   "source": []
  },
  {
   "cell_type": "code",
   "execution_count": 5,
   "metadata": {},
   "outputs": [],
   "source": [
    "to_include = os.path.join('uitwerkingen', '2-series.py') \n",
    "# %load $to_include"
   ]
  },
  {
   "cell_type": "markdown",
   "metadata": {},
   "source": [
    "## 6. Een DataFrame vol gemeenten in provincies\n",
    "In de data directory staat een excel file genaamd Gemeenten.xlsx. Lees deze, kijk wat erin zit. Hoe zijn kolomnamen in de DataFrame bepaald? Waar komt de index vandaan?\n",
    "\n",
    "Door per provincie te groeperen kun je gemakkelijk het aantal inwoners in de provincies op aflopende volgorde (dus provincie met de meeste inwoners eerst) afdrukken. Probeer dit in 1 regel (maar niet meteen, bouw het rustig op in verschillende stappen).\n",
    "\n",
    "Wat staat er op die onderste regel? Is dat missing data?\n",
    "\n",
    "Wat is het totaal van alle inwoners in de provincies?\n",
    "\n",
    "Om het gemiddeld inkomen per provincie te bepalen, moeten we uiteraard een gewogen gemiddelde nemen van de betreffende gemeenten, met het aantal inwoners als gewicht. Een eenvoudige manier is het maken van een kolom met totaal inkomen per gemeente, dan groeperen per provincie en het totale inkomen per provincie te delen door het totaal aantal inwoners. Probeer dit eerst.\n",
    "\n",
    "De groupby aggregaties hebben geen gewogen gemiddelde. Probeer door middel van apply toch met een door jezelf gedefinieerde functie dit gewogen gemiddelde te reproduceren. Maak vooral gebruik van np.average() die een gewogen gemiddelde kan uitrekenen voor je."
   ]
  },
  {
   "cell_type": "code",
   "execution_count": null,
   "metadata": {},
   "outputs": [],
   "source": []
  },
  {
   "cell_type": "code",
   "execution_count": 7,
   "metadata": {},
   "outputs": [],
   "source": [
    "to_include = os.path.join('uitwerkingen', '2-gemeenten.py') \n",
    "# %load $to_include"
   ]
  },
  {
   "cell_type": "code",
   "execution_count": null,
   "metadata": {},
   "outputs": [],
   "source": []
  },
  {
   "cell_type": "code",
   "execution_count": null,
   "metadata": {},
   "outputs": [],
   "source": []
  },
  {
   "cell_type": "code",
   "execution_count": null,
   "metadata": {},
   "outputs": [],
   "source": []
  },
  {
   "cell_type": "code",
   "execution_count": null,
   "metadata": {},
   "outputs": [],
   "source": []
  },
  {
   "cell_type": "code",
   "execution_count": null,
   "metadata": {},
   "outputs": [],
   "source": []
  }
 ],
 "metadata": {
  "kernelspec": {
   "display_name": "Python 3",
   "language": "python",
   "name": "python3"
  },
  "language_info": {
   "codemirror_mode": {
    "name": "ipython",
    "version": 3
   },
   "file_extension": ".py",
   "mimetype": "text/x-python",
   "name": "python",
   "nbconvert_exporter": "python",
   "pygments_lexer": "ipython3",
   "version": "3.6.6"
  }
 },
 "nbformat": 4,
 "nbformat_minor": 2
}
