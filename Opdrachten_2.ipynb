{
 "cells": [
  {
   "cell_type": "code",
   "execution_count": 8,
   "metadata": {},
   "outputs": [],
   "source": [
    "import numpy as np\n",
    "import pandas as pd\n",
    "import os"
   ]
  },
  {
   "cell_type": "markdown",
   "metadata": {},
   "source": [
    "# Opdrachten bij de Introductie Python voor data science -- deel 2: \"Python en data\"\n",
    "\n",
    "De opdrachten in dit notebook horen bij het tweede deel van de cursus, waarin we Python gebruiken voor het lezen, bewerken en schrijven van data. De meeste van deze opdrachten komen al op de cursusavond aan bod. Ik raad je aan om alle opdrachten waar je niet aan toe komt tijdens de cursus thuis te doen. In sommige gevallen zit er lesmateriaal in wat anders dan in de opdracht niet langskomt in de lesstof.\n",
    "\n",
    "Alle opdrachten hebben een voorbeeld van een uitwerking die wordt geladen wanneer de cellen met \"%load XXX\" worden uitgevoerd. Let wel:\n",
    "- Probeer het eerst zelf! Je leert er pas echt van door te proberen, eventueel te falen en nog een keer te proberen!\n",
    "- Dit is *een* uitwerking, meerdere varianten zijn waarschijnlijk mogelijk. Overleg bij twijfel gerust met een medecursist, of met de docent!\n"
   ]
  },
  {
   "cell_type": "code",
   "execution_count": null,
   "metadata": {},
   "outputs": [],
   "source": []
  },
  {
   "cell_type": "code",
   "execution_count": null,
   "metadata": {},
   "outputs": [],
   "source": []
  },
  {
   "cell_type": "code",
   "execution_count": null,
   "metadata": {},
   "outputs": [],
   "source": []
  },
  {
   "cell_type": "code",
   "execution_count": null,
   "metadata": {},
   "outputs": [],
   "source": []
  },
  {
   "cell_type": "code",
   "execution_count": null,
   "metadata": {},
   "outputs": [],
   "source": []
  },
  {
   "cell_type": "code",
   "execution_count": null,
   "metadata": {},
   "outputs": [],
   "source": []
  },
  {
   "cell_type": "markdown",
   "metadata": {},
   "source": [
    "### XX. Horizontaal en verticaal stacken.\n",
    "Naast concatenate bestaan er ook horizontale en verticale stack functies. Gebruik np.hstack and np.vstack voor de voorbeelden van concatenate uit de instructie. Welke functionaliteit heeft jouw voorkeur? Waarom? Waarom zouden eigenlijk al die dingen naast elkaar bestaan?"
   ]
  },
  {
   "cell_type": "code",
   "execution_count": null,
   "metadata": {},
   "outputs": [],
   "source": []
  },
  {
   "cell_type": "code",
   "execution_count": 10,
   "metadata": {},
   "outputs": [],
   "source": [
    "to_include = os.path.join('uitwerkingen', '2-hvstack.py') \n",
    "# %load $to_include"
   ]
  },
  {
   "cell_type": "markdown",
   "metadata": {},
   "source": [
    "## XX. Broadcasting met een rij en kolom vector.\n",
    "\n",
    "Gebruik broadcasting om met 1 rij- en 1 kolomvector de volgende matrix te genereren:\n",
    "\n",
    "array([[0, 1, 2],\n",
    "\n",
    "      [1, 2, 3],\n",
    "\n",
    "      [2, 3, 4]])\n",
    "      \n",
    "Hoeveel elementen moeten beide vectoren hebben? Wat zegt de symmetrie (gespiegeld in de diagonaal) van de output over je input vectoren? Heb je iets aan de waarden op de diagonaal?"
   ]
  },
  {
   "cell_type": "code",
   "execution_count": null,
   "metadata": {},
   "outputs": [],
   "source": []
  },
  {
   "cell_type": "code",
   "execution_count": 11,
   "metadata": {},
   "outputs": [],
   "source": [
    "to_include = os.path.join('uitwerkingen', '2-broadcasting.py') \n",
    "# %load $to_include"
   ]
  },
  {
   "cell_type": "code",
   "execution_count": null,
   "metadata": {},
   "outputs": [],
   "source": []
  }
 ],
 "metadata": {
  "kernelspec": {
   "display_name": "Python 3",
   "language": "python",
   "name": "python3"
  },
  "language_info": {
   "codemirror_mode": {
    "name": "ipython",
    "version": 3
   },
   "file_extension": ".py",
   "mimetype": "text/x-python",
   "name": "python",
   "nbconvert_exporter": "python",
   "pygments_lexer": "ipython3",
   "version": "3.6.6"
  }
 },
 "nbformat": 4,
 "nbformat_minor": 2
}
