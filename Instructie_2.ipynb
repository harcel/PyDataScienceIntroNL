{
 "cells": [
  {
   "cell_type": "markdown",
   "metadata": {},
   "source": [
    "# Python en data\n",
    "\n",
    "Data science begint met data. Daarom richten we onze aandacht nu op technieken om met data om te gaan in Python. \"Core Python\" is daarvoor niet altijd direct geschikt, maar gelukkig bestaan er meerdere goed ontwikkelde packages die ons het leven makkelijker maken. Het gaat daarbij om het lezen, bewerken en weer opslaan van data. In de tussentijd zullen we alvast kleine uitstapjes maken naar de analyse van data.\n",
    "\n",
    "Het is \"good practice\" om paketten die je gaat gebruiken bovenaan je notebook allemaal tegelijk te importeren. Ik doe dat hier ook, zodat je meteen een overzicht krijgt van wat je te wachten staat.\n",
    "\n",
    "Vanaf dit notebook worden de instructienotebooks steeds meer alleen code met wat commentaar. Je wordt steeds beter in Python, dus code spreekt meer en meer voor zichzelf."
   ]
  },
  {
   "cell_type": "code",
   "execution_count": 2,
   "metadata": {},
   "outputs": [],
   "source": [
    "import numpy as np          # Package voor numerieke bewerkingen, en het werken met arrays\n",
    "import pandas as pd         # Package voor het werken met data in de vorm van tabellen. Pandas wordt je vriend!\n",
    "import os"
   ]
  },
  {
   "cell_type": "markdown",
   "metadata": {},
   "source": [
    "## Numerical Python: numpy\n",
    "\n",
    "Voor numeriek werk zoals elke data scientist, data-analist etc. iedere dag doet is numpy onmisbaar. Numpy wordt gewoonlijk geimporteerd als np, dus dat doen wij ook.\n",
    "\n",
    "### Werken met arrays\n",
    "Numpy maakt gebruik van zogenaamde arrays. Deze lijken in de eerste plaats op lists, maar ze zijn heel wezenlijk anders:\n",
    "- Binnen een array zijn alle elementen van hetzelfde data type (dus geen mix zoals in lists)\n",
    "- Op arrays zijn de bewerkingen standaard array-operaties, wat betekent dat ze elementsgewijs worden uitgevoerd. Zo is, voor array a, 3*a gelijk aan een even lange array als a waarin alle elementen met 3 zijn vermenigvuldigd.\n",
    "\n",
    "Enkele voorbeelden:"
   ]
  },
  {
   "cell_type": "code",
   "execution_count": 2,
   "metadata": {},
   "outputs": [
    {
     "name": "stdout",
     "output_type": "stream",
     "text": [
      "[1 2 3 4]\n"
     ]
    }
   ],
   "source": [
    "mijn_eerste_array = np.array([1, 2, 3, 4])\n",
    "print(mijn_eerste_array)\n",
    "\n",
    "keer3 = mijn_eerste_array * 3\n",
    "# print(keer3)\n",
    "\n",
    "# print(mijn_eerste_array + np.array([40, 30, 20, 10]))\n",
    "\n",
    "# # Dingen die dus niet zouden kunnen, maar wel iets opleveren:\n",
    "# huh = np.array([1, 2, 'help'])\n",
    "# print(huh, \"bestaat uit alleen maar strings omdat er daar minstens 1 van voorkomt!\")"
   ]
  },
  {
   "cell_type": "code",
   "execution_count": 3,
   "metadata": {},
   "outputs": [
    {
     "name": "stdout",
     "output_type": "stream",
     "text": [
      "Het totaal van mijn eerste array is 10\n",
      "Het gemiddelde van mijn eerste array is 2.5\n",
      "De mediaan van mijn eerste array is 2.5\n",
      "\n",
      "Zo kan het ook: 10 10\n"
     ]
    }
   ],
   "source": [
    "# Op arrays zijn bijzonder veel bewrekingen gedefinieerd. Veel zijn methoden van het array object, maar numpy kent ook functies die geen methode zijn.\n",
    "\n",
    "print(\"Het totaal van mijn eerste array is\", mijn_eerste_array.sum())\n",
    "print(\"Het gemiddelde van mijn eerste array is\", mijn_eerste_array.mean())\n",
    "print(\"De mediaan van mijn eerste array is\", np.median(mijn_eerste_array))\n",
    "print()\n",
    "# Let wel:\n",
    "print(\"Zo kan het ook:\", sum(mijn_eerste_array), np.sum(mijn_eerste_array))"
   ]
  },
  {
   "cell_type": "code",
   "execution_count": 4,
   "metadata": {},
   "outputs": [
    {
     "name": "stdout",
     "output_type": "stream",
     "text": [
      "[[ 1  2  3]\n",
      " [50 60 70]]\n"
     ]
    }
   ],
   "source": [
    "# Arrays kunnen meer dan 1 dimensie hebben\n",
    "dim2 = np.array([[1 , 2, 3],\n",
    "                 [50, 60, 70]])   # Deze mag je op 1 regel definieren, maar dit maakt het leesbaarder\n",
    "print(dim2)"
   ]
  },
  {
   "cell_type": "code",
   "execution_count": 5,
   "metadata": {},
   "outputs": [
    {
     "name": "stdout",
     "output_type": "stream",
     "text": [
      "De verschillende sommen van dim2:\n",
      "Totale som: 186\n"
     ]
    }
   ],
   "source": [
    "# Op twee- en hogerdimensionale arrays kun je zulke dingen \n",
    "# over de hele array, of langs de rijen of kolommen doen:\n",
    "print(\"De verschillende sommen van dim2:\")\n",
    "print(\"Totale som:\", dim2.sum())\n",
    "# print(\"Som per kolom:\", dim2.sum(axis=0))\n",
    "# print(\"Som per rij\", dim2.sum(axis=1))"
   ]
  },
  {
   "cell_type": "code",
   "execution_count": 6,
   "metadata": {},
   "outputs": [
    {
     "name": "stdout",
     "output_type": "stream",
     "text": [
      "Type <class 'numpy.ndarray'> met shape (3,)\n"
     ]
    }
   ],
   "source": [
    "# Uiteraard zijn deze sommen numpy arrays:\n",
    "sommetje = dim2.sum(axis=0)\n",
    "print(\"Type\", type(sommetje), \"met shape\", sommetje.shape)"
   ]
  },
  {
   "cell_type": "markdown",
   "metadata": {},
   "source": [
    "### Missing data, NaN, ....\n",
    "\n",
    "Soms mist er data. Soms is een veld geen keurig getal meer (x/0, log(negatief getal), ...). Een datatype daarvoor in numpy is np.nan:"
   ]
  },
  {
   "cell_type": "code",
   "execution_count": 7,
   "metadata": {},
   "outputs": [
    {
     "name": "stdout",
     "output_type": "stream",
     "text": [
      "[ 1.  2. nan 17.]\n"
     ]
    }
   ],
   "source": [
    "arr = np.array([1, 2., np.nan, 17.])\n",
    "print(arr)"
   ]
  },
  {
   "cell_type": "code",
   "execution_count": 8,
   "metadata": {},
   "outputs": [
    {
     "name": "stdout",
     "output_type": "stream",
     "text": [
      "nan\n",
      "nan\n",
      "20.0\n"
     ]
    }
   ],
   "source": [
    "# Aggregties hebben vaak een nan-safe variant, maar je moet wel weten wat ze betekenen!\n",
    "print(arr.sum())\n",
    "print(np.sum(arr))\n",
    "print(np.nansum(arr))\n",
    "# print(np.product(arr))\n",
    "# print(np.nanprod(arr))\n",
    "# print(np.mean(arr))\n",
    "# print(np.nanmean(arr))\n",
    "# print(np.nansum(arr)/len(arr))\n",
    "# print(np.nansum(arr) / np.isfinite(arr).sum())"
   ]
  },
  {
   "cell_type": "markdown",
   "metadata": {},
   "source": [
    "### Arrays maken zonder eerst een list te schrijven\n",
    "Er bestaan functies die arrays genereren:"
   ]
  },
  {
   "cell_type": "code",
   "execution_count": 9,
   "metadata": {},
   "outputs": [
    {
     "name": "stdout",
     "output_type": "stream",
     "text": [
      "[0. 0. 0.]\n",
      "[[1. 1. 1.]\n",
      " [1. 1. 1.]]\n"
     ]
    }
   ],
   "source": [
    "print(np.zeros(3))\n",
    "print(np.ones((2, 3)))\n",
    "# print(np.arange(8, dtype=np.float))  # werkt ook zonder dtype, met stapjes etc.\n",
    "# print(np.arange(2, 5, 0.3))\n",
    "# print(np.random.random(size=2))\n",
    "# print(np.random.random(size=(5, 3)))"
   ]
  },
  {
   "cell_type": "markdown",
   "metadata": {},
   "source": [
    "***\n",
    "\n",
    "### Index , slicing, selectie\n",
    "Indices werken heel vergelijkbaar met die in lists. In meerdere dimenses worden ze gescheiden door komma's, daarbinnen kun je precies dezelfde ranges etc. gebruiken. Let altijd op de volgorde van rijen en kolommen! Dit werkt ook in meerdere dimensies, maar dat is lastiger in tabelvorm weer te geven. Je kunt dergelijke indices ook gebruiken om array-elementen te veranderen. Let daarbij wel op het datatype!"
   ]
  },
  {
   "cell_type": "code",
   "execution_count": 10,
   "metadata": {},
   "outputs": [
    {
     "name": "stdout",
     "output_type": "stream",
     "text": [
      "[ 8  9 11 10 12  0  0  9 16  0]\n",
      "11\n",
      "[11 12  0 16]\n",
      "[10 12  0]\n",
      "[16  0]\n",
      "\n"
     ]
    }
   ],
   "source": [
    "x = np.random.randint(0, 20, size=10)\n",
    "print(x)\n",
    "print(x[2])\n",
    "print(x[2::2])\n",
    "print(x[3:6])\n",
    "print(x[-2:])\n",
    "print()\n",
    "x2 = np.random.randint(0, 20, size=(3,4))\n",
    "# print(x2)\n",
    "# print(x2[:,0])\n",
    "# print(x2[0,:])\n",
    "# print(x2[1:3, 1:3])\n",
    "# print(x2[-1,-2:])\n",
    "# print()\n",
    "# x2[0,0] = 100\n",
    "# print(x2)\n",
    "# print()\n",
    "# x2[0,0] = 17.72\n",
    "# print(x2)  # alles na de komma wordt eraf gehaald!"
   ]
  },
  {
   "cell_type": "markdown",
   "metadata": {},
   "source": [
    "Let erop dat als je sub-arrays selecteert op deze manier, en die bewerkt, dat dan de oorspronkelijke array ook aangepast is! Dit kan heel handig zijn als je snel kleine stukken van een heel grote dataset wil manipuleren! Je kunt het voorkomen met .copy()"
   ]
  },
  {
   "cell_type": "code",
   "execution_count": 11,
   "metadata": {},
   "outputs": [
    {
     "name": "stdout",
     "output_type": "stream",
     "text": [
      "[[10  2 18  1]\n",
      " [ 2 14  8  5]\n",
      " [ 1  9 14 13]]\n",
      "\n",
      "[[14  8]\n",
      " [ 9 14]]\n",
      "\n"
     ]
    }
   ],
   "source": [
    "print(x2)\n",
    "print()\n",
    "x3 = x2[1:3, 1:3]     # Probeer ook met x3 = x2[1:3, 1:3].copy()\n",
    "print(x3)\n",
    "print()\n",
    "# x3[0,0] = 100\n",
    "# print(x3)\n",
    "# print()\n",
    "# print(x2)"
   ]
  },
  {
   "cell_type": "markdown",
   "metadata": {},
   "source": [
    "***\n",
    "\n",
    "### Reshape, concatenation, splitting\n",
    "\n",
    "Het kan voor toepassingen handig zijn om verschillende tabellen van vorm te veranderen, aan elkaar te plakken of juist te splitsen. Ook hiervoor bestaan efficiente functinaliteiten in numpy."
   ]
  },
  {
   "cell_type": "code",
   "execution_count": 12,
   "metadata": {},
   "outputs": [
    {
     "name": "stdout",
     "output_type": "stream",
     "text": [
      "[[10  2 18  1]\n",
      " [ 2 14  8  5]\n",
      " [ 1  9 14 13]]\n",
      "\n",
      "[[10  2 18]\n",
      " [ 1  2 14]\n",
      " [ 8  5  1]\n",
      " [ 9 14 13]]\n",
      "\n"
     ]
    }
   ],
   "source": [
    "# Reshape maakt van je array een andere vorm, wel even groot!\n",
    "print(x2)\n",
    "print()\n",
    "print(x2.reshape(4, 3))  # ELementen \"lopen gewoon door\", \"zoals je ze leest\"\n",
    "print()\n",
    "# print(x2.reshape(6, -1)) # Met -1 bepaalt numpy welke dimensie je daar nodig hebt.\n",
    "# print()\n",
    "# print(x2.transpose())\n",
    "# print()\n",
    "# print(x2.reshape(12))\n",
    "# print(x2.reshape(12)[np.newaxis, :])\n",
    "# print(x2.reshape(12)[:,np.newaxis])"
   ]
  },
  {
   "cell_type": "code",
   "execution_count": 16,
   "metadata": {},
   "outputs": [
    {
     "name": "stdout",
     "output_type": "stream",
     "text": [
      "[ 1  2  3 30 20 10]\n",
      "[ 1  2  3 30 20 10 30 20 10 30 20 10]\n",
      "\n",
      "[[1 2 3]\n",
      " [4 5 6]]\n",
      "\n",
      "[[ 1  2  3]\n",
      " [ 4  5  6]\n",
      " [10 20 30]\n",
      " [40 50 60]]\n",
      "\n",
      "[[ 1  2  3 10 20 30]\n",
      " [ 4  5  6 40 50 60]]\n"
     ]
    }
   ],
   "source": [
    "# np.concatenate plakt arrays aan elkaar.\n",
    "x = np.array([1, 2, 3])\n",
    "y = np.array([30, 20, 10])\n",
    "print(np.concatenate([x, y]))\n",
    "print(np.concatenate([x, y, y, y]))\n",
    "print()\n",
    "grid = np.array([[1, 2, 3],\n",
    "                 [4, 5, 6]])\n",
    "print(grid)\n",
    "print()\n",
    "print(np.concatenate([grid, 10*grid]))\n",
    "print()\n",
    "print(np.concatenate([grid, 10*grid], axis=1))"
   ]
  },
  {
   "cell_type": "code",
   "execution_count": 14,
   "metadata": {},
   "outputs": [
    {
     "name": "stdout",
     "output_type": "stream",
     "text": [
      "[1 2 3] [99 99] [3 2 1]\n",
      "\n"
     ]
    }
   ],
   "source": [
    "# Met np.split() en varianten daarop kun je juist je arrays in stukjes knippen.\n",
    "x = [1, 2, 3, 99, 99, 3, 2, 1]\n",
    "x1, x2, x3 = np.split(x, [3, 5])\n",
    "print(x1, x2, x3)\n",
    "print()\n",
    "# grid = np.arange(16).reshape((4, 4))\n",
    "# print(grid)\n",
    "# print()\n",
    "# boven, onder = np.vsplit(grid, [2])\n",
    "# print(boven)\n",
    "# print(onder)\n",
    "# print()\n",
    "# links, rechts = np.hsplit(grid, [2])\n",
    "# print(links)\n",
    "# print(rechts)"
   ]
  },
  {
   "cell_type": "markdown",
   "metadata": {},
   "source": [
    "***\n",
    "\n",
    "### Broadcasting\n",
    "\n",
    "Broadcasting betekent dat bewerkingen met arrays van verschillende dimensies worden gedaan. Het standaard voorbeeld is erg bekend, maar het kan dus ook op minder triviale manieren."
   ]
  },
  {
   "cell_type": "code",
   "execution_count": 46,
   "metadata": {},
   "outputs": [
    {
     "name": "stdout",
     "output_type": "stream",
     "text": [
      "[5 7 9]\n",
      "\n",
      "[[1. 1. 1.]\n",
      " [1. 1. 1.]\n",
      " [1. 1. 1.]\n",
      " [1. 1. 1.]]\n",
      "\n",
      "[[3. 5. 7.]\n",
      " [3. 5. 7.]\n",
      " [3. 5. 7.]\n",
      " [3. 5. 7.]]\n"
     ]
    }
   ],
   "source": [
    "x = np.array([2, 4, 6])\n",
    "# Een scalar erbij optellen is broadcasting, de scalar wordt gebroadcast op elk element van de array:\n",
    "print(x+3)\n",
    "print()\n",
    "# In meer dimensies:\n",
    "y = np.ones((4, 3))   # Met de indices andersom werkt het dus niet!\n",
    "print(y)\n",
    "print()\n",
    "print(x+y)"
   ]
  },
  {
   "cell_type": "markdown",
   "metadata": {},
   "source": [
    "Broadcasting kan nog veel complexer, maar in de praktijk kom je dt zelden tegen, we zullen het dus voorlopig hierbij laten. In de referenties staan werken met uitgebreidere voorbeelden uitgewerkt.\n",
    "\n",
    "***\n",
    "\n",
    "### Sorteren en set logica\n",
    "\n",
    "Python komt met built-in \"sort\" en \"sorted\" functies. Die laten we echter voor wat ze zijn, omdat de numpy implementaties efficienter zijn. np.sort() gebruikte een efficient sorteer-algoritme, genaamd quicksort, maar kan als argument ook andere sorteeralgoritmen gebruiken (bijv. mergesort en heapsort). De werking is uiteraard simpel:"
   ]
  },
  {
   "cell_type": "code",
   "execution_count": 4,
   "metadata": {},
   "outputs": [
    {
     "name": "stdout",
     "output_type": "stream",
     "text": [
      "[2 3 3 5 6 7]\n",
      "[2 5 3 7 3 6]\n"
     ]
    }
   ],
   "source": [
    "x = np.array([2, 5, 3, 7, 3, 6])\n",
    "print(np.sort(x))\n",
    "print(x)"
   ]
  },
  {
   "cell_type": "markdown",
   "metadata": {},
   "source": [
    "Arrays hebben echter ook een sort-methode en deze sorteert volgens hetzelfde algoritme, maar verandert de array in het geheugen:"
   ]
  },
  {
   "cell_type": "code",
   "execution_count": 5,
   "metadata": {},
   "outputs": [
    {
     "name": "stdout",
     "output_type": "stream",
     "text": [
      "[2 3 3 5 6 7]\n"
     ]
    }
   ],
   "source": [
    "x.sort()\n",
    "print(x)"
   ]
  },
  {
   "cell_type": "markdown",
   "metadata": {},
   "source": [
    "In sommige gevallen is het praktischer om de indices van de gesorteerde array terug te vinden, in plaats van de gesorteerde variant van de lijst. Hiervoor bestaat np.argsort():"
   ]
  },
  {
   "cell_type": "code",
   "execution_count": 12,
   "metadata": {},
   "outputs": [
    {
     "name": "stdout",
     "output_type": "stream",
     "text": [
      "[2 5 3 7 3 6]\n",
      "[0 1 2 3 4 5]\n",
      "\n",
      "[0 2 4 1 5 3]\n",
      "[2 3 3 5 6 7]\n"
     ]
    }
   ],
   "source": [
    "x = np.array([2, 5, 3, 7, 3, 6])\n",
    "print(x)\n",
    "print(np.arange(len(x)))\n",
    "print()\n",
    "ind = np.argsort(x)\n",
    "print(ind)\n",
    "print(x[ind])   # Indices op deze manier gebruiken heet ook wel \"fancy indexing\"."
   ]
  },
  {
   "cell_type": "markdown",
   "metadata": {},
   "source": [
    "Op hogerdimensionale arrays moet je uiteraard weer assen aangeven via welke je ze wil sorteren. Let op dat rijen danwel kolommen dan onafhankelijk van elkaar gesorteerd worden!"
   ]
  },
  {
   "cell_type": "code",
   "execution_count": 18,
   "metadata": {},
   "outputs": [
    {
     "name": "stdout",
     "output_type": "stream",
     "text": [
      "[[6 4 9 0 2 4]\n",
      " [5 7 2 3 5 4]\n",
      " [8 1 7 9 6 3]\n",
      " [7 0 8 4 7 6]]\n",
      "\n",
      "[[5 0 2 0 2 3]\n",
      " [6 1 7 3 5 4]\n",
      " [7 4 8 4 6 4]\n",
      " [8 7 9 9 7 6]]\n",
      "\n",
      "[[0 2 4 4 6 9]\n",
      " [2 3 4 5 5 7]\n",
      " [1 3 6 7 8 9]\n",
      " [0 4 6 7 7 8]]\n"
     ]
    }
   ],
   "source": [
    "X = np.random.randint(0, 10, (4, 6))\n",
    "print(X)\n",
    "print()\n",
    "print(np.sort(X, axis=0))\n",
    "print()\n",
    "print(np.sort(X, axis=1)) # Check ook de default waarde van het axis keyword. Wat betekent dat?"
   ]
  },
  {
   "cell_type": "markdown",
   "metadata": {},
   "source": [
    "In de verzamelingenleer (\"set theory\") bestaan een hoop functies die wel eens nuttig zijn wanneer je met arrays werkts. Hieronder zie je wat voorbeelden:"
   ]
  },
  {
   "cell_type": "code",
   "execution_count": 22,
   "metadata": {},
   "outputs": [
    {
     "name": "stdout",
     "output_type": "stream",
     "text": [
      "[ True False False  True  True False  True]\n",
      "[0 2 3 5 6]\n"
     ]
    }
   ],
   "source": [
    "values = np.array([6, 0, 0, 3, 2, 5, 6])\n",
    "print(np.in1d(values, [2, 3, 6]))\n",
    "print(np.unique(values))"
   ]
  },
  {
   "cell_type": "markdown",
   "metadata": {},
   "source": [
    "### Functies binnen numpy\n",
    "\n",
    "Numpy heeft ook een hele berg (rekenkundige) functies ingebouwd die werken op de arrays die erin gaan. Hieronder gewoon een paar simpele voorbeelden"
   ]
  },
  {
   "cell_type": "code",
   "execution_count": 27,
   "metadata": {},
   "outputs": [
    {
     "name": "stdout",
     "output_type": "stream",
     "text": [
      "[9 2 1 5 5 2]\n",
      "[3.         1.41421356 1.         2.23606798 2.23606798 1.41421356]\n",
      "[ 0.41211849  0.90929743  0.84147098 -0.95892427 -0.95892427  0.90929743]\n",
      "[1 2 1 1 1 2]\n",
      "[8 4 4 5 5 4]\n"
     ]
    }
   ],
   "source": [
    "x = np.random.randint(0, 10, 6)\n",
    "print(x)\n",
    "print(np.sqrt(x))\n",
    "print(np.sin(x))\n",
    "print(np.mod(x, 4))\n",
    "print(np.clip(x, 4, 8))"
   ]
  },
  {
   "cell_type": "markdown",
   "metadata": {},
   "source": [
    "## Pandas: Werken met tabellen\n",
    "\n",
    "Tweedimensionale numpy arrays zijn natuurlijk tabellen. Maar zou het niet handig zijn als kolommen namen hebben, de rijen handige indices die iets betekenen en je allerlei selecties en bewerkingen kunt doen gewoon met die namen. Pandas is een enorm populair package, gemaakt door Wes McKinney die het wilde hebben voor zijn werk in de financiele wereld, dat precies dat doet. We gaan hier uitgebreid op de functionaliteiten in. Zoals gebruikelijk: er is nog veel meer! Ook dit boek staat volledig als notebooks online:\n",
    "https://github.com/wesm/pydata-book (alleen de tekst ertussen mist, maar de voorbeelden spreken veelal voor zich).\n",
    "\n",
    "### Series\n",
    "\n",
    "De pandas-variant van eendimensionale arrays heet Series. Er bestaan meerdere verschillen met numpy arrays, maar het belangrijkste: Indices zijn expliciet. Numpy kent impliciete indices die uniek zijn en optellen vanaf 0. In Series kunnen ze van alles zijn en hoeven ze niet uniek te zijn.\n",
    " \n",
    "\n",
    "Een serie kan gemaakt worden van objecten met of zonder index:\n",
    "\n"
   ]
  },
  {
   "cell_type": "code",
   "execution_count": 11,
   "metadata": {},
   "outputs": [
    {
     "name": "stdout",
     "output_type": "stream",
     "text": [
      "0    12\n",
      "1    13\n",
      "2    14\n",
      "dtype: int64\n",
      "\n"
     ]
    }
   ],
   "source": [
    "mijn_eerste_serie = pd.Series([12, 13, 14])   # Indices automatisch gegenereerd \"a la numpy\".\n",
    "print(mijn_eerste_serie)\n",
    "print()\n",
    "# mijn_eerste_serie = pd.Series([12, 13, 14], index=['nul', 'een', 'twee'])   # Indices opgegeven\n",
    "# print(mijn_eerste_serie)\n",
    "# print()\n",
    "# mijn_eerste_serie = pd.Series(np.array([12, 13, 14]), index=['nul', 'een', 'twee'])   # Werkt ook met numpy arrays\n",
    "# print(mijn_eerste_serie)\n",
    "# print()\n",
    "# mijn_eerste_serie = pd.Series([12, 13, 14], index=['nul', 'een', 'een'])   # Indices hoeven niet uniek te zijn\n",
    "# print(mijn_eerste_serie)\n",
    "# print()\n",
    "# mijn_eerste_serie = pd.Series({'dictnul':101, 'dicteen':202, 'dicttwee':303})   # Vanuit een dict worden keys de indices\n",
    "# print(mijn_eerste_serie)\n",
    "# print()"
   ]
  },
  {
   "cell_type": "markdown",
   "metadata": {},
   "source": [
    "Selectie is bijzonder eenvoudig, als je gebruikt maakt van de index! Sorteren kan op waarden, of op index.\n"
   ]
  },
  {
   "cell_type": "code",
   "execution_count": 30,
   "metadata": {},
   "outputs": [
    {
     "name": "stdout",
     "output_type": "stream",
     "text": [
      "nul    12.0\n",
      "een    13.0\n",
      "een    14.0\n",
      "34     33.0\n",
      "35     34.0\n",
      "36     35.0\n",
      "dtype: float64\n",
      "\n",
      "een    13.0\n",
      "een    14.0\n",
      "dtype: float64\n",
      "True\n",
      "False\n"
     ]
    }
   ],
   "source": [
    "mijn_eerste_serie = pd.Series([12, 13, 14, 33, 34., 35], index=['nul', 'een', 'een', 34, 35, 36]) # Indices hoeven niet hetzelfde datatype te hebben!\n",
    "print(mijn_eerste_serie)   # Zoals in numpy: alle elementen van \"meest complexe datatype\"\n",
    "print()\n",
    "print(mijn_eerste_serie['een'])   # Geeft alle elementen met de betreffende index!\n",
    "print('een' in mijn_eerste_serie)\n",
    "print(11 in mijn_eerste_serie)    # De in-operatie zoekt naar indices, niet naar waarden."
   ]
  },
  {
   "cell_type": "markdown",
   "metadata": {},
   "source": [
    "***\n",
    "\n",
    "### Je nieuwe vriend: het DataFrame\n",
    "\n",
    "Een DataFrame is een tabellarische datacontainer, tweedimensionaal. Het is eigenlijk niks meer dan een verzameling series met een gemeenschappelijke index. Wanneer geen kolomnamen worden opgegeven worden deze ook gewoon gevuld met 0, 1, 2 etc, net zoals voor de rijen geldt."
   ]
  },
  {
   "cell_type": "code",
   "execution_count": 24,
   "metadata": {},
   "outputs": [
    {
     "name": "stdout",
     "output_type": "stream",
     "text": [
      "          0         1        2         3\n",
      "0  0.808363  0.419425  0.10838  0.432661\n",
      "1  0.992370  0.983299  0.23328  0.668692\n",
      "2  0.131392  0.475144  0.67500  0.383575\n"
     ]
    },
    {
     "data": {
      "text/html": [
       "<div>\n",
       "<style scoped>\n",
       "    .dataframe tbody tr th:only-of-type {\n",
       "        vertical-align: middle;\n",
       "    }\n",
       "\n",
       "    .dataframe tbody tr th {\n",
       "        vertical-align: top;\n",
       "    }\n",
       "\n",
       "    .dataframe thead th {\n",
       "        text-align: right;\n",
       "    }\n",
       "</style>\n",
       "<table border=\"1\" class=\"dataframe\">\n",
       "  <thead>\n",
       "    <tr style=\"text-align: right;\">\n",
       "      <th></th>\n",
       "      <th>0</th>\n",
       "      <th>1</th>\n",
       "      <th>2</th>\n",
       "      <th>3</th>\n",
       "    </tr>\n",
       "  </thead>\n",
       "  <tbody>\n",
       "    <tr>\n",
       "      <th>0</th>\n",
       "      <td>0.808363</td>\n",
       "      <td>0.419425</td>\n",
       "      <td>0.10838</td>\n",
       "      <td>0.432661</td>\n",
       "    </tr>\n",
       "    <tr>\n",
       "      <th>1</th>\n",
       "      <td>0.992370</td>\n",
       "      <td>0.983299</td>\n",
       "      <td>0.23328</td>\n",
       "      <td>0.668692</td>\n",
       "    </tr>\n",
       "    <tr>\n",
       "      <th>2</th>\n",
       "      <td>0.131392</td>\n",
       "      <td>0.475144</td>\n",
       "      <td>0.67500</td>\n",
       "      <td>0.383575</td>\n",
       "    </tr>\n",
       "  </tbody>\n",
       "</table>\n",
       "</div>"
      ],
      "text/plain": [
       "          0         1        2         3\n",
       "0  0.808363  0.419425  0.10838  0.432661\n",
       "1  0.992370  0.983299  0.23328  0.668692\n",
       "2  0.131392  0.475144  0.67500  0.383575"
      ]
     },
     "execution_count": 24,
     "metadata": {},
     "output_type": "execute_result"
    }
   ],
   "source": [
    "mijn_eerste_df = pd.DataFrame(np.random.random(size=(3, 4)))\n",
    "print(mijn_eerste_df)\n",
    "mijn_eerste_df.head()    # head en tail laten de boven- resp. onderkant van de DataFrame zien. Wel een iets mooiere layout dan print."
   ]
  },
  {
   "cell_type": "code",
   "execution_count": 27,
   "metadata": {},
   "outputs": [
    {
     "data": {
      "text/html": [
       "<div>\n",
       "<style scoped>\n",
       "    .dataframe tbody tr th:only-of-type {\n",
       "        vertical-align: middle;\n",
       "    }\n",
       "\n",
       "    .dataframe tbody tr th {\n",
       "        vertical-align: top;\n",
       "    }\n",
       "\n",
       "    .dataframe thead th {\n",
       "        text-align: right;\n",
       "    }\n",
       "</style>\n",
       "<table border=\"1\" class=\"dataframe\">\n",
       "  <thead>\n",
       "    <tr style=\"text-align: right;\">\n",
       "      <th></th>\n",
       "      <th>x</th>\n",
       "      <th>y</th>\n",
       "      <th>z</th>\n",
       "    </tr>\n",
       "  </thead>\n",
       "  <tbody>\n",
       "    <tr>\n",
       "      <th>0</th>\n",
       "      <td>0.401272</td>\n",
       "      <td>0.718234</td>\n",
       "      <td>0.451345</td>\n",
       "    </tr>\n",
       "    <tr>\n",
       "      <th>1</th>\n",
       "      <td>0.773792</td>\n",
       "      <td>0.998598</td>\n",
       "      <td>0.976855</td>\n",
       "    </tr>\n",
       "    <tr>\n",
       "      <th>2</th>\n",
       "      <td>0.744124</td>\n",
       "      <td>0.023213</td>\n",
       "      <td>0.055970</td>\n",
       "    </tr>\n",
       "    <tr>\n",
       "      <th>3</th>\n",
       "      <td>0.119134</td>\n",
       "      <td>0.257129</td>\n",
       "      <td>0.612909</td>\n",
       "    </tr>\n",
       "  </tbody>\n",
       "</table>\n",
       "</div>"
      ],
      "text/plain": [
       "          x         y         z\n",
       "0  0.401272  0.718234  0.451345\n",
       "1  0.773792  0.998598  0.976855\n",
       "2  0.744124  0.023213  0.055970\n",
       "3  0.119134  0.257129  0.612909"
      ]
     },
     "execution_count": 27,
     "metadata": {},
     "output_type": "execute_result"
    }
   ],
   "source": [
    "mijn_eerste_df = pd.DataFrame(np.random.random(size=(4, 3)), columns=['x', 'y', 'z'])\n",
    "mijn_eerste_df\n"
   ]
  },
  {
   "cell_type": "code",
   "execution_count": 29,
   "metadata": {},
   "outputs": [
    {
     "data": {
      "text/html": [
       "<div>\n",
       "<style scoped>\n",
       "    .dataframe tbody tr th:only-of-type {\n",
       "        vertical-align: middle;\n",
       "    }\n",
       "\n",
       "    .dataframe tbody tr th {\n",
       "        vertical-align: top;\n",
       "    }\n",
       "\n",
       "    .dataframe thead th {\n",
       "        text-align: right;\n",
       "    }\n",
       "</style>\n",
       "<table border=\"1\" class=\"dataframe\">\n",
       "  <thead>\n",
       "    <tr style=\"text-align: right;\">\n",
       "      <th></th>\n",
       "      <th>eerste kolom</th>\n",
       "      <th>tweede kolom</th>\n",
       "      <th>derde kolom</th>\n",
       "    </tr>\n",
       "  </thead>\n",
       "  <tbody>\n",
       "    <tr>\n",
       "      <th>10</th>\n",
       "      <td>1</td>\n",
       "      <td>23</td>\n",
       "      <td>aap</td>\n",
       "    </tr>\n",
       "    <tr>\n",
       "      <th>20</th>\n",
       "      <td>2</td>\n",
       "      <td>45</td>\n",
       "      <td>noot</td>\n",
       "    </tr>\n",
       "    <tr>\n",
       "      <th>30</th>\n",
       "      <td>3</td>\n",
       "      <td>67</td>\n",
       "      <td>mies</td>\n",
       "    </tr>\n",
       "  </tbody>\n",
       "</table>\n",
       "</div>"
      ],
      "text/plain": [
       "    eerste kolom  tweede kolom derde kolom\n",
       "10             1            23         aap\n",
       "20             2            45        noot\n",
       "30             3            67        mies"
      ]
     },
     "execution_count": 29,
     "metadata": {},
     "output_type": "execute_result"
    }
   ],
   "source": [
    "# Gaat ook heel natuurlijk vanuit een dict\n",
    "mijn_eerste_df = pd.DataFrame({'eerste kolom':[1, 2, 3], 'tweede kolom':[23, 45, 67], 'derde kolom':['aap', 'noot', 'mies']}, index=[10,20, 30])\n",
    "mijn_eerste_df"
   ]
  },
  {
   "cell_type": "markdown",
   "metadata": {},
   "source": [
    "### Indices voor rijen, kolommen, filters en selecties\n",
    "We zagen al dat indices voor Series handig zijn om rijen te selecteren. Voor DataFrames is dat niet anders. Er kan ook op kolomnamen worden geselctereed, gefilterd, etc. Elke kolomnaam zonder spatie, die begint met een letter is ook een attribuut geworden van je DataFrame, wat selectie heel handig maakt."
   ]
  },
  {
   "cell_type": "code",
   "execution_count": 6,
   "metadata": {},
   "outputs": [
    {
     "name": "stdout",
     "output_type": "stream",
     "text": [
      "<class 'pandas.core.series.Series'>\n"
     ]
    },
    {
     "data": {
      "text/plain": [
       "10    1\n",
       "20    2\n",
       "30    3\n",
       "Name: eerste_kolom, dtype: int64"
      ]
     },
     "execution_count": 6,
     "metadata": {},
     "output_type": "execute_result"
    }
   ],
   "source": [
    "mijn_eerste_df = pd.DataFrame({'eerste_kolom':[1, 2, 3], 'tweede_kolom':[23, 45, 67], 'derde kolom':['aap', 'noot', 'mies']}, index=[10,20, 30])\n",
    "mijn_eerste_df['eerste_kolom'] \n",
    "print(type(mijn_eerste_df.eerste_kolom))\n",
    "mijn_eerste_df.eerste_kolom\n",
    "\n"
   ]
  },
  {
   "cell_type": "code",
   "execution_count": 10,
   "metadata": {},
   "outputs": [
    {
     "data": {
      "text/html": [
       "<div>\n",
       "<style scoped>\n",
       "    .dataframe tbody tr th:only-of-type {\n",
       "        vertical-align: middle;\n",
       "    }\n",
       "\n",
       "    .dataframe tbody tr th {\n",
       "        vertical-align: top;\n",
       "    }\n",
       "\n",
       "    .dataframe thead th {\n",
       "        text-align: right;\n",
       "    }\n",
       "</style>\n",
       "<table border=\"1\" class=\"dataframe\">\n",
       "  <thead>\n",
       "    <tr style=\"text-align: right;\">\n",
       "      <th></th>\n",
       "      <th>index</th>\n",
       "      <th>eerste_kolom</th>\n",
       "      <th>tweede_kolom</th>\n",
       "      <th>derde kolom</th>\n",
       "    </tr>\n",
       "  </thead>\n",
       "  <tbody>\n",
       "    <tr>\n",
       "      <th>0</th>\n",
       "      <td>10</td>\n",
       "      <td>1</td>\n",
       "      <td>23</td>\n",
       "      <td>aap</td>\n",
       "    </tr>\n",
       "    <tr>\n",
       "      <th>1</th>\n",
       "      <td>20</td>\n",
       "      <td>2</td>\n",
       "      <td>45</td>\n",
       "      <td>noot</td>\n",
       "    </tr>\n",
       "    <tr>\n",
       "      <th>2</th>\n",
       "      <td>30</td>\n",
       "      <td>3</td>\n",
       "      <td>67</td>\n",
       "      <td>mies</td>\n",
       "    </tr>\n",
       "  </tbody>\n",
       "</table>\n",
       "</div>"
      ],
      "text/plain": [
       "   index  eerste_kolom  tweede_kolom derde kolom\n",
       "0     10             1            23         aap\n",
       "1     20             2            45        noot\n",
       "2     30             3            67        mies"
      ]
     },
     "execution_count": 10,
     "metadata": {},
     "output_type": "execute_result"
    }
   ],
   "source": [
    "# Indices kunnen als kolom gebruikt worden, zodat er een nieuwe index 0, 1, 2, ... ontstaat met reset_index\n",
    "mijn_eerste_df.reset_index()  # Check de help: inplace=True is nu nog handig. drop=True laat de index verdwijnen\n",
    "\n",
    "# Je kunt ook een andere kolom als index gebruiken:\n",
    "# mijn_eerste_df.set_index('derde kolom', drop=False)  # drop=True is hier de standaard! Oorspronkelijke index verdwijnt.\n",
    "# In bijna alle functie met een \"inplace=False\" default, wordt deze binnenkort in de nieuwste pandas de default!"
   ]
  },
  {
   "cell_type": "code",
   "execution_count": 15,
   "metadata": {},
   "outputs": [
    {
     "data": {
      "text/plain": [
       "Int64Index([20, 30], dtype='int64')"
      ]
     },
     "execution_count": 15,
     "metadata": {},
     "output_type": "execute_result"
    }
   ],
   "source": [
    "# Kolomnamen maken filtering heel erg makkelijk:\n",
    "mijn_eerste_df[mijn_eerste_df.eerste_kolom > 1]\n",
    "# mijn_eerste_df[((mijn_eerste_df.eerste_kolom > 1) & (mijn_eerste_df[\"derde kolom\"] != 'mies'))]\n",
    "\n",
    "# Als je na zo'n selectie alleen indices wilt:\n",
    "mijn_eerste_df[mijn_eerste_df.eerste_kolom > 1].index  # Zet daar nog een .values achter als je geinteresseerd bent in de waarden van de indices\n"
   ]
  },
  {
   "cell_type": "markdown",
   "metadata": {},
   "source": [
    "### Selectie met loc en iloc\n",
    "\n",
    "Indices kunnen soms licht verwarrend werken. Zo zijn expliciete en impliciete indices toegstaan in pandas:"
   ]
  },
  {
   "cell_type": "code",
   "execution_count": 40,
   "metadata": {},
   "outputs": [
    {
     "name": "stdout",
     "output_type": "stream",
     "text": [
      "1     a\n",
      "3     b\n",
      "5     c\n",
      "7     d\n",
      "9     e\n",
      "11    f\n",
      "dtype: object\n",
      "\n",
      "a\n",
      "\n",
      "7     d\n",
      "9     e\n",
      "11    f\n",
      "dtype: object\n"
     ]
    }
   ],
   "source": [
    "data = pd.Series(['a', 'b', 'c', 'd', 'e', 'f'], index=[1, 3, 5, 7, 9, 11])\n",
    "print(data)\n",
    "print()\n",
    "print(data[1])    # expliciet, de waarde die bij index 1 hoort\n",
    "print()\n",
    "print(data[3:6])  # impliciet, er wordt nu wel langs de elementen \"geteld\" \n"
   ]
  },
  {
   "cell_type": "markdown",
   "metadata": {},
   "source": [
    "Om deze verwarring te voorkomen bestaat de \"loc\" indexer, die altijd gaat over de echte indices. Tegenhanger iloc daarenetegen gebruikt impliciete \"Python style\" indices. Vanwege het duidelijke en eenduidige karakter van deze twee indexers, is het aan te raden om altijd deze vorm te gebruiken als je duidelijke en onderhoudbare code wilt schrijven. Onder de simpele voorbeelden met een pd.Series wordt een DataFrame gedefinieerd om deze functionaliteiten ook daarop te introduceren."
   ]
  },
  {
   "cell_type": "code",
   "execution_count": 2,
   "metadata": {},
   "outputs": [
    {
     "name": "stdout",
     "output_type": "stream",
     "text": [
      "c\n",
      "c\n",
      "\n"
     ]
    }
   ],
   "source": [
    "data = pd.Series(['a', 'b', 'c', 'd', 'e', 'f'], index=[1, 3, 5, 7, 9, 11])\n",
    "print(data.loc[5])\n",
    "print(data.iloc[2])\n",
    "\n",
    "print()\n",
    "# area = pd.Series({'California': 423967, 'Texas': 695662,\n",
    "#                   'New York': 141297, 'Florida': 170312,\n",
    "#                   'Illinois': 149995})\n",
    "# pop = pd.Series({'California': 38332521, 'Texas': 26448193,\n",
    "#                  'New York': 19651127, 'Florida': 19552860,\n",
    "#                  'Illinois': 12882135})\n",
    "# data = pd.DataFrame({'area':area, 'pop':pop})\n",
    "# print(data)\n",
    "\n",
    "# print()\n",
    "\n",
    "# print(data.area)   # Probeer dat eens met de andere kolom! print(data.pop)\n",
    "# print()\n",
    "\n",
    "# data['density'] = data['pop'] / data['area']\n",
    "# print(data)\n",
    "# print()\n",
    "# print(data.iloc[:3, :2])    # iloc laat de DataFrame als een simpele numpy array werken.\n",
    "# print()\n",
    "# print(data.loc['Texas':'Florida', :'pop'])"
   ]
  },
  {
   "cell_type": "markdown",
   "metadata": {},
   "source": [
    "Omdat het soms verwarrend is wanneer rijen, en wanneer kolommen bedoeld worden:\n",
    "- Indexing gaat over kolommen, slicing over rijen.\n",
    "- Dit kan ook met np.array-achtige stijl worden genoteerd\n",
    "- Selectie met voorwaarden gaan op dezelfde manier."
   ]
  },
  {
   "cell_type": "code",
   "execution_count": 57,
   "metadata": {},
   "outputs": [
    {
     "name": "stdout",
     "output_type": "stream",
     "text": [
      "            area       pop     density\n",
      "Texas     695662  26448193   38.018740\n",
      "New York  141297  19651127  139.076746\n",
      "\n",
      "            area       pop     density\n",
      "Texas     695662  26448193   38.018740\n",
      "New York  141297  19651127  139.076746\n",
      "Florida   170312  19552860  114.806121\n",
      "\n",
      "            area       pop     density\n",
      "New York  141297  19651127  139.076746\n",
      "Florida   170312  19552860  114.806121\n"
     ]
    }
   ],
   "source": [
    "print(data[\"Texas\":\"New York\"])\n",
    "print()\n",
    "print(data[1:4])\n",
    "print()\n",
    "print(data[data.density > 100])"
   ]
  },
  {
   "cell_type": "markdown",
   "metadata": {},
   "source": [
    "### Multi-index\n",
    "Je kunt ook indices met meer dan 1 niveau hebben."
   ]
  },
  {
   "cell_type": "code",
   "execution_count": 60,
   "metadata": {},
   "outputs": [
    {
     "name": "stdout",
     "output_type": "stream",
     "text": [
      "MultiIndex(levels=[['California', 'New York', 'Texas'], [2000, 2010]],\n",
      "           labels=[[0, 0, 1, 1, 2, 2], [0, 1, 0, 1, 0, 1]])\n",
      "\n",
      "California  2000    33871648\n",
      "            2010    37253956\n",
      "New York    2000    18976457\n",
      "            2010    19378102\n",
      "Texas       2000    20851820\n",
      "            2010    25145561\n",
      "dtype: int64\n",
      "\n",
      "California    37253956\n",
      "New York      19378102\n",
      "Texas         25145561\n",
      "dtype: int64\n"
     ]
    }
   ],
   "source": [
    "index = [('California', 2000), ('California', 2010),\n",
    "         ('New York', 2000), ('New York', 2010),\n",
    "         ('Texas', 2000), ('Texas', 2010)]\n",
    "index = pd.MultiIndex.from_tuples(index)\n",
    "print(index)\n",
    "# print()\n",
    "# populations = [33871648, 37253956,\n",
    "#                18976457, 19378102,\n",
    "#                20851820, 25145561]\n",
    "# pop = pd.Series(populations, index=index)\n",
    "# print(pop)\n",
    "# print()\n",
    "\n",
    "# print(pop[:, 2010])\n",
    "\n"
   ]
  },
  {
   "cell_type": "code",
   "execution_count": 62,
   "metadata": {},
   "outputs": [
    {
     "name": "stdout",
     "output_type": "stream",
     "text": [
      "                2000      2010\n",
      "California  33871648  37253956\n",
      "New York    18976457  19378102\n",
      "Texas       20851820  25145561\n",
      "\n"
     ]
    },
    {
     "data": {
      "text/plain": [
       "California  2000    33871648\n",
       "            2010    37253956\n",
       "New York    2000    18976457\n",
       "            2010    19378102\n",
       "Texas       2000    20851820\n",
       "            2010    25145561\n",
       "dtype: int64"
      ]
     },
     "execution_count": 62,
     "metadata": {},
     "output_type": "execute_result"
    }
   ],
   "source": [
    "# De multi-index kan ook gebruikt worden om kolommen te maken:\n",
    "pop_df = pop.unstack()\n",
    "print(pop_df)\n",
    "print()\n",
    "pop_df.stack()\n"
   ]
  },
  {
   "cell_type": "code",
   "execution_count": 63,
   "metadata": {},
   "outputs": [
    {
     "data": {
      "text/html": [
       "<div>\n",
       "<style scoped>\n",
       "    .dataframe tbody tr th:only-of-type {\n",
       "        vertical-align: middle;\n",
       "    }\n",
       "\n",
       "    .dataframe tbody tr th {\n",
       "        vertical-align: top;\n",
       "    }\n",
       "\n",
       "    .dataframe thead th {\n",
       "        text-align: right;\n",
       "    }\n",
       "</style>\n",
       "<table border=\"1\" class=\"dataframe\">\n",
       "  <thead>\n",
       "    <tr style=\"text-align: right;\">\n",
       "      <th></th>\n",
       "      <th></th>\n",
       "      <th>total</th>\n",
       "      <th>under18</th>\n",
       "    </tr>\n",
       "  </thead>\n",
       "  <tbody>\n",
       "    <tr>\n",
       "      <th rowspan=\"2\" valign=\"top\">California</th>\n",
       "      <th>2000</th>\n",
       "      <td>33871648</td>\n",
       "      <td>9267089</td>\n",
       "    </tr>\n",
       "    <tr>\n",
       "      <th>2010</th>\n",
       "      <td>37253956</td>\n",
       "      <td>9284094</td>\n",
       "    </tr>\n",
       "    <tr>\n",
       "      <th rowspan=\"2\" valign=\"top\">New York</th>\n",
       "      <th>2000</th>\n",
       "      <td>18976457</td>\n",
       "      <td>4687374</td>\n",
       "    </tr>\n",
       "    <tr>\n",
       "      <th>2010</th>\n",
       "      <td>19378102</td>\n",
       "      <td>4318033</td>\n",
       "    </tr>\n",
       "    <tr>\n",
       "      <th rowspan=\"2\" valign=\"top\">Texas</th>\n",
       "      <th>2000</th>\n",
       "      <td>20851820</td>\n",
       "      <td>5906301</td>\n",
       "    </tr>\n",
       "    <tr>\n",
       "      <th>2010</th>\n",
       "      <td>25145561</td>\n",
       "      <td>6879014</td>\n",
       "    </tr>\n",
       "  </tbody>\n",
       "</table>\n",
       "</div>"
      ],
      "text/plain": [
       "                    total  under18\n",
       "California 2000  33871648  9267089\n",
       "           2010  37253956  9284094\n",
       "New York   2000  18976457  4687374\n",
       "           2010  19378102  4318033\n",
       "Texas      2000  20851820  5906301\n",
       "           2010  25145561  6879014"
      ]
     },
     "execution_count": 63,
     "metadata": {},
     "output_type": "execute_result"
    }
   ],
   "source": [
    "# Een dataframe maken met de nieuwe multi-index is net zo makkelijk als het toevoegen van een kolom anders zou zijn:\n",
    "pop_df = pd.DataFrame({'total': pop,\n",
    "                       'under18': [9267089, 9284094,\n",
    "                                   4687374, 4318033,\n",
    "                                   5906301, 6879014]})\n",
    "pop_df\n",
    "\n"
   ]
  },
  {
   "cell_type": "code",
   "execution_count": 70,
   "metadata": {},
   "outputs": [
    {
     "data": {
      "text/plain": [
       "state       year\n",
       "California  2000    33871648\n",
       "            2010    37253956\n",
       "New York    2000    18976457\n",
       "            2010    19378102\n",
       "Texas       2000    20851820\n",
       "            2010    25145561\n",
       "dtype: int64"
      ]
     },
     "execution_count": 70,
     "metadata": {},
     "output_type": "execute_result"
    }
   ],
   "source": [
    "# De index-levels kunnen ook namen krijgen\n",
    "pop.index.names = ['state', 'year']\n",
    "pop"
   ]
  },
  {
   "cell_type": "code",
   "execution_count": 72,
   "metadata": {},
   "outputs": [
    {
     "data": {
      "text/html": [
       "<div>\n",
       "<style scoped>\n",
       "    .dataframe tbody tr th:only-of-type {\n",
       "        vertical-align: middle;\n",
       "    }\n",
       "\n",
       "    .dataframe tbody tr th {\n",
       "        vertical-align: top;\n",
       "    }\n",
       "\n",
       "    .dataframe thead tr th {\n",
       "        text-align: left;\n",
       "    }\n",
       "\n",
       "    .dataframe thead tr:last-of-type th {\n",
       "        text-align: right;\n",
       "    }\n",
       "</style>\n",
       "<table border=\"1\" class=\"dataframe\">\n",
       "  <thead>\n",
       "    <tr>\n",
       "      <th></th>\n",
       "      <th>Patient</th>\n",
       "      <th colspan=\"2\" halign=\"left\">Jan</th>\n",
       "      <th colspan=\"2\" halign=\"left\">Kees</th>\n",
       "      <th colspan=\"2\" halign=\"left\">Suus</th>\n",
       "    </tr>\n",
       "    <tr>\n",
       "      <th></th>\n",
       "      <th>Onderzoek</th>\n",
       "      <th>Hartslag</th>\n",
       "      <th>Temperatuur</th>\n",
       "      <th>Hartslag</th>\n",
       "      <th>Temperatuur</th>\n",
       "      <th>Hartslag</th>\n",
       "      <th>Temperatuur</th>\n",
       "    </tr>\n",
       "    <tr>\n",
       "      <th>Jaar</th>\n",
       "      <th>Doktersbezoek</th>\n",
       "      <th></th>\n",
       "      <th></th>\n",
       "      <th></th>\n",
       "      <th></th>\n",
       "      <th></th>\n",
       "      <th></th>\n",
       "    </tr>\n",
       "  </thead>\n",
       "  <tbody>\n",
       "    <tr>\n",
       "      <th rowspan=\"2\" valign=\"top\">2016</th>\n",
       "      <th>Winter</th>\n",
       "      <td>30.0</td>\n",
       "      <td>35.8</td>\n",
       "      <td>45.0</td>\n",
       "      <td>39.2</td>\n",
       "      <td>43.0</td>\n",
       "      <td>33.8</td>\n",
       "    </tr>\n",
       "    <tr>\n",
       "      <th>Zomer</th>\n",
       "      <td>30.0</td>\n",
       "      <td>38.7</td>\n",
       "      <td>32.0</td>\n",
       "      <td>36.0</td>\n",
       "      <td>38.0</td>\n",
       "      <td>36.8</td>\n",
       "    </tr>\n",
       "    <tr>\n",
       "      <th rowspan=\"2\" valign=\"top\">2017</th>\n",
       "      <th>Winter</th>\n",
       "      <td>70.0</td>\n",
       "      <td>37.5</td>\n",
       "      <td>35.0</td>\n",
       "      <td>37.1</td>\n",
       "      <td>39.0</td>\n",
       "      <td>36.2</td>\n",
       "    </tr>\n",
       "    <tr>\n",
       "      <th>Zomer</th>\n",
       "      <td>37.0</td>\n",
       "      <td>37.1</td>\n",
       "      <td>41.0</td>\n",
       "      <td>36.5</td>\n",
       "      <td>31.0</td>\n",
       "      <td>36.3</td>\n",
       "    </tr>\n",
       "  </tbody>\n",
       "</table>\n",
       "</div>"
      ],
      "text/plain": [
       "Patient                 Jan                 Kees                 Suus  \\\n",
       "Onderzoek          Hartslag Temperatuur Hartslag Temperatuur Hartslag   \n",
       "Jaar Doktersbezoek                                                      \n",
       "2016 Winter            30.0        35.8     45.0        39.2     43.0   \n",
       "     Zomer             30.0        38.7     32.0        36.0     38.0   \n",
       "2017 Winter            70.0        37.5     35.0        37.1     39.0   \n",
       "     Zomer             37.0        37.1     41.0        36.5     31.0   \n",
       "\n",
       "Patient                         \n",
       "Onderzoek          Temperatuur  \n",
       "Jaar Doktersbezoek              \n",
       "2016 Winter               33.8  \n",
       "     Zomer                36.8  \n",
       "2017 Winter               36.2  \n",
       "     Zomer                36.3  "
      ]
     },
     "execution_count": 72,
     "metadata": {},
     "output_type": "execute_result"
    }
   ],
   "source": [
    "# En ze werken ook voor kolommen\n",
    "index = pd.MultiIndex.from_product([[2016, 2017], ['Winter', 'Zomer']],\n",
    "                                   names=['Jaar', 'Doktersbezoek'])\n",
    "columns = pd.MultiIndex.from_product([['Jan', 'Kees', 'Suus'], ['Hartslag', 'Temperatuur']],\n",
    "                                     names=['Patient', 'Onderzoek'])\n",
    "\n",
    "# Namaakdata\n",
    "data = np.round(np.random.randn(4, 6), 1)\n",
    "data[:, ::2] *= 10\n",
    "data += 37\n",
    "\n",
    "# DataFrame!\n",
    "gezondheid = pd.DataFrame(data, index=index, columns=columns)\n",
    "gezondheid"
   ]
  },
  {
   "cell_type": "code",
   "execution_count": 89,
   "metadata": {},
   "outputs": [
    {
     "data": {
      "text/plain": [
       "Jaar  Doktersbezoek\n",
       "2016  Winter           30.0\n",
       "      Zomer            30.0\n",
       "2017  Winter           70.0\n",
       "      Zomer            37.0\n",
       "Name: (Jan, Hartslag), dtype: float64"
      ]
     },
     "execution_count": 89,
     "metadata": {},
     "output_type": "execute_result"
    }
   ],
   "source": [
    "gezondheid['Kees']\n",
    "# gezondheid.loc[2016]\n",
    "# gezondheid.loc[:, ('Jan', 'Hartslag')]\n"
   ]
  },
  {
   "cell_type": "markdown",
   "metadata": {},
   "source": [
    "### Beschrijvende statistiek\n",
    "Omdat pandas gemaakt is om met kwantitatieve data te werken is het eenvoudig om allerlei beschrijvende statistieken uit je data te halen. Een soort samenvatting van je hele DataFrame kun je eenvoudig krijgen met .describe(). Andere functies, zoals alle numpy en scipy functies werken moeiteloos op kolommen van DataFrames."
   ]
  },
  {
   "cell_type": "code",
   "execution_count": 69,
   "metadata": {},
   "outputs": [
    {
     "data": {
      "text/html": [
       "<div>\n",
       "<style scoped>\n",
       "    .dataframe tbody tr th:only-of-type {\n",
       "        vertical-align: middle;\n",
       "    }\n",
       "\n",
       "    .dataframe tbody tr th {\n",
       "        vertical-align: top;\n",
       "    }\n",
       "\n",
       "    .dataframe thead th {\n",
       "        text-align: right;\n",
       "    }\n",
       "</style>\n",
       "<table border=\"1\" class=\"dataframe\">\n",
       "  <thead>\n",
       "    <tr style=\"text-align: right;\">\n",
       "      <th></th>\n",
       "      <th>eerste_kolom</th>\n",
       "      <th>tweede_kolom</th>\n",
       "    </tr>\n",
       "  </thead>\n",
       "  <tbody>\n",
       "    <tr>\n",
       "      <th>count</th>\n",
       "      <td>3.0</td>\n",
       "      <td>3.0</td>\n",
       "    </tr>\n",
       "    <tr>\n",
       "      <th>mean</th>\n",
       "      <td>2.0</td>\n",
       "      <td>45.0</td>\n",
       "    </tr>\n",
       "    <tr>\n",
       "      <th>std</th>\n",
       "      <td>1.0</td>\n",
       "      <td>22.0</td>\n",
       "    </tr>\n",
       "    <tr>\n",
       "      <th>min</th>\n",
       "      <td>1.0</td>\n",
       "      <td>23.0</td>\n",
       "    </tr>\n",
       "    <tr>\n",
       "      <th>25%</th>\n",
       "      <td>1.5</td>\n",
       "      <td>34.0</td>\n",
       "    </tr>\n",
       "    <tr>\n",
       "      <th>50%</th>\n",
       "      <td>2.0</td>\n",
       "      <td>45.0</td>\n",
       "    </tr>\n",
       "    <tr>\n",
       "      <th>75%</th>\n",
       "      <td>2.5</td>\n",
       "      <td>56.0</td>\n",
       "    </tr>\n",
       "    <tr>\n",
       "      <th>max</th>\n",
       "      <td>3.0</td>\n",
       "      <td>67.0</td>\n",
       "    </tr>\n",
       "  </tbody>\n",
       "</table>\n",
       "</div>"
      ],
      "text/plain": [
       "       eerste_kolom  tweede_kolom\n",
       "count           3.0           3.0\n",
       "mean            2.0          45.0\n",
       "std             1.0          22.0\n",
       "min             1.0          23.0\n",
       "25%             1.5          34.0\n",
       "50%             2.0          45.0\n",
       "75%             2.5          56.0\n",
       "max             3.0          67.0"
      ]
     },
     "execution_count": 69,
     "metadata": {},
     "output_type": "execute_result"
    }
   ],
   "source": [
    "mijn_eerste_df = pd.DataFrame({'eerste_kolom':[1, 2, 3], 'tweede_kolom':[23, 45, 67], 'derde kolom':['aap', 'noot', 'mies']}, index=[10,20, 30])\n",
    "mijn_eerste_df.describe()   # Informatie over alle numerieke kolommen.\n",
    "# np.nanmean(mijn_eerste_df.eerste_kolom)\n",
    "# np.nanmean(mijn_eerste_df.loc[:,('eerste_kolom', 'tweede_kolom')])"
   ]
  },
  {
   "cell_type": "markdown",
   "metadata": {},
   "source": [
    "### Data laden en wegschrijven\n",
    "Vaak krijg je data van anderen angeleverd, of bereid je wellicht zelf met andere tools data voor. Deze data komt dan in een dataformaat dat moet worden gelezen ni Python, bijvoorbeeld met pandas, om er verder mee aan de slag te kunnen. Python kan gemakkelijk platte tekst lezen en ddar numerieke data van maken, maar we gaan er voor deze cursus van uit dat de data wordt aangeleverd in een gestandaardiseerd formaat, zoals bijvoorbeeld csv, excel, json, xml of hdf5. In deze instructie spelen we met excel en csv om dat deze formaten in veel bedrijven gangbaar zijn. Heb je moeite met het lezen van je eigen dataformaat, neem dan vooral even contact op met de cursusleider (op een cursusavond, of via datascience@marcelhaas.com).\n",
    "\n",
    "Wanneer je begint te typen met \"pd.read_\" en dan op tab drukt zie je vanzelf wat er gelezen kan worden met standaard pandas functies. Het nu volgende voorbeeld gebruikt een csv, maar voor het lezen van excel gaat het op dezelfde manier.\n"
   ]
  },
  {
   "cell_type": "code",
   "execution_count": 26,
   "metadata": {},
   "outputs": [
    {
     "data": {
      "text/html": [
       "<div>\n",
       "<style scoped>\n",
       "    .dataframe tbody tr th:only-of-type {\n",
       "        vertical-align: middle;\n",
       "    }\n",
       "\n",
       "    .dataframe tbody tr th {\n",
       "        vertical-align: top;\n",
       "    }\n",
       "\n",
       "    .dataframe thead th {\n",
       "        text-align: right;\n",
       "    }\n",
       "</style>\n",
       "<table border=\"1\" class=\"dataframe\">\n",
       "  <thead>\n",
       "    <tr style=\"text-align: right;\">\n",
       "      <th></th>\n",
       "      <th>Merk</th>\n",
       "      <th>smaak</th>\n",
       "      <th>intensiteit</th>\n",
       "      <th>beoordeling</th>\n",
       "      <th>notities</th>\n",
       "    </tr>\n",
       "  </thead>\n",
       "  <tbody>\n",
       "    <tr>\n",
       "      <th>0</th>\n",
       "      <td>Palazzo</td>\n",
       "      <td>Lungo</td>\n",
       "      <td>6</td>\n",
       "      <td>2</td>\n",
       "      <td>slapjes en ietwat zoet</td>\n",
       "    </tr>\n",
       "    <tr>\n",
       "      <th>1</th>\n",
       "      <td>Palazzo</td>\n",
       "      <td>Espresso Intenso</td>\n",
       "      <td>8</td>\n",
       "      <td>3</td>\n",
       "      <td>muf waterig</td>\n",
       "    </tr>\n",
       "    <tr>\n",
       "      <th>2</th>\n",
       "      <td>Palazzo</td>\n",
       "      <td>Ristretto</td>\n",
       "      <td>8</td>\n",
       "      <td>5</td>\n",
       "      <td>saai en te slap voor espresso</td>\n",
       "    </tr>\n",
       "    <tr>\n",
       "      <th>3</th>\n",
       "      <td>G'woon</td>\n",
       "      <td>Espresso Nero</td>\n",
       "      <td>8</td>\n",
       "      <td>7</td>\n",
       "      <td>te saai voor espresso maar niet onaardig</td>\n",
       "    </tr>\n",
       "    <tr>\n",
       "      <th>4</th>\n",
       "      <td>L'Or</td>\n",
       "      <td>Ristretto</td>\n",
       "      <td>11</td>\n",
       "      <td>8</td>\n",
       "      <td>mooie volle smaak</td>\n",
       "    </tr>\n",
       "    <tr>\n",
       "      <th>5</th>\n",
       "      <td>L'Or</td>\n",
       "      <td>Supremo</td>\n",
       "      <td>10</td>\n",
       "      <td>9</td>\n",
       "      <td>lekker!</td>\n",
       "    </tr>\n",
       "    <tr>\n",
       "      <th>6</th>\n",
       "      <td>DE</td>\n",
       "      <td>Lungo 8 intens</td>\n",
       "      <td>8</td>\n",
       "      <td>8</td>\n",
       "      <td>beter als lungo dan als espresso</td>\n",
       "    </tr>\n",
       "    <tr>\n",
       "      <th>7</th>\n",
       "      <td>L'Or</td>\n",
       "      <td>Espresso Fortissimo</td>\n",
       "      <td>10</td>\n",
       "      <td>9</td>\n",
       "      <td>lekker!</td>\n",
       "    </tr>\n",
       "  </tbody>\n",
       "</table>\n",
       "</div>"
      ],
      "text/plain": [
       "      Merk                 smaak  intensiteit  beoordeling  \\\n",
       "0  Palazzo                 Lungo            6            2   \n",
       "1  Palazzo      Espresso Intenso            8            3   \n",
       "2  Palazzo             Ristretto            8            5   \n",
       "3   G'woon         Espresso Nero            8            7   \n",
       "4     L'Or             Ristretto           11            8   \n",
       "5     L'Or               Supremo           10            9   \n",
       "6       DE        Lungo 8 intens            8            8   \n",
       "7     L'Or   Espresso Fortissimo           10            9   \n",
       "\n",
       "                                    notities  \n",
       "0                     slapjes en ietwat zoet  \n",
       "1                                muf waterig  \n",
       "2              saai en te slap voor espresso  \n",
       "3   te saai voor espresso maar niet onaardig  \n",
       "4                          mooie volle smaak  \n",
       "5                                    lekker!  \n",
       "6           beter als lungo dan als espresso  \n",
       "7                                    lekker!  "
      ]
     },
     "execution_count": 26,
     "metadata": {},
     "output_type": "execute_result"
    }
   ],
   "source": [
    "koffiefile = os.path.join('data', 'csvoorbeeld.csv')\n",
    "koffie = pd.read_csv(koffiefile, )   # check de help voor alle opties!\n",
    "koffie"
   ]
  },
  {
   "cell_type": "markdown",
   "metadata": {},
   "source": [
    "Wegschrijven gaat op een manier die vergelijkbaar is met lezen. Je moet een file definieren en er een object naartoe schrijven met een geschikte methode. Pandas heeft er opnieuw een hoop. Een voorbeeld om bovenstaand DataFrame over koffie naar een excel-file te schrijven:"
   ]
  },
  {
   "cell_type": "code",
   "execution_count": null,
   "metadata": {},
   "outputs": [],
   "source": [
    "writer = pd.ExcelWriter(os.path.join('data', 'koffie_in_excel.xlsx'))\n",
    "koffie.to_excel(writer, 'Lekker!')\n",
    "writer.save()"
   ]
  },
  {
   "cell_type": "markdown",
   "metadata": {},
   "source": [
    "### Data combineren\n",
    "\n",
    "Zeer zelden zit alle data die je nodig hebt al in 1 tabel. Denk bijvoorbeeld aan een database vol met verkochte goederen. Hierin is meestal alleen een klant-ID opgenomen, zodat in een andere database (of een andere tabel) de data over die klant (leeftijd, geslacht, betaalhistorie) teruggevonden kan worden, en deze informatie niet voor iedere transactie met dezelfde klant herhaald hoeft te worden.\n",
    "\n",
    "Hier breid ik het koffie-voorbeeld uit met wat extra informatie over de merken in de tabel (disclaimer: ik ben niet betaald door koffieverkopers... en het is allemaal slechts de mening van een simpele data scientist, of fictioneel). Ik laat er expres 1 uit, en stop er een andere bij."
   ]
  },
  {
   "cell_type": "code",
   "execution_count": 27,
   "metadata": {},
   "outputs": [
    {
     "data": {
      "text/html": [
       "<div>\n",
       "<style scoped>\n",
       "    .dataframe tbody tr th:only-of-type {\n",
       "        vertical-align: middle;\n",
       "    }\n",
       "\n",
       "    .dataframe tbody tr th {\n",
       "        vertical-align: top;\n",
       "    }\n",
       "\n",
       "    .dataframe thead th {\n",
       "        text-align: right;\n",
       "    }\n",
       "</style>\n",
       "<table border=\"1\" class=\"dataframe\">\n",
       "  <thead>\n",
       "    <tr style=\"text-align: right;\">\n",
       "      <th></th>\n",
       "      <th>Merk</th>\n",
       "      <th>Land</th>\n",
       "    </tr>\n",
       "  </thead>\n",
       "  <tbody>\n",
       "    <tr>\n",
       "      <th>0</th>\n",
       "      <td>Palazzo</td>\n",
       "      <td>Nederland</td>\n",
       "    </tr>\n",
       "    <tr>\n",
       "      <th>1</th>\n",
       "      <td>G'woon</td>\n",
       "      <td>Nederland</td>\n",
       "    </tr>\n",
       "    <tr>\n",
       "      <th>2</th>\n",
       "      <td>L'Or</td>\n",
       "      <td>Frankrijk</td>\n",
       "    </tr>\n",
       "    <tr>\n",
       "      <th>3</th>\n",
       "      <td>Nescafe</td>\n",
       "      <td>Duitsland</td>\n",
       "    </tr>\n",
       "  </tbody>\n",
       "</table>\n",
       "</div>"
      ],
      "text/plain": [
       "      Merk       Land\n",
       "0  Palazzo  Nederland\n",
       "1   G'woon  Nederland\n",
       "2     L'Or  Frankrijk\n",
       "3  Nescafe  Duitsland"
      ]
     },
     "execution_count": 27,
     "metadata": {},
     "output_type": "execute_result"
    }
   ],
   "source": [
    "# Definieer een DataFrame met informatie per merk:\n",
    "koffiemerken = pd.DataFrame({'Merk':['Palazzo', \"G'woon\", \"L'Or\", \"Nescafe\"], \"Land\":['Nederland', 'Nederland', 'Frankrijk', 'Duitsland']})\n",
    "koffiemerken"
   ]
  },
  {
   "cell_type": "code",
   "execution_count": 28,
   "metadata": {},
   "outputs": [
    {
     "data": {
      "text/html": [
       "<div>\n",
       "<style scoped>\n",
       "    .dataframe tbody tr th:only-of-type {\n",
       "        vertical-align: middle;\n",
       "    }\n",
       "\n",
       "    .dataframe tbody tr th {\n",
       "        vertical-align: top;\n",
       "    }\n",
       "\n",
       "    .dataframe thead th {\n",
       "        text-align: right;\n",
       "    }\n",
       "</style>\n",
       "<table border=\"1\" class=\"dataframe\">\n",
       "  <thead>\n",
       "    <tr style=\"text-align: right;\">\n",
       "      <th></th>\n",
       "      <th>Merk</th>\n",
       "      <th>smaak</th>\n",
       "      <th>intensiteit</th>\n",
       "      <th>beoordeling</th>\n",
       "      <th>notities</th>\n",
       "      <th>Land</th>\n",
       "    </tr>\n",
       "  </thead>\n",
       "  <tbody>\n",
       "    <tr>\n",
       "      <th>0</th>\n",
       "      <td>Palazzo</td>\n",
       "      <td>Lungo</td>\n",
       "      <td>6</td>\n",
       "      <td>2</td>\n",
       "      <td>slapjes en ietwat zoet</td>\n",
       "      <td>Nederland</td>\n",
       "    </tr>\n",
       "    <tr>\n",
       "      <th>1</th>\n",
       "      <td>Palazzo</td>\n",
       "      <td>Espresso Intenso</td>\n",
       "      <td>8</td>\n",
       "      <td>3</td>\n",
       "      <td>muf waterig</td>\n",
       "      <td>Nederland</td>\n",
       "    </tr>\n",
       "    <tr>\n",
       "      <th>2</th>\n",
       "      <td>Palazzo</td>\n",
       "      <td>Ristretto</td>\n",
       "      <td>8</td>\n",
       "      <td>5</td>\n",
       "      <td>saai en te slap voor espresso</td>\n",
       "      <td>Nederland</td>\n",
       "    </tr>\n",
       "    <tr>\n",
       "      <th>3</th>\n",
       "      <td>G'woon</td>\n",
       "      <td>Espresso Nero</td>\n",
       "      <td>8</td>\n",
       "      <td>7</td>\n",
       "      <td>te saai voor espresso maar niet onaardig</td>\n",
       "      <td>Nederland</td>\n",
       "    </tr>\n",
       "    <tr>\n",
       "      <th>4</th>\n",
       "      <td>L'Or</td>\n",
       "      <td>Ristretto</td>\n",
       "      <td>11</td>\n",
       "      <td>8</td>\n",
       "      <td>mooie volle smaak</td>\n",
       "      <td>Frankrijk</td>\n",
       "    </tr>\n",
       "    <tr>\n",
       "      <th>5</th>\n",
       "      <td>L'Or</td>\n",
       "      <td>Supremo</td>\n",
       "      <td>10</td>\n",
       "      <td>9</td>\n",
       "      <td>lekker!</td>\n",
       "      <td>Frankrijk</td>\n",
       "    </tr>\n",
       "    <tr>\n",
       "      <th>6</th>\n",
       "      <td>L'Or</td>\n",
       "      <td>Espresso Fortissimo</td>\n",
       "      <td>10</td>\n",
       "      <td>9</td>\n",
       "      <td>lekker!</td>\n",
       "      <td>Frankrijk</td>\n",
       "    </tr>\n",
       "  </tbody>\n",
       "</table>\n",
       "</div>"
      ],
      "text/plain": [
       "      Merk                 smaak  intensiteit  beoordeling  \\\n",
       "0  Palazzo                 Lungo            6            2   \n",
       "1  Palazzo      Espresso Intenso            8            3   \n",
       "2  Palazzo             Ristretto            8            5   \n",
       "3   G'woon         Espresso Nero            8            7   \n",
       "4     L'Or             Ristretto           11            8   \n",
       "5     L'Or               Supremo           10            9   \n",
       "6     L'Or   Espresso Fortissimo           10            9   \n",
       "\n",
       "                                    notities       Land  \n",
       "0                     slapjes en ietwat zoet  Nederland  \n",
       "1                                muf waterig  Nederland  \n",
       "2              saai en te slap voor espresso  Nederland  \n",
       "3   te saai voor espresso maar niet onaardig  Nederland  \n",
       "4                          mooie volle smaak  Frankrijk  \n",
       "5                                    lekker!  Frankrijk  \n",
       "6                                    lekker!  Frankrijk  "
      ]
     },
     "execution_count": 28,
     "metadata": {},
     "output_type": "execute_result"
    }
   ],
   "source": [
    "# Voeg deze data van landen toe aan de tabel hierboven\n",
    "koffie.merge(koffiemerken)"
   ]
  },
  {
   "cell_type": "code",
   "execution_count": 29,
   "metadata": {},
   "outputs": [
    {
     "data": {
      "text/html": [
       "<div>\n",
       "<style scoped>\n",
       "    .dataframe tbody tr th:only-of-type {\n",
       "        vertical-align: middle;\n",
       "    }\n",
       "\n",
       "    .dataframe tbody tr th {\n",
       "        vertical-align: top;\n",
       "    }\n",
       "\n",
       "    .dataframe thead th {\n",
       "        text-align: right;\n",
       "    }\n",
       "</style>\n",
       "<table border=\"1\" class=\"dataframe\">\n",
       "  <thead>\n",
       "    <tr style=\"text-align: right;\">\n",
       "      <th></th>\n",
       "      <th>Merk</th>\n",
       "      <th>smaak</th>\n",
       "      <th>intensiteit</th>\n",
       "      <th>beoordeling</th>\n",
       "      <th>notities</th>\n",
       "      <th>Land</th>\n",
       "    </tr>\n",
       "  </thead>\n",
       "  <tbody>\n",
       "    <tr>\n",
       "      <th>0</th>\n",
       "      <td>Palazzo</td>\n",
       "      <td>Lungo</td>\n",
       "      <td>6</td>\n",
       "      <td>2</td>\n",
       "      <td>slapjes en ietwat zoet</td>\n",
       "      <td>Nederland</td>\n",
       "    </tr>\n",
       "    <tr>\n",
       "      <th>1</th>\n",
       "      <td>Palazzo</td>\n",
       "      <td>Espresso Intenso</td>\n",
       "      <td>8</td>\n",
       "      <td>3</td>\n",
       "      <td>muf waterig</td>\n",
       "      <td>Nederland</td>\n",
       "    </tr>\n",
       "    <tr>\n",
       "      <th>2</th>\n",
       "      <td>Palazzo</td>\n",
       "      <td>Ristretto</td>\n",
       "      <td>8</td>\n",
       "      <td>5</td>\n",
       "      <td>saai en te slap voor espresso</td>\n",
       "      <td>Nederland</td>\n",
       "    </tr>\n",
       "    <tr>\n",
       "      <th>3</th>\n",
       "      <td>G'woon</td>\n",
       "      <td>Espresso Nero</td>\n",
       "      <td>8</td>\n",
       "      <td>7</td>\n",
       "      <td>te saai voor espresso maar niet onaardig</td>\n",
       "      <td>Nederland</td>\n",
       "    </tr>\n",
       "    <tr>\n",
       "      <th>4</th>\n",
       "      <td>L'Or</td>\n",
       "      <td>Ristretto</td>\n",
       "      <td>11</td>\n",
       "      <td>8</td>\n",
       "      <td>mooie volle smaak</td>\n",
       "      <td>Frankrijk</td>\n",
       "    </tr>\n",
       "    <tr>\n",
       "      <th>5</th>\n",
       "      <td>L'Or</td>\n",
       "      <td>Supremo</td>\n",
       "      <td>10</td>\n",
       "      <td>9</td>\n",
       "      <td>lekker!</td>\n",
       "      <td>Frankrijk</td>\n",
       "    </tr>\n",
       "    <tr>\n",
       "      <th>6</th>\n",
       "      <td>DE</td>\n",
       "      <td>Lungo 8 intens</td>\n",
       "      <td>8</td>\n",
       "      <td>8</td>\n",
       "      <td>beter als lungo dan als espresso</td>\n",
       "      <td>NaN</td>\n",
       "    </tr>\n",
       "    <tr>\n",
       "      <th>7</th>\n",
       "      <td>L'Or</td>\n",
       "      <td>Espresso Fortissimo</td>\n",
       "      <td>10</td>\n",
       "      <td>9</td>\n",
       "      <td>lekker!</td>\n",
       "      <td>Frankrijk</td>\n",
       "    </tr>\n",
       "  </tbody>\n",
       "</table>\n",
       "</div>"
      ],
      "text/plain": [
       "      Merk                 smaak  intensiteit  beoordeling  \\\n",
       "0  Palazzo                 Lungo            6            2   \n",
       "1  Palazzo      Espresso Intenso            8            3   \n",
       "2  Palazzo             Ristretto            8            5   \n",
       "3   G'woon         Espresso Nero            8            7   \n",
       "4     L'Or             Ristretto           11            8   \n",
       "5     L'Or               Supremo           10            9   \n",
       "6       DE        Lungo 8 intens            8            8   \n",
       "7     L'Or   Espresso Fortissimo           10            9   \n",
       "\n",
       "                                    notities       Land  \n",
       "0                     slapjes en ietwat zoet  Nederland  \n",
       "1                                muf waterig  Nederland  \n",
       "2              saai en te slap voor espresso  Nederland  \n",
       "3   te saai voor espresso maar niet onaardig  Nederland  \n",
       "4                          mooie volle smaak  Frankrijk  \n",
       "5                                    lekker!  Frankrijk  \n",
       "6           beter als lungo dan als espresso        NaN  \n",
       "7                                    lekker!  Frankrijk  "
      ]
     },
     "execution_count": 29,
     "metadata": {},
     "output_type": "execute_result"
    }
   ],
   "source": [
    "koffietotaal = koffie.merge(koffiemerken, how='left')   # En andere methoden!\n",
    "koffietotaal"
   ]
  },
  {
   "cell_type": "markdown",
   "metadata": {},
   "source": [
    "### Aggregeren en groupby\n",
    "Soms wil je data groeperen per categorie en over die categorieen geaggregeerde data verzamelen. Zo kun je bijvoorbeeld benieuwd zijn naar de gemiddelde beoordeling per merk of land, of het aantal verschillende smaakjes per intensiteit. "
   ]
  },
  {
   "cell_type": "code",
   "execution_count": 30,
   "metadata": {},
   "outputs": [
    {
     "data": {
      "text/plain": [
       "<pandas.core.groupby.groupby.DataFrameGroupBy object at 0x7fbe06cf3780>"
      ]
     },
     "execution_count": 30,
     "metadata": {},
     "output_type": "execute_result"
    }
   ],
   "source": [
    "per_land = koffietotaal.groupby('Land')\n",
    "per_land"
   ]
  },
  {
   "cell_type": "code",
   "execution_count": 32,
   "metadata": {},
   "outputs": [
    {
     "name": "stdout",
     "output_type": "stream",
     "text": [
      "Land\n",
      "Frankrijk    8.666667\n",
      "Nederland    4.250000\n",
      "Name: beoordeling, dtype: float64\n",
      "\n",
      "Land\n",
      "Frankrijk    3\n",
      "Nederland    4\n",
      "Name: beoordeling, dtype: int64\n"
     ]
    }
   ],
   "source": [
    "print(per_land.beoordeling.mean())\n",
    "print()\n",
    "print(per_land.beoordeling.count())"
   ]
  },
  {
   "cell_type": "markdown",
   "metadata": {},
   "source": [
    "***\n",
    "\n",
    "### Datumtijd-variabelen en time series\n",
    "\n",
    "Pandas kent enorm handige methode voor datumtijd-variabelen. Het is heel nuttig om te weten, maar de tijd laat niet toe dat we ze hier bespreken. Ze maken dus ook geen onderdeel uit van het gewone huiswerk. In het bonusmateriaal zit daarom wat instructie, en ook wat opdrachten omtrent deze functionaliteiten! Als je veel met data waarin de datum of tijd een rol speelt werkt, dan raad ik je zeker aan deze goed te bestuderen!\n",
    "\n",
    "## Referenties\n",
    "\n",
    "Python Data Science Handbook (en al het andere youtube- en blogmateriaal van auteur Jake VanderPlas, zie http://jakevdp.github.io/), geheel in notebooks op github: https://jakevdp.github.io/PythonDataScienceHandbook/. Het pandas boek van Wes McKinney: https://github.com/wesm/pydata-book\n",
    "\n",
    "Antwoorden op al je vragen (of ze staan er al, of je hebt ze snel) op StackOverflow: https://stackoverflow.com/\n",
    "\n",
    "Documentatie van de voor data science belangrijke paketten: https://docs.scipy.org/doc/, http://pandas.pydata.org/pandas-docs/stable/\n",
    "\n",
    "Voor visualisatie gebruiken we matplotlib (https://matplotlib.org/ en de gallery op https://matplotlib.org/gallery/index.html), seaborn (https://seaborn.pydata.org/) en bokeh (https://bokeh.pydata.org/en/latest/).\n",
    "\n",
    "Verder vind je op YouTube veel praatjes en workshops (vaak met materiaal op github). Let er wel op dat je redelijk recent materiaal bekijkt, sommige van deze paketten zijn nog stevig in ontwikkeling. Op YouTube kun je zoeken naar PyData, (Euro)SciPy, Pycon, Enthought en Numfocus. Dat geeft je een hele hoop materiaal."
   ]
  },
  {
   "cell_type": "code",
   "execution_count": null,
   "metadata": {},
   "outputs": [],
   "source": []
  }
 ],
 "metadata": {
  "kernelspec": {
   "display_name": "Python 3",
   "language": "python",
   "name": "python3"
  },
  "language_info": {
   "codemirror_mode": {
    "name": "ipython",
    "version": 3
   },
   "file_extension": ".py",
   "mimetype": "text/x-python",
   "name": "python",
   "nbconvert_exporter": "python",
   "pygments_lexer": "ipython3",
   "version": "3.6.6"
  }
 },
 "nbformat": 4,
 "nbformat_minor": 2
}
