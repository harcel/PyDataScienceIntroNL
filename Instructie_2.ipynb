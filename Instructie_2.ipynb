{
 "cells": [
  {
   "cell_type": "markdown",
   "metadata": {},
   "source": [
    "# Python en data\n",
    "\n",
    "Data science begint met data. Daarom richten we onze aandacht nu op technieken om met data om te gaan in Python. \"Core Python\" is daarvoor niet altijd direct geschikt, maar gelukkig bestaan er meerdere goed ontwikkelde packages die ons het leven makkelijker maken. Het gaat daarbij om het lezen, bewerken en weer opslaan van data. In de tussentijd zullen we alvast kleine uitstapjes maken naar de analyse van data.\n",
    "\n",
    "Het is \"good practice\" om paketten die je gaat gebruiken bovenaan je notebook allemaal tegelijk te importeren. Ik doe dat hier ook, zodat je meteen een overzicht krijgt van wat je te wachten staat.\n",
    "\n",
    "Vanaf dit notebook worden de instructienotebooks steeds meer alleen code met wat commentaar. Je wordt steeds beter in Python, dus code spreekt meer en meer voor zichzelf."
   ]
  },
  {
   "cell_type": "code",
   "execution_count": 1,
   "metadata": {},
   "outputs": [],
   "source": [
    "import numpy as np          # Package voor numerieke bewerkingen, en het werken met arrays\n",
    "import pandas as pd         # Package voor het werken met data in de vorm van tabellen. Pandas wordt je vriend!"
   ]
  },
  {
   "cell_type": "markdown",
   "metadata": {},
   "source": [
    "## Numerical Python: numpy\n",
    "\n",
    "Voor numeriek werk zoals elke data scientist, data-analist etc. iedere dag doet is numpy onmisbaar. Numpy wordt gewoonlijk geimporteerd als np, dus dat doen wij ook.\n",
    "\n",
    "### Werken met arrays\n",
    "Numpy maakt gebruik van zogenaamde arrays. Deze lijken in de eerste plaats op lists, maar ze zijn heel wezenlijk anders:\n",
    "- Binnen een array zijn alle elementen van hetzelfde data type (dus geen mix zoals in lists)\n",
    "- Op arrays zijn de bewerkingen standaard array-operaties, wat betekent dat ze elementsgewijs worden uitgevoerd. Zo is, voor array a, 3*a gelijk aan een even lange array als a waarin alle elementen met 3 zijn vermenigvuldigd.\n",
    "\n",
    "Enkele voorbeelden:"
   ]
  },
  {
   "cell_type": "code",
   "execution_count": 2,
   "metadata": {},
   "outputs": [
    {
     "name": "stdout",
     "output_type": "stream",
     "text": [
      "[1 2 3 4]\n",
      "[ 3  6  9 12]\n",
      "[41 32 23 14]\n",
      "['1' '2' 'help'] bestaat uit alleen maar strings omdat er daar minstens 1 van voorkomt!\n"
     ]
    }
   ],
   "source": [
    "mijn_eerste_array = np.array([1, 2, 3, 4])\n",
    "print(mijn_eerste_array)\n",
    "\n",
    "keer3 = mijn_eerste_array * 3\n",
    "print(keer3)\n",
    "\n",
    "print(mijn_eerste_array + np.array([40, 30, 20, 10]))\n",
    "\n",
    "# Dingen die dus niet zouden kunnen, maar wel iets opleveren:\n",
    "huh = np.array([1, 2, 'help'])\n",
    "print(huh, \"bestaat uit alleen maar strings omdat er daar minstens 1 van voorkomt!\")"
   ]
  },
  {
   "cell_type": "code",
   "execution_count": 3,
   "metadata": {},
   "outputs": [
    {
     "name": "stdout",
     "output_type": "stream",
     "text": [
      "Het totaal van mijn eerste array is 10\n",
      "Het gemiddelde van mijn eerste array is 2.5\n",
      "De mediaan van mijn eerste array is 2.5\n",
      "\n",
      "Zo kan het ook: 10 10\n"
     ]
    }
   ],
   "source": [
    "# Op arrays zijn bijzonder veel bewrekingen gedefinieerd. Veel zijn methoden van het array object, maar numpy kent ook functies die geen methode zijn.\n",
    "\n",
    "print(\"Het totaal van mijn eerste array is\", mijn_eerste_array.sum())\n",
    "print(\"Het gemiddelde van mijn eerste array is\", mijn_eerste_array.mean())\n",
    "print(\"De mediaan van mijn eerste array is\", np.median(mijn_eerste_array))\n",
    "print()\n",
    "# Let wel:\n",
    "print(\"Zo kan het ook:\", sum(mijn_eerste_array), np.sum(mijn_eerste_array))"
   ]
  },
  {
   "cell_type": "code",
   "execution_count": 4,
   "metadata": {},
   "outputs": [
    {
     "name": "stdout",
     "output_type": "stream",
     "text": [
      "[[ 1  2  3]\n",
      " [50 60 70]]\n"
     ]
    }
   ],
   "source": [
    "# Arrays kunnen meer dan 1 dimensie hebben\n",
    "dim2 = np.array([[1 , 2, 3],\n",
    "                 [50, 60, 70]])   # Deze mag je op 1 regel definieren, maar dit maakt het leesbaarder\n",
    "print(dim2)"
   ]
  },
  {
   "cell_type": "code",
   "execution_count": 5,
   "metadata": {},
   "outputs": [
    {
     "name": "stdout",
     "output_type": "stream",
     "text": [
      "De verschillende sommen van dim2:\n",
      "Totale som: 186\n"
     ]
    }
   ],
   "source": [
    "# Op twee- en hogerdimensionale arrays kun je zulke dingen \n",
    "# over de hele array, of langs de rijen of kolommen doen:\n",
    "print(\"De verschillende sommen van dim2:\")\n",
    "print(\"Totale som:\", dim2.sum())\n",
    "# print(\"Som per kolom:\", dim2.sum(axis=0))\n",
    "# print(\"Som per rij\", dim2.sum(axis=1))"
   ]
  },
  {
   "cell_type": "code",
   "execution_count": 6,
   "metadata": {},
   "outputs": [
    {
     "name": "stdout",
     "output_type": "stream",
     "text": [
      "Type <class 'numpy.ndarray'> met shape (3,)\n"
     ]
    }
   ],
   "source": [
    "# Uiteraard zijn deze sommen numpy arrays:\n",
    "sommetje = dim2.sum(axis=0)\n",
    "print(\"Type\", type(sommetje), \"met shape\", sommetje.shape)"
   ]
  },
  {
   "cell_type": "markdown",
   "metadata": {},
   "source": [
    "### Missing data, NaN, ....\n",
    "\n",
    "Soms mist er data. Soms is een veld geen keurig getal meer (x/0, log(negatief getal), ...). Een datatype daarvoor in numpy is np.nan:"
   ]
  },
  {
   "cell_type": "code",
   "execution_count": 7,
   "metadata": {},
   "outputs": [
    {
     "name": "stdout",
     "output_type": "stream",
     "text": [
      "[ 1.  2. nan 17.]\n"
     ]
    }
   ],
   "source": [
    "arr = np.array([1, 2., np.nan, 17.])\n",
    "print(arr)"
   ]
  },
  {
   "cell_type": "code",
   "execution_count": 8,
   "metadata": {},
   "outputs": [
    {
     "name": "stdout",
     "output_type": "stream",
     "text": [
      "nan\n",
      "nan\n",
      "20.0\n"
     ]
    }
   ],
   "source": [
    "# Aggregties hebben vaak een nan-safe variant, maar je moet wel weten wat ze betekenen!\n",
    "print(arr.sum())\n",
    "print(np.sum(arr))\n",
    "print(np.nansum(arr))\n",
    "# print(np.product(arr))\n",
    "# print(np.nanprod(arr))\n",
    "# print(np.mean(arr))\n",
    "# print(np.nanmean(arr))\n",
    "# print(np.nansum(arr)/len(arr))\n",
    "# print(np.nansum(arr) / np.isfinite(arr).sum())"
   ]
  },
  {
   "cell_type": "markdown",
   "metadata": {},
   "source": [
    "### Arrays maken zonder eerst een list te schrijven\n",
    "Er bestaan functies die arrays genereren:"
   ]
  },
  {
   "cell_type": "code",
   "execution_count": 9,
   "metadata": {},
   "outputs": [
    {
     "name": "stdout",
     "output_type": "stream",
     "text": [
      "[0. 0. 0.]\n",
      "[[1. 1. 1.]\n",
      " [1. 1. 1.]]\n"
     ]
    }
   ],
   "source": [
    "print(np.zeros(3))\n",
    "print(np.ones((2, 3)))\n",
    "# print(np.arange(8, dtype=np.float))  # werkt ook zonder dtype, met stapjes etc.\n",
    "# print(np.arange(2, 5, 0.3))\n",
    "# print(np.random.random(size=2))\n",
    "# print(np.random.random(size=(5, 3)))"
   ]
  },
  {
   "cell_type": "markdown",
   "metadata": {},
   "source": [
    "### Index , slicing, selectie\n",
    "Indices werken heel vergelijkbaar met die in lists. In meerdere dimenses worden ze gescheiden door komma's, daarbinnen kun je precies dezelfde ranges etc. gebruiken. Let altijd op de volgorde van rijen en kolommen! Dit werkt ook in meerdere dimensies, maar dat is lastiger in tabelvorm weer te geven. Je kunt dergelijke indices ook gebruiken om array-elementen te veranderen. Let daarbij wel op het datatype!"
   ]
  },
  {
   "cell_type": "code",
   "execution_count": 10,
   "metadata": {},
   "outputs": [
    {
     "name": "stdout",
     "output_type": "stream",
     "text": [
      "[ 8  9 11 10 12  0  0  9 16  0]\n",
      "11\n",
      "[11 12  0 16]\n",
      "[10 12  0]\n",
      "[16  0]\n",
      "\n"
     ]
    }
   ],
   "source": [
    "x = np.random.randint(0, 20, size=10)\n",
    "print(x)\n",
    "print(x[2])\n",
    "print(x[2::2])\n",
    "print(x[3:6])\n",
    "print(x[-2:])\n",
    "print()\n",
    "x2 = np.random.randint(0, 20, size=(3,4))\n",
    "# print(x2)\n",
    "# print(x2[:,0])\n",
    "# print(x2[0,:])\n",
    "# print(x2[1:3, 1:3])\n",
    "# print(x2[-1,-2:])\n",
    "# print()\n",
    "# x2[0,0] = 100\n",
    "# print(x2)\n",
    "# print()\n",
    "# x2[0,0] = 17.72\n",
    "# print(x2)  # alles na de komma wordt eraf gehaald!"
   ]
  },
  {
   "cell_type": "markdown",
   "metadata": {},
   "source": [
    "Let erop dat als je sub-arrays selecteert op deze manier, en die bewerkt, dat dan de oorspronkelijke array ook aangepast is! Dit kan heel handig zijn als je snel kleine stukken van een heel grote dataset wil manipuleren! Je kunt het voorkomen met .copy()"
   ]
  },
  {
   "cell_type": "code",
   "execution_count": 11,
   "metadata": {},
   "outputs": [
    {
     "name": "stdout",
     "output_type": "stream",
     "text": [
      "[[10  2 18  1]\n",
      " [ 2 14  8  5]\n",
      " [ 1  9 14 13]]\n",
      "\n",
      "[[14  8]\n",
      " [ 9 14]]\n",
      "\n"
     ]
    }
   ],
   "source": [
    "print(x2)\n",
    "print()\n",
    "x3 = x2[1:3, 1:3]     # Probeer ook met x3 = x2[1:3, 1:3].copy()\n",
    "print(x3)\n",
    "print()\n",
    "# x3[0,0] = 100\n",
    "# print(x3)\n",
    "# print()\n",
    "# print(x2)"
   ]
  },
  {
   "cell_type": "markdown",
   "metadata": {},
   "source": [
    "### Reshape, concatenation, splitting\n",
    "\n",
    "Het kan voor toepassingen handig zijn om verschillende tabellen van vorm te veranderen, aan elkaar te plakken of juist te splitsen. Ook hiervoor bestaan efficiente functinaliteiten in numpy."
   ]
  },
  {
   "cell_type": "code",
   "execution_count": 12,
   "metadata": {},
   "outputs": [
    {
     "name": "stdout",
     "output_type": "stream",
     "text": [
      "[[10  2 18  1]\n",
      " [ 2 14  8  5]\n",
      " [ 1  9 14 13]]\n",
      "\n",
      "[[10  2 18]\n",
      " [ 1  2 14]\n",
      " [ 8  5  1]\n",
      " [ 9 14 13]]\n",
      "\n"
     ]
    }
   ],
   "source": [
    "# Reshape maakt van je array een andere vorm, wel even groot!\n",
    "print(x2)\n",
    "print()\n",
    "print(x2.reshape(4, 3))  # ELementen \"lopen gewoon door\", \"zoals je ze leest\"\n",
    "print()\n",
    "# print(x2.reshape(6, -1)) # Met -1 bepaalt numpy welke dimensie je daar nodig hebt.\n",
    "# print()\n",
    "# print(x2.transpose())\n",
    "# print()\n",
    "# print(x2.reshape(12))\n",
    "# print(x2.reshape(12)[np.newaxis, :])\n",
    "# print(x2.reshape(12)[:,np.newaxis])"
   ]
  },
  {
   "cell_type": "code",
   "execution_count": 16,
   "metadata": {},
   "outputs": [
    {
     "name": "stdout",
     "output_type": "stream",
     "text": [
      "[ 1  2  3 30 20 10]\n",
      "[ 1  2  3 30 20 10 30 20 10 30 20 10]\n",
      "\n",
      "[[1 2 3]\n",
      " [4 5 6]]\n",
      "\n",
      "[[ 1  2  3]\n",
      " [ 4  5  6]\n",
      " [10 20 30]\n",
      " [40 50 60]]\n",
      "\n",
      "[[ 1  2  3 10 20 30]\n",
      " [ 4  5  6 40 50 60]]\n"
     ]
    }
   ],
   "source": [
    "# np.concatenate plakt arrays aan elkaar.\n",
    "x = np.array([1, 2, 3])\n",
    "y = np.array([30, 20, 10])\n",
    "print(np.concatenate([x, y]))\n",
    "print(np.concatenate([x, y, y, y]))\n",
    "print()\n",
    "grid = np.array([[1, 2, 3],\n",
    "                 [4, 5, 6]])\n",
    "print(grid)\n",
    "print()\n",
    "print(np.concatenate([grid, 10*grid]))\n",
    "print()\n",
    "print(np.concatenate([grid, 10*grid], axis=1))"
   ]
  },
  {
   "cell_type": "code",
   "execution_count": 14,
   "metadata": {},
   "outputs": [
    {
     "name": "stdout",
     "output_type": "stream",
     "text": [
      "[1 2 3] [99 99] [3 2 1]\n",
      "\n"
     ]
    }
   ],
   "source": [
    "# Met np.split() en varianten daarop kun je juist je arrays in stukjes knippen.\n",
    "x = [1, 2, 3, 99, 99, 3, 2, 1]\n",
    "x1, x2, x3 = np.split(x, [3, 5])\n",
    "print(x1, x2, x3)\n",
    "print()\n",
    "# grid = np.arange(16).reshape((4, 4))\n",
    "# print(grid)\n",
    "# print()\n",
    "# boven, onder = np.vsplit(grid, [2])\n",
    "# print(boven)\n",
    "# print(onder)\n",
    "# print()\n",
    "# links, rechts = np.hsplit(grid, [2])\n",
    "# print(links)\n",
    "# print(rechts)"
   ]
  },
  {
   "cell_type": "markdown",
   "metadata": {},
   "source": [
    "### Broadcasting\n",
    "\n",
    "Broadcasting betekent dat bewerkingen met arrays van verschillende dimensies worden gedaan. Het standaard voorbeeld is erg bekend, maar het kan dus ook op minder triviale manieren."
   ]
  },
  {
   "cell_type": "code",
   "execution_count": 46,
   "metadata": {},
   "outputs": [
    {
     "name": "stdout",
     "output_type": "stream",
     "text": [
      "[5 7 9]\n",
      "\n",
      "[[1. 1. 1.]\n",
      " [1. 1. 1.]\n",
      " [1. 1. 1.]\n",
      " [1. 1. 1.]]\n",
      "\n",
      "[[3. 5. 7.]\n",
      " [3. 5. 7.]\n",
      " [3. 5. 7.]\n",
      " [3. 5. 7.]]\n"
     ]
    }
   ],
   "source": [
    "x = np.array([2, 4, 6])\n",
    "# Een scalar erbij optellen is broadcasting, de scalar wordt gebroadcast op elk element van de array:\n",
    "print(x+3)\n",
    "print()\n",
    "# In meer dimensies:\n",
    "y = np.ones((4, 3))   # Met de indices andersom werkt het dus niet!\n",
    "print(y)\n",
    "print()\n",
    "print(x+y)"
   ]
  },
  {
   "cell_type": "markdown",
   "metadata": {},
   "source": [
    "Broadcasting kan nog veel complexer, maar in de praktijk kom je dt zelden tegen, we zullen het dus voorlopig hierbij laten. In de referenties staan werken met uitgebreidere voorbeelden uitgewerkt.\n",
    "\n",
    "### Sorteren en set logica"
   ]
  },
  {
   "cell_type": "code",
   "execution_count": null,
   "metadata": {},
   "outputs": [],
   "source": []
  },
  {
   "cell_type": "code",
   "execution_count": null,
   "metadata": {},
   "outputs": [],
   "source": []
  },
  {
   "cell_type": "code",
   "execution_count": null,
   "metadata": {},
   "outputs": [],
   "source": []
  },
  {
   "cell_type": "markdown",
   "metadata": {},
   "source": [
    "### Functies binnen numpy"
   ]
  },
  {
   "cell_type": "code",
   "execution_count": null,
   "metadata": {},
   "outputs": [],
   "source": []
  },
  {
   "cell_type": "code",
   "execution_count": null,
   "metadata": {},
   "outputs": [],
   "source": []
  },
  {
   "cell_type": "markdown",
   "metadata": {},
   "source": [
    "## Pandas: Werken met tabellen\n",
    "\n",
    "Tweedimensionale numpy arrays zijn natuurlijk tabellen. Maar zou het niet handig zijn als kolommen namen hebben, de rijen handige indices die iets betekenen en je allerlei selecties en bewerkingen kunt doen gewoon met die namen. Pandas is een enorm populair package, gemaakt door Wes McKinney die het wilde hebben voor zijn werk in de financiele wereld, dat precies dat doet. We gaan hier uitgebreid op de functionaliteiten in. Zoals gebruikelijk: er is nog veel meer! Ook dit boek staat volledig als notebooks online:\n",
    "https://github.com/wesm/pydata-book (alleen de tekst ertussen mist, maar de voorbeelden spreken veelal voor zich).\n",
    "\n",
    "### Series\n",
    "\n",
    "De pandas-variant van eendimensionale arrays heet Series. Er bestaan meerdere verschillen met numpy arrays, maar het belangrijkste:\n",
    "- Indices zijn expliciet. Numpy kent impliciete indices die uniek zijn en optellen vanaf 0. In Series kunnen ze van alles zijn en hoeven ze niet uniek te zijn.\n",
    "- \n",
    "\n",
    "Een serie kan gemaakt worden van objecten met of zonder index:\n",
    "\n"
   ]
  },
  {
   "cell_type": "code",
   "execution_count": 11,
   "metadata": {},
   "outputs": [
    {
     "name": "stdout",
     "output_type": "stream",
     "text": [
      "0    12\n",
      "1    13\n",
      "2    14\n",
      "dtype: int64\n",
      "\n"
     ]
    }
   ],
   "source": [
    "mijn_eerste_serie = pd.Series([12, 13, 14])   # Indices automatisch gegenereerd \"a la numpy\".\n",
    "print(mijn_eerste_serie)\n",
    "print()\n",
    "# mijn_eerste_serie = pd.Series([12, 13, 14], index=['nul', 'een', 'twee'])   # Indices opgegeven\n",
    "# print(mijn_eerste_serie)\n",
    "# print()\n",
    "# mijn_eerste_serie = pd.Series(np.array([12, 13, 14]), index=['nul', 'een', 'twee'])   # Werkt ook met numpy arrays\n",
    "# print(mijn_eerste_serie)\n",
    "# print()\n",
    "# mijn_eerste_serie = pd.Series([12, 13, 14], index=['nul', 'een', 'een'])   # Indices hoeven niet uniek te zijn\n",
    "# print(mijn_eerste_serie)\n",
    "# print()\n",
    "# mijn_eerste_serie = pd.Series({'dictnul':101, 'dicteen':202, 'dicttwee':303})   # Vanuit een dict worden keys de indices\n",
    "# print(mijn_eerste_serie)\n",
    "# print()"
   ]
  },
  {
   "cell_type": "markdown",
   "metadata": {},
   "source": [
    "Selectie is bijzonder eenvoudig, als je gebruikt maakt van de index! Sorteren kan op waarden, of op index.\n"
   ]
  },
  {
   "cell_type": "code",
   "execution_count": 19,
   "metadata": {},
   "outputs": [
    {
     "name": "stdout",
     "output_type": "stream",
     "text": [
      "nul    12.0\n",
      "een    13.0\n",
      "een    14.0\n",
      "34     33.0\n",
      "35     34.0\n",
      "36     35.0\n",
      "dtype: float64\n",
      "\n",
      "een    13.0\n",
      "een    14.0\n",
      "dtype: float64\n"
     ]
    }
   ],
   "source": [
    "mijn_eerste_serie = pd.Series([12, 13, 14, 33, 34., 35], index=['nul', 'een', 'een', 34, 35, 36]) # Indices hoeven niet hetzelfde datatype te hebben!\n",
    "print(mijn_eerste_serie)   # Zoals in numpy: alle elementen van \"meest complexe datatype\"\n",
    "print()\n",
    "print(mijn_eerste_serie['een'])   # Geeft alle elementen met de betreffende index!"
   ]
  },
  {
   "cell_type": "markdown",
   "metadata": {},
   "source": [
    "### Je nieuwe vriend: het DataFrame\n",
    "\n",
    "Een DataFrame is een tabellarische datacontainer, tweedimensionaal. Het is eigenlijk niks meer dan een verzameling series met een gemeenschappelijke index. Wanneer geen kolomnamen worden opgegeven worden deze ook gewoon gevuld met 0, 1, 2 etc, net zoals voor de rijen geldt."
   ]
  },
  {
   "cell_type": "code",
   "execution_count": 24,
   "metadata": {},
   "outputs": [
    {
     "name": "stdout",
     "output_type": "stream",
     "text": [
      "          0         1        2         3\n",
      "0  0.808363  0.419425  0.10838  0.432661\n",
      "1  0.992370  0.983299  0.23328  0.668692\n",
      "2  0.131392  0.475144  0.67500  0.383575\n"
     ]
    },
    {
     "data": {
      "text/html": [
       "<div>\n",
       "<style scoped>\n",
       "    .dataframe tbody tr th:only-of-type {\n",
       "        vertical-align: middle;\n",
       "    }\n",
       "\n",
       "    .dataframe tbody tr th {\n",
       "        vertical-align: top;\n",
       "    }\n",
       "\n",
       "    .dataframe thead th {\n",
       "        text-align: right;\n",
       "    }\n",
       "</style>\n",
       "<table border=\"1\" class=\"dataframe\">\n",
       "  <thead>\n",
       "    <tr style=\"text-align: right;\">\n",
       "      <th></th>\n",
       "      <th>0</th>\n",
       "      <th>1</th>\n",
       "      <th>2</th>\n",
       "      <th>3</th>\n",
       "    </tr>\n",
       "  </thead>\n",
       "  <tbody>\n",
       "    <tr>\n",
       "      <th>0</th>\n",
       "      <td>0.808363</td>\n",
       "      <td>0.419425</td>\n",
       "      <td>0.10838</td>\n",
       "      <td>0.432661</td>\n",
       "    </tr>\n",
       "    <tr>\n",
       "      <th>1</th>\n",
       "      <td>0.992370</td>\n",
       "      <td>0.983299</td>\n",
       "      <td>0.23328</td>\n",
       "      <td>0.668692</td>\n",
       "    </tr>\n",
       "    <tr>\n",
       "      <th>2</th>\n",
       "      <td>0.131392</td>\n",
       "      <td>0.475144</td>\n",
       "      <td>0.67500</td>\n",
       "      <td>0.383575</td>\n",
       "    </tr>\n",
       "  </tbody>\n",
       "</table>\n",
       "</div>"
      ],
      "text/plain": [
       "          0         1        2         3\n",
       "0  0.808363  0.419425  0.10838  0.432661\n",
       "1  0.992370  0.983299  0.23328  0.668692\n",
       "2  0.131392  0.475144  0.67500  0.383575"
      ]
     },
     "execution_count": 24,
     "metadata": {},
     "output_type": "execute_result"
    }
   ],
   "source": [
    "mijn_eerste_df = pd.DataFrame(np.random.random(size=(3, 4)))\n",
    "print(mijn_eerste_df)\n",
    "mijn_eerste_df.head()    # head en tail laten de boven- resp. onderkant van de DataFrame zien. Wel een iets mooiere layout dan print."
   ]
  },
  {
   "cell_type": "code",
   "execution_count": 27,
   "metadata": {},
   "outputs": [
    {
     "data": {
      "text/html": [
       "<div>\n",
       "<style scoped>\n",
       "    .dataframe tbody tr th:only-of-type {\n",
       "        vertical-align: middle;\n",
       "    }\n",
       "\n",
       "    .dataframe tbody tr th {\n",
       "        vertical-align: top;\n",
       "    }\n",
       "\n",
       "    .dataframe thead th {\n",
       "        text-align: right;\n",
       "    }\n",
       "</style>\n",
       "<table border=\"1\" class=\"dataframe\">\n",
       "  <thead>\n",
       "    <tr style=\"text-align: right;\">\n",
       "      <th></th>\n",
       "      <th>x</th>\n",
       "      <th>y</th>\n",
       "      <th>z</th>\n",
       "    </tr>\n",
       "  </thead>\n",
       "  <tbody>\n",
       "    <tr>\n",
       "      <th>0</th>\n",
       "      <td>0.401272</td>\n",
       "      <td>0.718234</td>\n",
       "      <td>0.451345</td>\n",
       "    </tr>\n",
       "    <tr>\n",
       "      <th>1</th>\n",
       "      <td>0.773792</td>\n",
       "      <td>0.998598</td>\n",
       "      <td>0.976855</td>\n",
       "    </tr>\n",
       "    <tr>\n",
       "      <th>2</th>\n",
       "      <td>0.744124</td>\n",
       "      <td>0.023213</td>\n",
       "      <td>0.055970</td>\n",
       "    </tr>\n",
       "    <tr>\n",
       "      <th>3</th>\n",
       "      <td>0.119134</td>\n",
       "      <td>0.257129</td>\n",
       "      <td>0.612909</td>\n",
       "    </tr>\n",
       "  </tbody>\n",
       "</table>\n",
       "</div>"
      ],
      "text/plain": [
       "          x         y         z\n",
       "0  0.401272  0.718234  0.451345\n",
       "1  0.773792  0.998598  0.976855\n",
       "2  0.744124  0.023213  0.055970\n",
       "3  0.119134  0.257129  0.612909"
      ]
     },
     "execution_count": 27,
     "metadata": {},
     "output_type": "execute_result"
    }
   ],
   "source": [
    "mijn_eerste_df = pd.DataFrame(np.random.random(size=(4, 3)), columns=['x', 'y', 'z'])\n",
    "mijn_eerste_df\n"
   ]
  },
  {
   "cell_type": "code",
   "execution_count": 29,
   "metadata": {},
   "outputs": [
    {
     "data": {
      "text/html": [
       "<div>\n",
       "<style scoped>\n",
       "    .dataframe tbody tr th:only-of-type {\n",
       "        vertical-align: middle;\n",
       "    }\n",
       "\n",
       "    .dataframe tbody tr th {\n",
       "        vertical-align: top;\n",
       "    }\n",
       "\n",
       "    .dataframe thead th {\n",
       "        text-align: right;\n",
       "    }\n",
       "</style>\n",
       "<table border=\"1\" class=\"dataframe\">\n",
       "  <thead>\n",
       "    <tr style=\"text-align: right;\">\n",
       "      <th></th>\n",
       "      <th>eerste kolom</th>\n",
       "      <th>tweede kolom</th>\n",
       "      <th>derde kolom</th>\n",
       "    </tr>\n",
       "  </thead>\n",
       "  <tbody>\n",
       "    <tr>\n",
       "      <th>10</th>\n",
       "      <td>1</td>\n",
       "      <td>23</td>\n",
       "      <td>aap</td>\n",
       "    </tr>\n",
       "    <tr>\n",
       "      <th>20</th>\n",
       "      <td>2</td>\n",
       "      <td>45</td>\n",
       "      <td>noot</td>\n",
       "    </tr>\n",
       "    <tr>\n",
       "      <th>30</th>\n",
       "      <td>3</td>\n",
       "      <td>67</td>\n",
       "      <td>mies</td>\n",
       "    </tr>\n",
       "  </tbody>\n",
       "</table>\n",
       "</div>"
      ],
      "text/plain": [
       "    eerste kolom  tweede kolom derde kolom\n",
       "10             1            23         aap\n",
       "20             2            45        noot\n",
       "30             3            67        mies"
      ]
     },
     "execution_count": 29,
     "metadata": {},
     "output_type": "execute_result"
    }
   ],
   "source": [
    "# Gaat ook heel natuurlijk vanuit een dict\n",
    "mijn_eerste_df = pd.DataFrame({'eerste kolom':[1, 2, 3], 'tweede kolom':[23, 45, 67], 'derde kolom':['aap', 'noot', 'mies']}, index=[10,20, 30])\n",
    "mijn_eerste_df"
   ]
  },
  {
   "cell_type": "code",
   "execution_count": null,
   "metadata": {},
   "outputs": [],
   "source": []
  },
  {
   "cell_type": "markdown",
   "metadata": {},
   "source": [
    "### Indices voor rijen, kolommen, filters en selecties\n",
    "We zagen al dat indices voor Series handig zijn om rijen te selecteren. Voor DataFrames is dat niet anders. Er kan ook op kolomnamen worden geselctereed, gefilterd, etc. Elke kolomnaam zonder spatie, die begint met een letter is ook een attribuut geworden van je DataFrame, wat selectie heel handig maakt."
   ]
  },
  {
   "cell_type": "code",
   "execution_count": 33,
   "metadata": {},
   "outputs": [
    {
     "ename": "SyntaxError",
     "evalue": "invalid syntax (<ipython-input-33-6b7c5920f711>, line 5)",
     "output_type": "error",
     "traceback": [
      "\u001b[0;36m  File \u001b[0;32m\"<ipython-input-33-6b7c5920f711>\"\u001b[0;36m, line \u001b[0;32m5\u001b[0m\n\u001b[0;31m    print(mijn_eerste_df[,10])\u001b[0m\n\u001b[0m                         ^\u001b[0m\n\u001b[0;31mSyntaxError\u001b[0m\u001b[0;31m:\u001b[0m invalid syntax\n"
     ]
    }
   ],
   "source": [
    "mijn_eerste_df = pd.DataFrame({'eerste_kolom':[1, 2, 3], 'tweede_kolom':[23, 45, 67], 'derde kolom':['aap', 'noot', 'mies']}, index=[10,20, 30])\n",
    "mijn_eerste_df['eerste_kolom'] \n",
    "# mijn_eerste_df.eerste_kolom\n",
    "\n",
    "print(mijn_eerste_df[,10])"
   ]
  },
  {
   "cell_type": "code",
   "execution_count": null,
   "metadata": {},
   "outputs": [],
   "source": []
  },
  {
   "cell_type": "markdown",
   "metadata": {},
   "source": [
    "### Selectie met loc en iloc"
   ]
  },
  {
   "cell_type": "code",
   "execution_count": null,
   "metadata": {},
   "outputs": [],
   "source": []
  },
  {
   "cell_type": "code",
   "execution_count": null,
   "metadata": {},
   "outputs": [],
   "source": []
  },
  {
   "cell_type": "markdown",
   "metadata": {},
   "source": [
    "### Multi-index"
   ]
  },
  {
   "cell_type": "code",
   "execution_count": null,
   "metadata": {},
   "outputs": [],
   "source": []
  },
  {
   "cell_type": "code",
   "execution_count": null,
   "metadata": {},
   "outputs": [],
   "source": []
  },
  {
   "cell_type": "markdown",
   "metadata": {},
   "source": [
    "### Beschrijvende statistiek"
   ]
  },
  {
   "cell_type": "code",
   "execution_count": null,
   "metadata": {},
   "outputs": [],
   "source": []
  },
  {
   "cell_type": "code",
   "execution_count": null,
   "metadata": {},
   "outputs": [],
   "source": []
  },
  {
   "cell_type": "code",
   "execution_count": null,
   "metadata": {},
   "outputs": [],
   "source": []
  },
  {
   "cell_type": "code",
   "execution_count": null,
   "metadata": {},
   "outputs": [],
   "source": []
  },
  {
   "cell_type": "markdown",
   "metadata": {},
   "source": [
    "## Data laden en wegschrijven\n",
    "\n",
    "Doe hier wel csv en excel, verder opverzoek uit les 1\n",
    "zie mckineey boek\n"
   ]
  },
  {
   "cell_type": "code",
   "execution_count": null,
   "metadata": {},
   "outputs": [],
   "source": []
  },
  {
   "cell_type": "code",
   "execution_count": null,
   "metadata": {},
   "outputs": [],
   "source": []
  },
  {
   "cell_type": "markdown",
   "metadata": {},
   "source": [
    "### Data voorbereiden, opschonen en transformeren"
   ]
  },
  {
   "cell_type": "code",
   "execution_count": null,
   "metadata": {},
   "outputs": [],
   "source": []
  },
  {
   "cell_type": "code",
   "execution_count": null,
   "metadata": {},
   "outputs": [],
   "source": []
  },
  {
   "cell_type": "markdown",
   "metadata": {},
   "source": [
    "### Data combineren"
   ]
  },
  {
   "cell_type": "code",
   "execution_count": null,
   "metadata": {},
   "outputs": [],
   "source": []
  },
  {
   "cell_type": "code",
   "execution_count": null,
   "metadata": {},
   "outputs": [],
   "source": []
  },
  {
   "cell_type": "markdown",
   "metadata": {},
   "source": [
    "### Reshape en pivot tables"
   ]
  },
  {
   "cell_type": "code",
   "execution_count": null,
   "metadata": {},
   "outputs": [],
   "source": []
  },
  {
   "cell_type": "code",
   "execution_count": null,
   "metadata": {},
   "outputs": [],
   "source": []
  },
  {
   "cell_type": "markdown",
   "metadata": {},
   "source": [
    "### Aggregeren en groupby"
   ]
  },
  {
   "cell_type": "code",
   "execution_count": null,
   "metadata": {},
   "outputs": [],
   "source": []
  },
  {
   "cell_type": "code",
   "execution_count": null,
   "metadata": {},
   "outputs": [],
   "source": []
  },
  {
   "cell_type": "markdown",
   "metadata": {},
   "source": [
    "### Datumtijd variabelen en time series"
   ]
  },
  {
   "cell_type": "code",
   "execution_count": null,
   "metadata": {},
   "outputs": [],
   "source": []
  },
  {
   "cell_type": "code",
   "execution_count": null,
   "metadata": {},
   "outputs": [],
   "source": []
  },
  {
   "cell_type": "code",
   "execution_count": null,
   "metadata": {},
   "outputs": [],
   "source": []
  },
  {
   "cell_type": "markdown",
   "metadata": {},
   "source": [
    "gebruik nog hoofdstuk 7, 8, 10, 11"
   ]
  },
  {
   "cell_type": "code",
   "execution_count": null,
   "metadata": {},
   "outputs": [],
   "source": []
  },
  {
   "cell_type": "markdown",
   "metadata": {},
   "source": [
    "## Referenties\n",
    "\n",
    "Python Data Science Handbook (en al het andere youtube- en blogmateriaal van auteur Jake VanderPlas, zie http://jakevdp.github.io/), geheel in notebooks op github: https://jakevdp.github.io/PythonDataScienceHandbook/. Het pandas boek van Wes McKinney: https://github.com/wesm/pydata-book\n",
    "\n",
    "Antwoorden op al je vragen (of ze staan er al, of je hebt ze snel) op StackOverflow: https://stackoverflow.com/\n",
    "\n",
    "Documentatie van de voor data science belangrijke paketten: https://docs.scipy.org/doc/, http://pandas.pydata.org/pandas-docs/stable/\n",
    "\n",
    "Voor visualisatie gebruiken we matplotlib (https://matplotlib.org/ en de gallery op https://matplotlib.org/gallery/index.html), seaborn (https://seaborn.pydata.org/) en bokeh (https://bokeh.pydata.org/en/latest/).\n",
    "\n",
    "Verder vind je op YouTube veel praatjes en workshops (vaak met materiaal op github). Let er wel op dat je redelijk recent materiaal bekijkt, sommige van deze paketten zijn nog stevig in ontwikkeling. Op YouTube kun je zoeken naar PyData, (Euro)SciPy, Pycon, Enthought en Numfocus. Dat geeft je een hele hoop materiaal."
   ]
  },
  {
   "cell_type": "code",
   "execution_count": null,
   "metadata": {},
   "outputs": [],
   "source": []
  }
 ],
 "metadata": {
  "kernelspec": {
   "display_name": "Python 3",
   "language": "python",
   "name": "python3"
  },
  "language_info": {
   "codemirror_mode": {
    "name": "ipython",
    "version": 3
   },
   "file_extension": ".py",
   "mimetype": "text/x-python",
   "name": "python",
   "nbconvert_exporter": "python",
   "pygments_lexer": "ipython3",
   "version": "3.6.6"
  }
 },
 "nbformat": 4,
 "nbformat_minor": 2
}
