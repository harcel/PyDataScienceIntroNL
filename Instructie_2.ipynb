{
 "cells": [
  {
   "cell_type": "markdown",
   "metadata": {},
   "source": [
    "# Python en data\n",
    "\n",
    "Data science begint met data. Daarom richten we onze aandacht nu op technieken om met data om te gaan in Python. \"Core Python\" is daarvoor niet altijd direct geschikt, maar gelukkig bestaan er meerdere goed ontwikkelde packages die ons het leven makkelijker maken. Het gaat daarbij om het lezen, bewerken en weer opslaan van data. In de tussentijd zullen we alvast kleine uitstapjes maken naar de analyse van data.\n",
    "\n",
    "Het is \"good practice\" om paketten die je gaat gebruiken bovenaan je notebook allemaal tegelijk te importeren. Ik doe dat hier ook, zodat je meteen een overzicht krijgt van wat je te wachten staat."
   ]
  },
  {
   "cell_type": "code",
   "execution_count": 1,
   "metadata": {},
   "outputs": [],
   "source": [
    "import numpy as np          # Package voor numerieke bewerkingen, en het werken met arrays\n",
    "import pandas as pd         # Package voor het werken met data in de vorm van tabellen. Pandas wordt je vriend!"
   ]
  },
  {
   "cell_type": "code",
   "execution_count": null,
   "metadata": {},
   "outputs": [],
   "source": []
  }
 ],
 "metadata": {
  "kernelspec": {
   "display_name": "Python 3",
   "language": "python",
   "name": "python3"
  },
  "language_info": {
   "codemirror_mode": {
    "name": "ipython",
    "version": 3
   },
   "file_extension": ".py",
   "mimetype": "text/x-python",
   "name": "python",
   "nbconvert_exporter": "python",
   "pygments_lexer": "ipython3",
   "version": "3.6.6"
  }
 },
 "nbformat": 4,
 "nbformat_minor": 2
}
