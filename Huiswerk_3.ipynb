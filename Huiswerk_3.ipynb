{
 "cells": [
  {
   "cell_type": "code",
   "execution_count": 2,
   "metadata": {},
   "outputs": [],
   "source": [
    "import numpy as np\n",
    "import pandas as pd\n",
    "import os\n",
    "import matplotlib.pyplot as plt\n",
    "import seaborn as sns"
   ]
  },
  {
   "cell_type": "markdown",
   "metadata": {},
   "source": [
    "# Huiswerkopgaven - deel 3: Visualisatie\n",
    "\n",
    "Dit notebook bevat opgaven om thuis mee aan de slag te gaan. Het laden van (voorbeelden van) uitwerkingen gaat op dezelfde manier als in de opgaven die tijdens de cursus zijn gedaan. Het notebook is onderverdeeld in twee stukken. Het eerste onderdeel raad ik je zeker aan te doen. Dit leert je nog meer basisfunctionaliteit van de tijdens de cursus behandelde stof. Feitelijk heb je zonder die opgaven een incompleet beeld. Het tweede deel (de \"bonus\") kun je doen als je er zin in hebt en uitgedaagd wil worden. Je leert er op zich niet onmisbare stof, maar wel nieuwe dingen die leuk zijn (en van meer oefening leer je het beter).\n",
    "\n",
    "\n",
    "## 1. De matplotlib en seaborn galleries\n",
    "\n",
    "Bekijk de twee galleries op https://matplotlib.org/gallery.html en https://seaborn.pydata.org/examples/index.html. Zoek je favoriete plot uit. Kopieer het stuk dat de data genereert en probeer de grafiek te reproduceren. Welke onderdelen lukken wel en niet? Heb je genoeg aan de matplotlib en seborn docs in het notebook? Kom je er met Google wel uit?  Noteer eventuele dingen die je niet kan volgen en we bespreken die in de cursusavond erna!\n",
    "\n",
    "## 2. Een matplotlib plot met data en theorie\n",
    "\n",
    "Maak een dataset met x van 0 tot $2 \\pi$, waarop je ntjes verdeeld 15 punten hebt (random of uniform verdeeld). Reken hierbij een y-waarde uit met de functie $y = 2 \\cdot \\sin(x) + \\epsilon$, waarbij epsilon een random scatter is met een gemiddelde van 0 en een standaarddeviatie van 1.\n",
    "Plot deze punten waarbij de kleur aangeeft hoeveel scatter ze hebben gekregen (in absolute zin, dus afstand tot de lijn). Uiteraard hoort er dan ook een \"color bar\" bij met de juiste bijschriften (en deze begint bij 0). Plot ook de lijn $y=2 \\cdot \\sin(x)$. Voorzie je plot van een legenda die aangeeft dat de punten data zijn en de lijn theorie. De assen worden ook voorzien van bijschriften. Maak het font in de legenda wat groter. Sla de figuur op als png."
   ]
  },
  {
   "cell_type": "code",
   "execution_count": null,
   "metadata": {},
   "outputs": [],
   "source": []
  },
  {
   "cell_type": "code",
   "execution_count": 8,
   "metadata": {},
   "outputs": [],
   "source": [
    "to_include = os.path.join('uitwerkingen', '3h-theorietesten.py') \n",
    "# %load $to_include"
   ]
  },
  {
   "cell_type": "markdown",
   "metadata": {},
   "source": [
    "## 3. Altair, interactief."
   ]
  },
  {
   "cell_type": "code",
   "execution_count": null,
   "metadata": {},
   "outputs": [],
   "source": []
  },
  {
   "cell_type": "code",
   "execution_count": null,
   "metadata": {},
   "outputs": [],
   "source": []
  },
  {
   "cell_type": "markdown",
   "metadata": {},
   "source": [
    "## Bonus\n",
    "\n",
    "### Het exporteren van een Altair chart naar een graphic of vega-lite interactieve chart voor op een website.\n",
    "Graphics zijn sowieso fantastisch en helpen een data scientist enorm in zijn/haar werk. Vaak zullen ze echter ook moeten worden geexporteerd, naar bijvoorbeeld reports of dashboards. In Altair bestaat voor statische plots de optie om deze naar een pixel-formaat (.png) of vector-formaat (.svg) te exporteren. Deze kunnen dan vervolgens elders worden gebruikt of, waar nodig, geconverteerd naar andere formaten. Voor de interactive varianten worden er json-files gegenereerd die door vega-lite kunnen worden geinterpreteerd en in een browser weergegeven. Wikipedia ondersteunt vega-lite jsons en in html kan deze worden weergegeven met behulp van de juiste javascript."
   ]
  },
  {
   "cell_type": "code",
   "execution_count": null,
   "metadata": {},
   "outputs": [],
   "source": []
  },
  {
   "cell_type": "code",
   "execution_count": null,
   "metadata": {},
   "outputs": [],
   "source": []
  }
 ],
 "metadata": {
  "kernelspec": {
   "display_name": "Python 3",
   "language": "python",
   "name": "python3"
  },
  "language_info": {
   "codemirror_mode": {
    "name": "ipython",
    "version": 3
   },
   "file_extension": ".py",
   "mimetype": "text/x-python",
   "name": "python",
   "nbconvert_exporter": "python",
   "pygments_lexer": "ipython3",
   "version": "3.6.6"
  }
 },
 "nbformat": 4,
 "nbformat_minor": 2
}
