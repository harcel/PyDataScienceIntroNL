{
 "cells": [
  {
   "cell_type": "code",
   "execution_count": 2,
   "metadata": {},
   "outputs": [],
   "source": [
    "import numpy as np\n",
    "import pandas as pd\n",
    "import os\n",
    "import matplotlib.pyplot as plt\n",
    "import seaborn as sns\n",
    "import altair as alt"
   ]
  },
  {
   "cell_type": "markdown",
   "metadata": {},
   "source": [
    "# Huiswerkopgaven - deel 3: Visualisatie\n",
    "\n",
    "Dit notebook bevat opgaven om thuis mee aan de slag te gaan. Het laden van (voorbeelden van) uitwerkingen gaat op dezelfde manier als in de opgaven die tijdens de cursus zijn gedaan. Het notebook is onderverdeeld in twee stukken. Het eerste onderdeel raad ik je zeker aan te doen. Dit leert je nog meer basisfunctionaliteit van de tijdens de cursus behandelde stof. Feitelijk heb je zonder die opgaven een incompleet beeld. Het tweede deel (de \"bonus\") kun je doen als je er zin in hebt en uitgedaagd wil worden. Je leert er op zich niet onmisbare stof, maar wel nieuwe dingen die leuk zijn (en van meer oefening leer je het beter).\n",
    "\n",
    "\n",
    "## 1. De matplotlib en seaborn galleries\n",
    "\n",
    "Bekijk de twee galleries op https://matplotlib.org/gallery.html en https://seaborn.pydata.org/examples/index.html. Zoek je favoriete plot uit. Kopieer het stuk dat de data genereert en probeer de grafiek te reproduceren. Welke onderdelen lukken wel en niet? Heb je genoeg aan de matplotlib en seborn docs in het notebook? Kom je er met Google wel uit?  Noteer eventuele dingen die je niet kan volgen en we bespreken die in de cursusavond erna!\n",
    "\n",
    "## 2. Een matplotlib plot met data en theorie\n",
    "\n",
    "Maak een dataset met x van 0 tot $2 \\pi$, waarop je ntjes verdeeld 15 punten hebt (random of uniform verdeeld). Reken hierbij een y-waarde uit met de functie $y = 2 \\cdot \\sin(x) + \\epsilon$, waarbij epsilon een random scatter is met een gemiddelde van 0 en een standaarddeviatie van 1.\n",
    "Plot deze punten waarbij de kleur aangeeft hoeveel scatter ze hebben gekregen (in absolute zin, dus afstand tot de lijn). Uiteraard hoort er dan ook een \"color bar\" bij met de juiste bijschriften (en deze begint bij 0). Plot ook de lijn $y=2 \\cdot \\sin(x)$. Voorzie je plot van een legenda die aangeeft dat de punten data zijn en de lijn theorie. De assen worden ook voorzien van bijschriften. Maak het font in de legenda wat groter. Sla de figuur op als png."
   ]
  },
  {
   "cell_type": "code",
   "execution_count": null,
   "metadata": {},
   "outputs": [],
   "source": []
  },
  {
   "cell_type": "code",
   "execution_count": 8,
   "metadata": {},
   "outputs": [],
   "source": [
    "to_include = os.path.join('uitwerkingen', '3h-theorietesten.py') \n",
    "# %load $to_include"
   ]
  },
  {
   "cell_type": "markdown",
   "metadata": {},
   "source": [
    "## 3. Altair, interactief.\n",
    "\n",
    "Kijk opnieuw naar de grote set data sets in opdracht 4 van deze week. Ditmaal maak je een plot van een van deze datasets, maar nu met interactiviteit. Je mag er helemaal mee los gaan en kijken wat je kunt maken. Het is ook natuurlijk ook prima om zelf met een dataset op de proppen te komen!\n",
    "\n",
    "Ik heb een voorbeeld uitgwerkt die aan de volgende omschrijving voldoet. Mocht je geen inspiratie hebben kun je deze zelf proberen te maken. Ik heb dit voorbeeld geleend uit de example gallery van Altair, die je vindt op https://altair-viz.github.io/gallery/index.html\n",
    "\n",
    "Maak voor de Seattle weather data set een plot met cirkels in de tijd, die de temp_max plot. De kleuren hangen af van 'weather', de grootte van de neerslag. Daaronder een histogram van het aantal dagen per weertype, in een horizontale bar chart. Als je op een van de typen klikt in de onderste panel, dan moeten alleen die puntjes zichtbaar blijven in de scatter plot. In de scatter plot moet je een datum-range kunnen selecteren, waarna de histogram daaronder aanpast naar de histogram van die selectie."
   ]
  },
  {
   "cell_type": "code",
   "execution_count": null,
   "metadata": {},
   "outputs": [],
   "source": []
  },
  {
   "cell_type": "code",
   "execution_count": 10,
   "metadata": {},
   "outputs": [],
   "source": [
    "to_include = os.path.join('uitwerkingen', '3h-seattleinteractive.py') \n",
    "# %load $to_include"
   ]
  },
  {
   "cell_type": "markdown",
   "metadata": {},
   "source": [
    "## Bonus\n",
    "\n",
    "### Het exporteren van een Altair chart naar een graphic of vega-lite interactieve chart voor op een website.\n",
    "Graphics zijn sowieso fantastisch en helpen een data scientist enorm in zijn/haar werk. Vaak zullen ze echter ook moeten worden geexporteerd, naar bijvoorbeeld reports of dashboards. In Altair bestaat voor statische plots de optie om deze naar een pixel-formaat (.png) of vector-formaat (.svg) te exporteren. Deze kunnen dan vervolgens elders worden gebruikt of, waar nodig, geconverteerd naar andere formaten. Voor de interactive varianten worden er json-files gegenereerd die door vega-lite kunnen worden geinterpreteerd en in een browser weergegeven. Wikipedia ondersteunt vega-lite jsons en in html kan deze worden weergegeven met behulp van de juiste javascript.\n",
    "\n",
    "Neem je plot van hierboven en exporteer deze naar een html pagina. Lukt het om die in een browser te openen?"
   ]
  },
  {
   "cell_type": "code",
   "execution_count": null,
   "metadata": {},
   "outputs": [],
   "source": []
  },
  {
   "cell_type": "code",
   "execution_count": 11,
   "metadata": {},
   "outputs": [],
   "source": [
    "to_include = os.path.join('uitwerkingen', '3h-savehtml.py') \n",
    "# %load $to_include"
   ]
  },
  {
   "cell_type": "markdown",
   "metadata": {},
   "source": [
    "### Een hack om een klikbare legenda te maken in Altair\n",
    "\n",
    "Vooralsnog bestaat er geen methode in Altair waarin de legenda van bijvoorbeeld een scatterplot klikbaar is om punten te highlighten, zoals bijvoorbeeld met alt.selection().\n",
    "\n",
    "Je kunt dit oplossen door interacties, met twee plots naast elkaar, waarvan de tweede eruit ziet als een legenda, maar eigenlijk gewoon een plot is, waarin de punten aan te klikken zijn. Kies een dataset met minstens twee numerieke variabelen, zodat je een goede scatterplot kunt maken, en een categorische variabele die voor kleur dient, die je ook in de legenda wil hebben. Twee voorbeelden daarvan:\n",
    "- De iris dataset: x en y zijn twee van de vier afmetingen van de bloemen en de categorische variabele is het type bloem.\n",
    "- De cars dataset, waarin de Origin een noimnale variabele is en er genoeg numerieke kolommen zijn voor de scatterplot.\n",
    "\n",
    "Ga je gang!"
   ]
  },
  {
   "cell_type": "code",
   "execution_count": null,
   "metadata": {},
   "outputs": [],
   "source": []
  },
  {
   "cell_type": "code",
   "execution_count": 7,
   "metadata": {},
   "outputs": [],
   "source": [
    "to_include = os.path.join('uitwerkingen', '3h-altairlegend.py') \n",
    "# %load $to_include"
   ]
  }
 ],
 "metadata": {
  "kernelspec": {
   "display_name": "Python 3",
   "language": "python",
   "name": "python3"
  },
  "language_info": {
   "codemirror_mode": {
    "name": "ipython",
    "version": 3
   },
   "file_extension": ".py",
   "mimetype": "text/x-python",
   "name": "python",
   "nbconvert_exporter": "python",
   "pygments_lexer": "ipython3",
   "version": "3.6.6"
  }
 },
 "nbformat": 4,
 "nbformat_minor": 2
}
