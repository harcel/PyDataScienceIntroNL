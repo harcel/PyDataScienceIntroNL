{
 "cells": [
  {
   "cell_type": "markdown",
   "metadata": {},
   "source": [
    "# Opdrachten bij de Introductie tot de programmeertaal Python -- deel 1\n",
    "\n",
    "De opdrachten in dit notebook horen bij het eerste deel van de cursus, waarin we kennismkane met Python als programmeertaal. De meeste van deze opdrachten komen al op de cursusavond aan bod. Ik raad je aan om alle opdrachten waar je niet aan toe komt tijdens de cursus thuis te doen. In sommige gevallen zit er lesmateriaal in wat anders dan in de opdracht niet langskomt in de lesstof.\n",
    "\n",
    "Alle opdrachten hebben een voorbeeld van een uitwerking die wordt geladen wanneer de cellen met \"%load XXX\" worden uitgevoerd. Let wel:\n",
    "- Probeer het eerst zelf! Je leert er pas echt van door te proberen, eventueel te falen en nog een keer te proberen!\n",
    "- Dit is *een* uitwerking, meerdere varianten zijn waarschijnlijk mogelijk. Overleg bij twijfel gerust met een medecursist, of met de docent!\n",
    "\n",
    "\n",
    "## Strings, printen en documentatie\n",
    "De eerste opdrachten gaan over strings, hoe je naar het scherm print en hoe je uit kan vinden wat er mogelijk is met een Jupyter notebook.\n",
    "\n",
    "\n",
    "### 1. Hello world!\n",
    "Een cursus over een programmeertaal kan natuurlijk alleen serieus genomen worden als deze begint met een \"Hello world!\" opdracht. Schrijf je eerste regel Python die een wonderlijke \"Hello world!\" op je scherm tovert!"
   ]
  },
  {
   "cell_type": "code",
   "execution_count": null,
   "metadata": {},
   "outputs": [],
   "source": []
  },
  {
   "cell_type": "code",
   "execution_count": 1,
   "metadata": {},
   "outputs": [],
   "source": [
    "# %load \"uitwerkingen/1-helloworld.py\"\n"
   ]
  },
  {
   "cell_type": "markdown",
   "metadata": {},
   "source": [
    "Probeer nu een aantal dingen uit met een stringvariabele, die \"Hello World\" bevat, zoals je net hebt geprint:\n",
    "- Maak van alle karakters hoofdletters en print dat.\n",
    "- Maak van alle karakters kleine letters en print dat.\n",
    "- Print de lengte van de hele string.\n",
    "- Zet de string drie keer achter elkaar, met een spatie ertussen.\n",
    "\n",
    "Maak gebruik van de interne documentatie die Python biedt als je iets niet weet!"
   ]
  },
  {
   "cell_type": "code",
   "execution_count": null,
   "metadata": {},
   "outputs": [],
   "source": []
  },
  {
   "cell_type": "code",
   "execution_count": 21,
   "metadata": {},
   "outputs": [],
   "source": [
    "# %load \"uitwerkingen/1-worldbewerking.py\""
   ]
  },
  {
   "cell_type": "markdown",
   "metadata": {},
   "source": [
    "## Indices en containers\n",
    "\n",
    "Enkele getallen en strings zijn leuk, maar in data science gaat het al snel over grote hoeveelheden getallen. Lists en dictionaries zijn de core Python containers die het meest gebruikt worden (voor data science zien we later nog meer, populairdere vormen van containers!) en deze bekijken we hier in enig detail.\n",
    "\n",
    "### 2. Indices in strings en lists\n",
    "Hieronder wordt een string gedefinieerd. Wat is de index van de \"P\"? Gebruik de indexfuncties van Python om:\n",
    "- Alleen het eerste teken van de string weer te geven.\n",
    "- Alleen het laatste teken van de string weer te geven.\n",
    "- De string weer te geven vanaf \"is\".\n",
    "- Alleen de tekens met een even index weer te geven.\n",
    "- De string om te draaien, maar het laatste teken niet weer te geven."
   ]
  },
  {
   "cell_type": "code",
   "execution_count": 1,
   "metadata": {},
   "outputs": [],
   "source": [
    "zin = \"Python is enorm gaaf!\""
   ]
  },
  {
   "cell_type": "code",
   "execution_count": 11,
   "metadata": {},
   "outputs": [],
   "source": [
    "# %load \"uitwerkingen/1-stringindex.py\""
   ]
  },
  {
   "cell_type": "markdown",
   "metadata": {},
   "source": [
    "### 3. Lists en indices\n",
    "- Maak een list warin verschillende typen data voor komen (een floating point number, een integer en een string).\n",
    "- Voeg daar vervolgens nog een element aan toe, naar keuze.\n",
    "- Vervang daarna je tweede element door een andere list met drie elementen.\n",
    "- Hoe print je het tweede element van de list op de tweede plek in de eerste list met indices op de eerste list?\n",
    "- Kun je ook die lijst op het eerste elemenet twee keer invoegen op die plek?\n",
    "- Wat gebeurt er als je een getal optelt bij een lijst?\n",
    "- Wat gebeurt er als je een string optelt bij een lijst?\n",
    "- Neem de hierboven gedefinieerde zin en maak een list van alle losse woorden met behulp van 'split'.\n",
    "- Maak er daarna weer 1 string van met een komma en een spatie tussen alle woorden.\n",
    "\n",
    "Had je die laatste veranderingen ook in 1 stap kunnen doen?"
   ]
  },
  {
   "cell_type": "code",
   "execution_count": null,
   "metadata": {},
   "outputs": [],
   "source": []
  },
  {
   "cell_type": "code",
   "execution_count": 6,
   "metadata": {},
   "outputs": [],
   "source": [
    "# %load \"uitwerkingen/1-list_strings.py\"\n"
   ]
  },
  {
   "cell_type": "markdown",
   "metadata": {},
   "source": [
    "In de praktijk wanneer je met data werkt zullen enorm veel van van de containers, zoals lists, die je gebruikt vol staan met getallen. We kijken hier kort naar een voorbeeld waaruit blijkt dat lists niet per se handig zijn daarvoor.\n",
    "\n",
    "- Maak een lijst van een paar willeukerige getallen.\n",
    "- Gebruik append en extend om deze lijst langer te maken. Wat is het verschil?\n",
    "- Probeer alle elementen van de lijst met 3 te vermenigvuldigen."
   ]
  },
  {
   "cell_type": "code",
   "execution_count": null,
   "metadata": {},
   "outputs": [],
   "source": []
  },
  {
   "cell_type": "code",
   "execution_count": 23,
   "metadata": {},
   "outputs": [],
   "source": [
    "# %load \"uitwerkingen/1-list_bewerkingen.py\"\n"
   ]
  },
  {
   "cell_type": "markdown",
   "metadata": {},
   "source": [
    "We zullen zometeen zien hoe we dat wel op kunnen lossen met loops, maar we gaan eerst de andere veel gebruikte core Python data container bekijken, de dictionary.\n",
    "\n",
    "### 4. Dictionaries\n",
    "Een dictionary wordt gedefinieerd door \"curly brackets\": {}. Hierin bevinden zich zogenaamde kery/value-pairs. Een key is feitelijk de naam van wat er in zit, de waarde kan alles zijn van string, getal,tot lijst of nog een nieuwe dictionary.\n",
    "\n",
    "Maak een dictionary voor wat boodschappen, waarin de keys de namen zijn van de boodschappen die je hebt gehaald en de waarde de prijs die je daarvoor hebt betaald.\n",
    "\n",
    "Checken of een item voorkomt kan met 'in'. Check het daadwerkelijk voorkomen van je boodschappen. Als je de waarde wil teruggeven dan kun je de key gebruiken als een soort index. Probeer dat ook. Kun je ook andere datatypen gebruiken voor de keys van een dictionary?"
   ]
  },
  {
   "cell_type": "code",
   "execution_count": null,
   "metadata": {},
   "outputs": [],
   "source": []
  },
  {
   "cell_type": "code",
   "execution_count": 25,
   "metadata": {},
   "outputs": [],
   "source": [
    "# %load \"uitwerkingen/1-dicts.py\"\n"
   ]
  },
  {
   "cell_type": "markdown",
   "metadata": {},
   "source": [
    "## Loops en condities: for, while en if\n",
    "\n",
    "Voor het doen van bewerkingen op data is het vaak nuttig om over de inhoud van je data container heen te loopen. Soms moet hier onder bepaalde voorwaarden iets ee gedaan worden, en onder andere voorwaarden iets anders. Hier kijken we naar de mogelijkheden die Python ons biedt om dit soort dingen te doen.\n",
    "\n",
    "### 5. Loops gebruiken\n",
    "Onderzoek de werking van range() en het gebruik hiervan in een for-loop:\n",
    "- Laat in een loopje alle getallen van 0 tot 10 printen.\n",
    "- Laat in een loopje alle oneven getallen van 3 tot en met 17 printen.\n",
    "- Laat in een loopje de derde macht van alle getallen vanaf 1 printen, laat de loop stoppen wanneer deze groter dan 1000 worden. Print zowel het getal als de derde macht ervan, maar alleen als deze derde macht even is.\n"
   ]
  },
  {
   "cell_type": "code",
   "execution_count": null,
   "metadata": {},
   "outputs": [],
   "source": []
  },
  {
   "cell_type": "code",
   "execution_count": 2,
   "metadata": {},
   "outputs": [],
   "source": [
    "# %load \"uitwerkingen/1-fowhileif.py\""
   ]
  },
  {
   "cell_type": "markdown",
   "metadata": {},
   "source": [
    "### 6. Containers, loopjes en voorwaarden\n",
    "\n",
    "In deze oefening combineer je al het bovenstaande. Er wordt een lijst voor je gedefinieerd van boodschappen met de prijs. Schrijf hieronder code die resulteert in een dictionary met de totale bedragen uitgegeven aan elk item. Voor het loopen over twee lijsten tegelijk heen, zie de functie zip(). \n",
    "Terwijl deze dictionary wordt opgebouwd wil ik dat Python enthousiast vertelt wanneer hij een nieuw soort item tegenkomt!\n",
    "Als hij klaar is, laat dan een overzicht zien van de totaalbedragen."
   ]
  },
  {
   "cell_type": "code",
   "execution_count": 4,
   "metadata": {},
   "outputs": [],
   "source": [
    "items = ['bier', 'bier', 'cola', 'bier', 'appels', 'brood', 'appelsap',\n",
    "       'brood', 'melk', 'brood', 'appelsap', 'snoep', 'bier', 'bananen',\n",
    "       'brood', 'cola', 'appelsap', 'brood', 'doperwtjes', 'gehakt',\n",
    "       'brood', 'brood', 'cola', 'snoep', 'melk', 'melk', 'bananen',\n",
    "       'bananen', 'brood', 'appels', 'brood', 'doperwtjes', 'appels',\n",
    "       'cola', 'brood', 'doperwtjes', 'fanta', 'afwasmiddel', 'brood', 'melk',\n",
    "       'brood', 'fanta', 'melk', 'appels', 'fanta', 'doperwtjes', 'fanta',\n",
    "       'bier', 'appels', 'fanta', 'melk', 'bananen', 'bananen', 'cola',\n",
    "       'brood', 'cola', 'melk', 'appelsap', 'snoep', 'doperwtjes',\n",
    "       'doperwtjes', 'cola', 'bier', 'brood', 'fanta', 'snoep', 'snoep',\n",
    "       'gehakt', 'doperwtjes', 'doperwtjes', 'snoep', 'bier', 'afwasmiddel',\n",
    "       'appelsap', 'doperwtjes', 'chocola', 'brood', 'fanta', 'bananen',\n",
    "       'melk', 'bananen', 'cola', 'snoep', 'bananen', 'melk', 'melk',\n",
    "       'luiers', 'melk', 'bier', 'fanta', 'appels', 'appels', 'bananen',\n",
    "       'bier', 'appelsap', 'gehakt', 'melk', 'doperwtjes', 'snoep', 'cola']\n",
    "prijzen = [2.98, 1.89, 2.02, 3.  , 1.14, 0.44, 2.67, 0.51, 1.69, 2.18, 0.24,\n",
    "       2.52, 2.16, 0.81, 0.51, 0.16, 0.03, 2.29, 1.05, 1.65, 2.74, 0.95,\n",
    "       2.06, 2.57, 2.85, 0.83, 2.97, 2.21, 2.04, 1.48, 1.51, 0.18, 0.69,\n",
    "       2.77, 0.36, 0.01, 1.05, 0.9 , 0.19, 0.76, 0.33, 2.32, 1.27, 0.91,\n",
    "       1.88, 1.59, 2.21, 0.81, 2.14, 2.23, 1.02, 1.36, 2.33, 0.74, 0.43,\n",
    "       1.2 , 0.25, 0.1 , 2.16, 1.17, 2.89, 0.4 , 2.15, 0.21, 1.15, 2.61,\n",
    "       1.49, 2.73, 0.12, 1.88, 2.56, 0.01, 0.24, 1.73, 0.07, 2.85, 2.55,\n",
    "       2.08, 2.04, 2.08, 1.47, 1.72, 0.45, 1.82, 0.37, 0.28, 1.29, 2.17,\n",
    "       0.83, 2.3 , 0.87, 2.34, 0.48, 1.02, 2.16, 1.93, 0.05, 1.76, 1.63, 0.22]\n"
   ]
  },
  {
   "cell_type": "code",
   "execution_count": 6,
   "metadata": {},
   "outputs": [],
   "source": [
    "# %load \"uitwerkingen/1-boodschapjes.py\""
   ]
  },
  {
   "cell_type": "markdown",
   "metadata": {},
   "source": [
    "## Functies\n",
    "\n",
    "Het defnieren van functies is iets wat je vaak zal doen, om het telkens maar kopieren van code te voorkomen. Functies en de variabelen om ze mee aan te roepen worden gedefinieerd met 'def' en gebruiken net als loops en condities indenting om hun bereik aan te geven. Vaak sluiten ze af met een return statement, om het resultaat van de functie naar het aanroepende programma terug te geven.\n",
    "\n",
    "### 7. Eenvoudige functies\n",
    "- Schrijf een functie die bij het getal wat er in komt 7 optelt.\n",
    "Schrijf netjes commentaar in je functie over wat het doet, hoe het werkt, etc. zodat ook anderen je functie makkelijk kunnen gebruiken!\n",
    "- Schrijf daarna een andere functie die even getallen met 2 en oneven getallen met 3 vermenigvuldigt. Als de input een string is, dan mag deze ook met twee vermenigvuldigd worden."
   ]
  },
  {
   "cell_type": "code",
   "execution_count": null,
   "metadata": {},
   "outputs": [],
   "source": []
  },
  {
   "cell_type": "code",
   "execution_count": 27,
   "metadata": {},
   "outputs": [],
   "source": [
    "# %load 'uitwerkingen/1-functies.py'"
   ]
  },
  {
   "cell_type": "markdown",
   "metadata": {},
   "source": [
    "### 8. Een functie om mee te rekenen\n",
    "De reeks van Fibonacci is een reeks getallen, waarin een getal steeds de som is van z'n twee voorgangers. Zodra de eerste twee getallen dus bekend zijn, is de hele reeks bekend. Normaliter zijn de eerste twee getallen beide 1 (of 0 en 1?) en ziet de reeks er als volgt uit:\n",
    "\n",
    "1 - 1 - 2 - 3 - 5 - 8 - 13 - 21 - 34 - 55 ...\n",
    "\n",
    "Schrijf een functie die het n'de getal in de reeks oplevert. De default van de functie moet zijn dat 1 en 1 de twee startgetallen zijn, maar de gebruiker moet ook een andere keuze kunnen maken. Geef de gebruiker ook de optie om alle getallen in de betreffende reeks te printen!"
   ]
  },
  {
   "cell_type": "code",
   "execution_count": null,
   "metadata": {},
   "outputs": [],
   "source": []
  },
  {
   "cell_type": "code",
   "execution_count": 43,
   "metadata": {},
   "outputs": [],
   "source": [
    "# %load 'uitwerkingen/1-fibonacci.py'"
   ]
  },
  {
   "cell_type": "markdown",
   "metadata": {},
   "source": [
    "## Anderen hebben functies geschreven die jij kunt gebruiken!\n",
    "\n",
    "Wanneer je een set functionaliteiten hebt gemaakt in Python die ook voor anderen nuttig zouden kunnen zijn, dan kun je er een package van maken. Hoe je dat precies doet gaan we hier niet op in. Hoe je door anderen gemaakte packages gebruikt wel, want het blijkt dat Python pas echt zijn kracht laat zien voor data science als we packages uit de open source community importeren.\n",
    "\n",
    "### 9. Functies importeren en namespaces\n",
    "Een wortel trekken kan Python alleen door een getal tot de macht een half te verheffen. Er zijn echter wel packages die je dat met een sqrt() functie laten doen. 'math' en 'numpy' zijn daar twee voorbeelden van. Hieronder worden de beide varianten geimporteerd. Welke wordt gebruikt inde derde regel? Is er een verschil tussen de twee? Hoe kun je het beste zorgen voor twee verschillende instanties?"
   ]
  },
  {
   "cell_type": "code",
   "execution_count": 51,
   "metadata": {},
   "outputs": [],
   "source": [
    "from math import sqrt\n",
    "from numpy import sqrt\n",
    "wortel16 = sqrt(16)\n"
   ]
  },
  {
   "cell_type": "code",
   "execution_count": 54,
   "metadata": {},
   "outputs": [],
   "source": [
    "# %load 'uitwerkingen/1-importeren.py'"
   ]
  },
  {
   "cell_type": "markdown",
   "metadata": {},
   "source": [
    "# Gebruik nooit nooit NOOIT 'from package import *'\n",
    "Afgesproken?\n",
    "\n",
    "\n",
    "\n"
   ]
  },
  {
   "cell_type": "code",
   "execution_count": null,
   "metadata": {},
   "outputs": [],
   "source": []
  },
  {
   "cell_type": "code",
   "execution_count": null,
   "metadata": {},
   "outputs": [],
   "source": [
    "# %load 'uitwerkingen/1-.py'\n"
   ]
  },
  {
   "cell_type": "code",
   "execution_count": null,
   "metadata": {},
   "outputs": [],
   "source": []
  },
  {
   "cell_type": "code",
   "execution_count": null,
   "metadata": {},
   "outputs": [],
   "source": []
  },
  {
   "cell_type": "code",
   "execution_count": null,
   "metadata": {},
   "outputs": [],
   "source": []
  },
  {
   "cell_type": "code",
   "execution_count": null,
   "metadata": {},
   "outputs": [],
   "source": []
  }
 ],
 "metadata": {
  "kernelspec": {
   "display_name": "Python 3",
   "language": "python",
   "name": "python3"
  },
  "language_info": {
   "codemirror_mode": {
    "name": "ipython",
    "version": 3
   },
   "file_extension": ".py",
   "mimetype": "text/x-python",
   "name": "python",
   "nbconvert_exporter": "python",
   "pygments_lexer": "ipython3",
   "version": "3.6.6"
  }
 },
 "nbformat": 4,
 "nbformat_minor": 2
}
