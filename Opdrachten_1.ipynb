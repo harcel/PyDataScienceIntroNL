{
 "cells": [
  {
   "cell_type": "markdown",
   "metadata": {},
   "source": [
    "# Opdrachten bij de Introductie tot de programmeertaal Python\n",
    "\n",
    "De opdrachten in dit notebook horen bij het eerste deel van de cursus, waarin we kennismkane met Python als programmeertaal. De meeste van deze opdrachten komen al op de cursusavond aan bod. Ik raad je aan om alle opdrachten waar je niet aan toe komt tijdens de cursus thuis te doen. In sommige gevallen zit er lesmateriaal in wat anders dan in de opdracht niet langskomt in de lesstof.\n",
    "\n",
    "Alle opdrachten hebben een voorbeeld van een uitwerking die wordt geladen wanneer de cellen met \"%load XXX\" worden uitgevoerd. Let wel:\n",
    "- Probeer het eerst zelf! Je leert er pas echt van door te proberen, eventueel te falen en nog een keer te proberen!\n",
    "- Dit is *een* uitwerking, meerdere varianten zijn waarschijnlijk mogelijk. Overleg bij twijfel gerust met een medecursist, of met de docent!\n",
    "\n",
    "\n",
    "## Strings, printen en documentatie\n",
    "De eerste opdrachten gaan over strings, hoe je naar het scherm print en hoe je uit kan vinden wat er mogelijk is met een Jupyter notebook.\n",
    "\n",
    "\n",
    "### 1. Hello world!\n",
    "Een cursus over een programmeertaal kan natuurlijk alleen serieus genomen worden als deze begint met een \"Hello world!\" opdracht. Schrijf je eerste regel Python die een wonderlijke \"Hello world!\" op je scherm tovert!"
   ]
  },
  {
   "cell_type": "code",
   "execution_count": null,
   "metadata": {},
   "outputs": [],
   "source": []
  },
  {
   "cell_type": "code",
   "execution_count": 1,
   "metadata": {},
   "outputs": [],
   "source": [
    "# %load \"uitwerkingen/1-helloworld.py\"\n"
   ]
  },
  {
   "cell_type": "markdown",
   "metadata": {},
   "source": [
    "Probeer nu een aantal dingen uit met een stringvariabele, die \"Hello World\" bevat, zoals je net hebt geprint:\n",
    "- Maak van alle karakters hoofdletters en print dat.\n",
    "- Maak van alle karakters kleine letters en print dat.\n",
    "- Print de lengte van de hele string.\n",
    "- Zet de string drie keer achter elkaar, met een spatie ertussen.\n",
    "\n",
    "Maak gebruik van de interne documentatie die Python biedt als je iets niet weet!"
   ]
  },
  {
   "cell_type": "code",
   "execution_count": null,
   "metadata": {},
   "outputs": [],
   "source": []
  },
  {
   "cell_type": "code",
   "execution_count": 21,
   "metadata": {},
   "outputs": [],
   "source": [
    "# %load \"uitwerkingen/1-worldbewerking.py\""
   ]
  },
  {
   "cell_type": "markdown",
   "metadata": {},
   "source": [
    "## Indices en containers\n",
    "\n",
    "Enkele getallen en strings zijn leuk, maar in data science gaat het al snel over grote hoeveelheden getallen. Lists en dictionaries zijn de core Python containers die het meest gebruikt worden (voor data science zien we later nog meer, populairdere vormen van containers!) en deze bekijken we hier in enig detail.\n",
    "\n",
    "### 2. Indices in strings en lists\n",
    "Hieronder wordt een string gedefinieerd. Wat is de index van de \"P\"? Gebruik de indexfuncties van Python om:\n",
    "- Alleen het eerste teken van de string weer te geven.\n",
    "- Alleen het laatste teken van de string weer te geven.\n",
    "- De string weer te geven vanaf \"is\".\n",
    "- Alleen de tekens met een even index weer te geven.\n",
    "- De string om te draaien, maar het laatste teken niet weer te geven."
   ]
  },
  {
   "cell_type": "code",
   "execution_count": 1,
   "metadata": {},
   "outputs": [],
   "source": [
    "zin = \"Python is enorm gaaf!\""
   ]
  },
  {
   "cell_type": "code",
   "execution_count": 11,
   "metadata": {},
   "outputs": [],
   "source": [
    "# %load \"uitwerkingen/1-stringindex.py\""
   ]
  },
  {
   "cell_type": "markdown",
   "metadata": {},
   "source": [
    "### 3. Lists en indices\n",
    "Maak een list warin verschillende typen data voor komen (een floating point number, een integer en een string).\n",
    "Voeg daar vervolgens nog een element aan toe, naar keuze.\n",
    "Vervang daarna je tweede element door een andere list met drie elementen.\n",
    "Hoe print je het tweede element van de list op de tweede plek in de eerste list met indices op de eerste list?\n",
    "Kun je ook die lijst op het eerste elemenet twee keer invoegen op die plek?\n",
    "Wat gebeurt er als je een getal optelt bij een lijst?\n",
    "Wat gebeurt er als je een string optelt bij een lijst?\n",
    "\n",
    "Neem de hierboven gedefinieerde zin en maak een list van alle losse woorden met behulp van 'split'.\n",
    "Maak er daarna weer 1 string van met een komma en een spatie tussen alle woorden.\n",
    "Had je die verandering ook in 1 stap kunnen doen?"
   ]
  },
  {
   "cell_type": "code",
   "execution_count": null,
   "metadata": {},
   "outputs": [],
   "source": []
  },
  {
   "cell_type": "code",
   "execution_count": 6,
   "metadata": {},
   "outputs": [],
   "source": [
    "# %load \"uitwerkingen/1-list_strings.py\"\n"
   ]
  },
  {
   "cell_type": "markdown",
   "metadata": {},
   "source": [
    "In de praktijk wanneer je met data werkt zullen enorm veel van van de containers, zoals lists, die je gebruikt vol staan met getallen. We kijken hier kort naar een voorbeeld waaruit blijkt dat lists niet per se handig zijn daarvoor.\n",
    "\n",
    "- Maak een lijst van een paar willeukerige getallen.\n",
    "- Gebruik append en extend om deze lijst langer te maken. Wat is het verschil?\n",
    "- Probeer alle elementen van de lijst met 3 te vermenigvuldigen."
   ]
  },
  {
   "cell_type": "code",
   "execution_count": null,
   "metadata": {},
   "outputs": [],
   "source": []
  },
  {
   "cell_type": "code",
   "execution_count": 9,
   "metadata": {},
   "outputs": [
    {
     "name": "stdout",
     "output_type": "stream",
     "text": [
      "[1, 2.3, 4, 1200]\n",
      "[1, 2.3, 4, 1200, -11]\n",
      "[1, 2.3, 4, 1200, -11, 25, 133]\n",
      "Een lijst met 3 vermenigvuldigen levert drie keer de betreffende lijst op! Kijk maar:\n",
      "[1, 2.3, 4, 1200, -11, 25, 133, 1, 2.3, 4, 1200, -11, 25, 133, 1, 2.3, 4, 1200, -11, 25, 133]\n"
     ]
    }
   ],
   "source": [
    "# %load \"uitwerkingen/1-.py\"\n",
    "lijstje = [1, 2.3, 4, 1200]\n",
    "print(lijstje)\n",
    "lijstje.append(-11)\n",
    "print(lijstje)\n",
    "lijstje.extend([5**2, 133])\n",
    "print(lijstje)\n",
    "print(\"Een lijst met 3 vermenigvuldigen levert drie keer de betreffende lijst op! Kijk maar:\")\n",
    "print(lijstje*3)"
   ]
  },
  {
   "cell_type": "markdown",
   "metadata": {},
   "source": [
    "We zullen zometeen zien hoe we dat wel op kunnen lossen met loops, maar we gaan eerst de andere veel gebruikte core Python data container bekijken, de dictionary.\n",
    "\n",
    "### 4. Dctionaries\n",
    "Een dictionary wordt gedefinieerd door \"curly brackets\": {}. Hierin bevinden zich zogenaamde kery/value-pairs. Een key is feitelijk de naam van wat er in zit, de waarde kan alles zijn van string, getal,tot lijst of nog een nieuwe dictionary.\n",
    "\n",
    "Maak een dictionary voor wat boodschappen, waarin de keys de namen zijn van de boodschappen die je hebt gehaald en de waarde de prijs die je daarvoor hebt betaald.\n",
    "\n",
    "Checken of een item voorkomt kan met 'in'. Check het daadwerkelijk voorkomen van je boodschappen. Als je de waarde wil teruggeven dan kun je de key gebruiken als een soort index. Probeer dat ook. Kun je ook andere datatypen gebruiken voor de keys van een dictionary?"
   ]
  },
  {
   "cell_type": "code",
   "execution_count": null,
   "metadata": {},
   "outputs": [],
   "source": []
  },
  {
   "cell_type": "code",
   "execution_count": 19,
   "metadata": {},
   "outputs": [],
   "source": [
    "# %load \"uitwerkingen/1-dicts.py\"\n"
   ]
  },
  {
   "cell_type": "code",
   "execution_count": null,
   "metadata": {},
   "outputs": [],
   "source": []
  },
  {
   "cell_type": "code",
   "execution_count": null,
   "metadata": {},
   "outputs": [],
   "source": []
  },
  {
   "cell_type": "code",
   "execution_count": null,
   "metadata": {},
   "outputs": [],
   "source": []
  },
  {
   "cell_type": "code",
   "execution_count": 7,
   "metadata": {},
   "outputs": [],
   "source": [
    "# %load \"uitwerkingen/1-.py\""
   ]
  },
  {
   "cell_type": "code",
   "execution_count": null,
   "metadata": {},
   "outputs": [],
   "source": []
  },
  {
   "cell_type": "code",
   "execution_count": null,
   "metadata": {},
   "outputs": [],
   "source": []
  },
  {
   "cell_type": "code",
   "execution_count": null,
   "metadata": {},
   "outputs": [],
   "source": []
  },
  {
   "cell_type": "code",
   "execution_count": 8,
   "metadata": {},
   "outputs": [],
   "source": [
    "# %load \"uitwerkingen/1-.py\""
   ]
  },
  {
   "cell_type": "code",
   "execution_count": 9,
   "metadata": {},
   "outputs": [],
   "source": [
    "# %load 'uitwerkingen/test.py'\n"
   ]
  },
  {
   "cell_type": "code",
   "execution_count": null,
   "metadata": {},
   "outputs": [],
   "source": []
  },
  {
   "cell_type": "code",
   "execution_count": null,
   "metadata": {},
   "outputs": [],
   "source": []
  },
  {
   "cell_type": "code",
   "execution_count": null,
   "metadata": {},
   "outputs": [],
   "source": []
  },
  {
   "cell_type": "code",
   "execution_count": null,
   "metadata": {},
   "outputs": [],
   "source": []
  }
 ],
 "metadata": {
  "kernelspec": {
   "display_name": "Python 3",
   "language": "python",
   "name": "python3"
  },
  "language_info": {
   "codemirror_mode": {
    "name": "ipython",
    "version": 3
   },
   "file_extension": ".py",
   "mimetype": "text/x-python",
   "name": "python",
   "nbconvert_exporter": "python",
   "pygments_lexer": "ipython3",
   "version": "3.6.6"
  }
 },
 "nbformat": 4,
 "nbformat_minor": 2
}
