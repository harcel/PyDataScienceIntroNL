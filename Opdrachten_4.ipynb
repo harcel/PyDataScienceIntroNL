{
 "cells": [
  {
   "cell_type": "code",
   "execution_count": 7,
   "metadata": {},
   "outputs": [],
   "source": [
    "import os\n",
    "import pandas as pd\n",
    "import numpy as np\n",
    "import matplotlib.pyplot as plt\n",
    "%matplotlib inline "
   ]
  },
  {
   "cell_type": "markdown",
   "metadata": {},
   "source": [
    "# Opdrachten bij de Introductie tot de programmeertaal Python -- deel 4: \"Machine Learning\"\n",
    "\n",
    "De opdrachten in dit notebook horen bij het vierde deel van de cursus, waarin we Python gebruiken voor machine learning. De meeste van deze opdrachten komen al op de cursusavond aan bod. Ik raad je aan om alle opdrachten waar je niet aan toe komt tijdens de cursus thuis te doen. In sommige gevallen zit er lesmateriaal in wat anders dan in de opdracht niet langskomt in de lesstof.\n",
    "\n",
    "Alle opdrachten hebben een voorbeeld van een uitwerking die wordt geladen wanneer de cellen met \"%load XXX\" worden uitgevoerd. Let wel:\n",
    "- Probeer het eerst zelf! Je leert er pas echt van door te proberen, eventueel te falen en nog een keer te proberen!\n",
    "- Dit is *een* uitwerking, meerdere varianten zijn waarschijnlijk mogelijk. Overleg bij twijfel gerust met een medecursist, of met de docent!\n",
    "\n",
    "## Keuzeopdrachten!\n",
    "Elke opdrachtnummer komt meerdere keuzes, a, b, c etc. Tijdens de cursus is e slechts tijd genoeg voor 1 van deze, maar kies vooral zelf welke je het meest aanspreekt! Thuis kun je de rest altijd nog eens rustig bekijken.\n",
    "\n",
    "## 1. Supervised machine learning\n",
    "\n",
    "Supervised machine learning kent een heel scala aan technieken. In de instructie is al gekeken naar de logistische regressie, een methode om te classificeren. Hiervoor zijn nog meer methoden. Hier kijken we in opdracht 1a naar de beslisbomen, ook wel bekend onder naam decision tree. De dataset over passagiers van de de titanic is voor dit voorbeeld een bekende kandidaat. En passent maken we meteen kennis met wat \"data preparation\" tools.\n",
    "\n",
    "Opgave 1b gaat over lineaire regressie en nearest neighbor regressie. Dit zijn methoden om continue variabelen als target value te \"leren\" (bijvoorbeeld: schat lichaamsgewicht als je de lichaamslengte weet). Hiervoor wordt een kunstmatige dataset gebruikt die we maken met functionaliteiten uit numpy.\n",
    "\n",
    "\n",
    "### 1a. Wie overleefde de ramp met de titanic?\n",
    "In de data directory zit een csv met data over de titanic: titanic3.csv. Lees deze met pandas, en bekijk wat er in zit.\n",
    "\n",
    "Er zitten een aantal kollommen in die we voortaan zullen negeren. Maak een array die labels heet van de kolom survived en bewaar als features een DataFrame met daarin de volgende kolommen uit de dataset:\n",
    "- pclass: klasse van de passagies.\n",
    "- sex: geslacht.\n",
    "- age: leeftijd.\n",
    "- sibsp: Aantal broertjes, zusjes en partners aan booord.\n",
    "- parch: Aantal ouders of kinderen aan boord.\n",
    "- fare: Het betaalde bedrag.\n",
    "- embarked: Haven waar is ingestapt (C = Cherbourg; Q = Queenstown; S = Southampton).\n",
    "\n",
    "pclass, sex en embarked zijn categorische variabelen. Gebruik de pandas functie get_dummies() om van deze kolommen dummy variabelen te maken. Wat gebeurt er daardoor mee? Maak daarna van de DataFrame een array die de features gaan worden voor het training algoritme.\n",
    "\n",
    "Er blijkt ook nog missende data voor te komen. Hier kunnen we andere data \"imputeren\". Gebruik daarvoor sklearn.preprocessing.Imputer() (default parameters zijn OK) en fit daarna een instantie van sklearn.tree.DecisionTreeClassifier (ook met default parameters). Hoe goed is de voorspelling?\n",
    "\n",
    "\n"
   ]
  },
  {
   "cell_type": "code",
   "execution_count": null,
   "metadata": {},
   "outputs": [],
   "source": []
  },
  {
   "cell_type": "code",
   "execution_count": 14,
   "metadata": {},
   "outputs": [],
   "source": [
    "to_include = os.path.join('uitwerkingen', '4-decisiontree.py') \n",
    "# %load $to_include"
   ]
  },
  {
   "cell_type": "markdown",
   "metadata": {},
   "source": [
    "Deze beslisboom heeft bijzonder veel vertakkingen. Als je het correct hebt gedaan dan ziet deze er als volgt uit:\n",
    "\n",
    "<img src=\"decisiontree.png\" alt=\"A complicated tree\">\n",
    "\n",
    "Onleesbaar dus, maar je kunt het plaatje elders openen om te kijken wat er staat.\n",
    "\n",
    "Maak gebruik van het attribuut feature_importances_ (let op de laatste underscore) om te kijken welke features belangrijk zijn. Waarom is dit niet eenduidig te interpreteren voor deze beslisboom?\n",
    "\n",
    "Maak daarna gebruik van de opties van de DecisionTreeClassifier om een veel simpelere boom te maken. Probeer de feature importances van onderstaande boom te reproduceren (dat is niet hetzlefde als de gini coefficient!).\n",
    "\n",
    "<img src=\"simpletree.png\" alt=\"A simple tree\">\n",
    "\n",
    "Helaas is een van de grote tekortkomingen van Python in machine learning momenteel nog de visualisatie van beslisbomen. Dit is nu nog erg afhankelijk van het besturingssysteem op je computer en we zullen er dus hier niet op ingaan."
   ]
  },
  {
   "cell_type": "code",
   "execution_count": null,
   "metadata": {},
   "outputs": [],
   "source": []
  },
  {
   "cell_type": "code",
   "execution_count": 18,
   "metadata": {},
   "outputs": [],
   "source": [
    "to_include = os.path.join('uitwerkingen', '4-simpletree.py') \n",
    "# %load $to_include"
   ]
  },
  {
   "cell_type": "markdown",
   "metadata": {},
   "source": [
    "### 1b. Leren van je buren\n",
    "\n",
    "We gaan kijken naar een regressieprobleem, waar een lineaire regressie het heel aardig zou doen, maar waar extra karakteristieken in de data zitten die door een lineaire regressie niet opgepikt worden. Eerst maken en visualiseren we de dataset:"
   ]
  },
  {
   "cell_type": "code",
   "execution_count": 4,
   "metadata": {},
   "outputs": [
    {
     "data": {
      "image/png": "[encoded data removed]",
      "text/plain": [
       "<Figure size 432x288 with 1 Axes>"
      ]
     },
     "metadata": {},
     "output_type": "display_data"
    }
   ],
   "source": [
    "x = np.linspace(-3, 3, 100)            # honderd putten tussen x=-3 and x=3\n",
    "rng = np.random.RandomState(42)        # Initialiseer een random generator\n",
    "scatter = rng.uniform(low=-1., high=1., size=len(x))   # Scatter is uniform verdeeld tussen -1 en 1 \n",
    "y = np.sin(4 * x) + x + scatter        # y varaibele is een lineaire functie, plus een sinus, plus scatter\n",
    "plt.plot(x, y, 'o');                   # Zo ziet dat eruit!"
   ]
  },
  {
   "cell_type": "markdown",
   "metadata": {},
   "source": [
    "De lineaire regressie doe ik hier voor, zodat je dat gezien hebt. Ik visualiseer en evalueer ook het resultaat:"
   ]
  },
  {
   "cell_type": "code",
   "execution_count": 5,
   "metadata": {},
   "outputs": [
    {
     "name": "stdout",
     "output_type": "stream",
     "text": [
      "Shape van x: (100,)\n",
      "Shape van X: (100, 1)\n",
      "Fit coefficienten:  [0.93003279]\n",
      "y-as intercept:  -0.059638513243581374\n"
     ]
    },
    {
     "data": {
      "image/png": "[encoded data removed]",
      "text/plain": [
       "<Figure size 432x288 with 1 Axes>"
      ]
     },
     "metadata": {},
     "output_type": "display_data"
    }
   ],
   "source": [
    "from sklearn.linear_model import LinearRegression\n",
    "regressor = LinearRegression()                       # Hyperparameters zijn optioneel in deze stap\n",
    "X = x[:, np.newaxis]                                 # Numpy trucje om de shape geschikt te krijgen voor sklearn  \n",
    "print(\"Shape van x:\", np.shape(x))\n",
    "print(\"Shape van X:\", np.shape(X))\n",
    "\n",
    "regressor.fit(X, y)                                  # Fit het model\n",
    "print('Fit coefficienten: ', regressor.coef_)      # coefficienten worden vermenigvuldig met de onafhankelijke variabele\n",
    "print('y-as intercept: ', regressor.intercept_)    # De intercept wordt apart gefit in dit model\n",
    "plt.plot(x, y, 'o')\n",
    "plt.plot(x, regressor.intercept_+regressor.coef_*x, 'k:')\n",
    "plt.title(\"Data met lineaire regressie\");\n"
   ]
  },
  {
   "cell_type": "markdown",
   "metadata": {},
   "source": [
    "In het packet sklearn.neighbors zit een regressor die de k-Nearest Neighbors methode gebruikt. Zoek op wat dat betekent. Kun je een voorspelling doen van wat een lage k en een hoge tot gevolg hebben?\n",
    "\n",
    "Gebruik deze regressor om een model te trainen en maak daarna een heel fijn verdeelde reeks punten langs de x-as (op een manier die vergelijkbaar is met hoe de data is gegenereerd bijvoorbeeld) om te kijken wat dat doet met de resulterende \"fit\". \n",
    "\n",
    "Maak een plot met de datapunten en de regressie voor verschillende waarden van k.\n",
    "\n"
   ]
  },
  {
   "cell_type": "code",
   "execution_count": null,
   "metadata": {},
   "outputs": [],
   "source": []
  },
  {
   "cell_type": "code",
   "execution_count": 28,
   "metadata": {},
   "outputs": [],
   "source": [
    "to_include = os.path.join('uitwerkingen', '4-nearestneighbor.py') \n",
    "# %load $to_include"
   ]
  },
  {
   "cell_type": "markdown",
   "metadata": {},
   "source": [
    "## 2. Unsupervised machine learning\n",
    "\n",
    "We hebben in de instructie gekeken naar k-means clustering. In de klasse van clusteringalgoritmen kijken we in opgave 2a nog naar niet-sferische clusters met k-means en hoe je probelemen daarmee kunt voorkomen door \"density-based\" en \"hierarchische\" clustermethoden.\n",
    "\n",
    "Opgave 2b gaat over de andere klasse van unsupervised learning: dimensiereductie en patroonherkenning. We gebruiken hiervoor Principal Component Analysis, IsoMap en t-SNE. De datasets zullen voor je worden gegenereerd en gevisualiseerd.\n",
    "\n",
    "### 2a. Clustering vervolgd\n"
   ]
  },
  {
   "cell_type": "markdown",
   "metadata": {},
   "source": [
    "We hebben KMeans al in wekring gezien op blobs. Nu transformeren we de blobs naar langgerekte dingen:"
   ]
  },
  {
   "cell_type": "code",
   "execution_count": 33,
   "metadata": {},
   "outputs": [
    {
     "data": {
      "text/plain": [
       "<matplotlib.legend.Legend at 0x7f4618c2c1d0>"
      ]
     },
     "execution_count": 33,
     "metadata": {},
     "output_type": "execute_result"
    },
    {
     "data": {
      "image/png": "[encoded data removed]",
      "text/plain": [
       "<Figure size 432x288 with 1 Axes>"
      ]
     },
     "metadata": {},
     "output_type": "display_data"
    }
   ],
   "source": [
    "from sklearn.datasets import make_blobs\n",
    "X, y = make_blobs(random_state=170, n_samples=600)\n",
    "\n",
    "plt.scatter(X[:, 0], X[:, 1], s=20, label=\"Oorspronkelijke blobs\")\n",
    "\n",
    "rng = np.random.RandomState(74)\n",
    "transformation = rng.normal(size=(2, 2))\n",
    "X = np.dot( X, transformation) # Het is niet heel belangrijk dat je snapt wat hier gebeurt.\n",
    "\n",
    "plt.scatter(X[:, 0], X[:, 1], s=20, label=\"Na transformatie\")\n",
    "plt.legend(loc='lower right')\n"
   ]
  },
  {
   "cell_type": "markdown",
   "metadata": {},
   "source": [
    "Op deze nieuwe blobs kun je k-means ook los laten. Doe dat, met 3 clusters (of experimenteer wat) en trek je conclusies!\n",
    "\n",
    "Vergelijk daarna op zowel deze blobs als op de blobs uit het instructienotebook (X1 en X2) de algoritmes DBSCAN (density based) en AgglomerativeClustering (hierarchische clustering)."
   ]
  },
  {
   "cell_type": "code",
   "execution_count": null,
   "metadata": {},
   "outputs": [],
   "source": []
  },
  {
   "cell_type": "code",
   "execution_count": 39,
   "metadata": {},
   "outputs": [],
   "source": [
    "to_include = os.path.join('uitwerkingen', '4-clustering.py') \n",
    "# %load $to_include"
   ]
  },
  {
   "cell_type": "markdown",
   "metadata": {},
   "source": [
    "### 2b. PCA en manifold learners\n",
    "Het aantal dimensies van je dataset verkleinen is vaak een goed idee. NIet alleen helpt het bij het visualiseren, maar veel algoritmen zijn ook betrouwbaarder in minder dimensies. Dit is helemaal waar als er in je data gecorreleerde grootheden zitten, wat feitelijk betekent dat als je de 1 kent, dat je ook al een goed idee hebt van de ander. Je kunt dan in principe af met slechts 1 van deze variabelen.\n",
    "\n",
    "Principal Component Analysis is een techniek om hiermee om te gaan. \n"
   ]
  },
  {
   "cell_type": "markdown",
   "metadata": {},
   "source": [
    "## 3. Neurale netwerken\n",
    "\n",
    "Voor het stuk over neurale netwerken zuellen we verder gaan met de MNIST hand-written digits. Opnieuw zijn er twee keuze opdrachten. In 3a. kijken waar naar het gebruik van bottleneck-layers voor dimensiereductie. Een toepassing van auto-encoders als de-noisers (ruisverwijdering uit plaatjes) is het onderwerp van 3b.\n",
    "\n",
    "### 3a. Dimensiereductie met neurale netwerken.\n",
    "Een auto-encoder reproduceert de input-laag, maar het is inzichtelijk (en potentieel heel nuttig!) om ook een netwerk met een bottleneck de labels te laten voorspellen. Hieronder proberen we dat voor een bottleneck met slechts twee neuronen.\n",
    "\n",
    "De data wordt eerst voor je ingeladen, daarna is het aan jou om een netwerk met een bottleneck (met twee neuronen) te trainen. Let op dat je neurale netwerk wel weer grotere lagen krijgt na de bottleneck.\n",
    "\n",
    "Gebruik daarna ook de \"summary\" methode om te kijken of je netwerk eruit ziet zoals je verwacht.\n"
   ]
  },
  {
   "cell_type": "code",
   "execution_count": null,
   "metadata": {},
   "outputs": [],
   "source": [
    "from sklearn.datasets import fetch_mldata\n",
    "from sklearn.model_selection import train_test_split\n",
    "\n",
    "mnist = fetch_mldata(\"MNIST original\", data_home='./data/')  \n",
    "features, labels = mnist.data / 255., mnist.target\n",
    "\n",
    "# Het splitsen in een training en test set gebeurt hier. Check de documentatie!\n",
    "xtr, x, ytr, y = train_test_split(features, labels, test_size=0.3)\n",
    "\n",
    "print(\"Dimensies van xtr:\", xtr.shape)\n",
    "print(\"Dimensies van ytr:\", ytr.shape)\n",
    "print(\"Dimensies van x:\", x.shape)\n",
    "print(\"Dimensies van y:\", y.shape)"
   ]
  },
  {
   "cell_type": "code",
   "execution_count": null,
   "metadata": {},
   "outputs": [],
   "source": []
  },
  {
   "cell_type": "code",
   "execution_count": 11,
   "metadata": {},
   "outputs": [],
   "source": [
    "to_include = os.path.join('uitwerkingen', '4-nn_dimensiereductie.py') \n",
    "# %load $to_include"
   ]
  },
  {
   "cell_type": "markdown",
   "metadata": {},
   "source": [
    "Ik wil hier benadrukken dat 95% van de labels correct is voorspeld (in het voorbeeld in de uitwerking), terwijl er een bottleneck-laag met slechts twee neuronen in het netwerk zit! Die laag heeft slechts 2 outputwaarden, waarna het weer opbouwende netwerk de labels bijna helemaal goed kan voorspellen. *Alle info om de labels te voorspellen ligt dus besloten in die 2 getallen!* \n",
    "\n",
    "Bedenk waar dat voor gebruikt kan worden. Door de plaatjes te encoden met de eerste helft van het netwerk (t/m bottleneck) kun je de plaatjes reduceren tot twee getallen. Door het tweede deel van het newterk, de decoder, te gebruiken op deze twee getallen kun je de labels behoorlijk goed reproduceren. \n",
    "\n",
    "Aangezien de bottleneck-laag tweedimensionaal is, kun je deze ook goed visualiseren. Het zou hierin evident moeten zijn dat er tien verschillende labels zijn. Er wordt gebruik gemaakt van de backend van keras, die een functie kan definieren die de waarden van verschillende layers in je netwerk naar elkaar mapt (feitelijk maak je hier dus de encoder). Definieer zo'n functie met behulp van tensorflow.keras.backend.function(). Zie de documentatie voor hoe dit werkt.\n",
    "\n",
    "Plot alle punten in dit tweedimensionale vlak, geef ze een kleur die correspondeert met het echte label en denk goed na over wat je ziet!"
   ]
  },
  {
   "cell_type": "code",
   "execution_count": null,
   "metadata": {},
   "outputs": [],
   "source": []
  },
  {
   "cell_type": "code",
   "execution_count": 12,
   "metadata": {},
   "outputs": [],
   "source": [
    "to_include = os.path.join('uitwerkingen', '4-nn_dimensiereductieresultaat.py') \n",
    "# %load $to_include"
   ]
  },
  {
   "cell_type": "markdown",
   "metadata": {},
   "source": [
    "**Als je zin en tijd hebt:**\n",
    "\n",
    "Aangezien dit zo goed werkt, zou het dan ook werken om de plaatjes te reconstrueren met een auto-encoder met een bottleneck-laag van slechts twee neuronen? Probeer het eens!\n"
   ]
  },
  {
   "cell_type": "code",
   "execution_count": null,
   "metadata": {},
   "outputs": [],
   "source": []
  },
  {
   "cell_type": "code",
   "execution_count": 13,
   "metadata": {},
   "outputs": [],
   "source": [
    "to_include = os.path.join('uitwerkingen', '4-nn_kleineencoder.py') \n",
    "# %load $to_include"
   ]
  },
  {
   "cell_type": "markdown",
   "metadata": {},
   "source": [
    "## 3b. Een denoising auto-encoder\n",
    "\n",
    "Maak gebruik van de auto-encoder zoals die in de instructie is langsgekomen. Train deze op \"clean\" plaatjes van de MNIST cijfers. Voordat je je test set erdoorheen gooit om te zien hoe deze gereconstrueerd worden voeg je er ruis aan toe: elke pixelwaarde wordt verhoogd met een random, klein getal. Bedenk daar zelf een methode voor. Af en toe mag deze waarde best hoog zijn, maar niet te vaak. Visualiseer de plaatjes om jezelf ervan te overtuigen dat wat je gebruikt een handgeschreven getal met een beetje ruis is, en niet vierkantjes vol met voornamelijk ruis.\n",
    "\n",
    "Probeer nu deze te reconstrueren. Als je tijd over hebt kun je ook experimenteren met het trainen inclusief ruis en kijken wat dat doet."
   ]
  },
  {
   "cell_type": "code",
   "execution_count": null,
   "metadata": {},
   "outputs": [],
   "source": []
  }
 ],
 "metadata": {
  "kernelspec": {
   "display_name": "Python 3",
   "language": "python",
   "name": "python3"
  },
  "language_info": {
   "codemirror_mode": {
    "name": "ipython",
    "version": 3
   },
   "file_extension": ".py",
   "mimetype": "text/x-python",
   "name": "python",
   "nbconvert_exporter": "python",
   "pygments_lexer": "ipython3",
   "version": "3.6.6"
  }
 },
 "nbformat": 4,
 "nbformat_minor": 2
}
