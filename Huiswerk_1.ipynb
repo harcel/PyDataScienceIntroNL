{
 "cells": [
  {
   "cell_type": "markdown",
   "metadata": {},
   "source": [
    "# Huiswerkopgaven - deel 1: Introductie Python\n",
    "\n",
    "Dit notebook bevat opgaven om thuis mee aan de slag te gaan. Het laden van (voorbeelden van) uitwerkingen gaat op dezelfde manier als in de opgaven die tijdens de cursus zijn gedaan. Het notebook is onderverdeeld in twee stukken. Het eerste onderdeel raad ik je zeker aan te doen. Dit leert je nog meer basisfunctionaliteit van de tijdens de cursus behandelde stof. Feitelijk heb je zonder die opgaven een incompleet beeld. Het tweede deel (de \"bonus\") kun je doen als je er zin in hebt en uitgedaagd wil worden. Je leert er op zich niet onmisbare stof, maar wel nieuwe dingen die leuk zijn (en van meer oefening leer je het beter).\n",
    "\n",
    "## Functies en hun documentatie\n",
    "\n",
    "Als je een functie hebt geimporteerd, dan kun je daar de interne hulp bij opvragen. Dit kan zowel met een vraagteken, als door tussen de haakjes in de aanroep alt-tab in te drukken (probeer ook eens twee keer tab in te drukken met de alt toets ingedrukt).\n",
    "\n",
    "### 1. Het gebruiken en maken van documentatie in een docstring.\n",
    "Druk de help van numpy af.\n",
    "\n",
    "Je vindt deze documentatie in de code van numpy. Kun je die code localiseren en kijken of je ziet hoe dit gebeurt?\n"
   ]
  },
  {
   "cell_type": "code",
   "execution_count": null,
   "metadata": {},
   "outputs": [],
   "source": []
  },
  {
   "cell_type": "code",
   "execution_count": null,
   "metadata": {},
   "outputs": [],
   "source": [
    "import os"
   ]
  },
  {
   "cell_type": "code",
   "execution_count": null,
   "metadata": {},
   "outputs": [],
   "source": [
    "to_include = os.path.join('uitwerkingen', '1h-docstring.py') \n",
    "# %load $to_include\n"
   ]
  },
  {
   "cell_type": "markdown",
   "metadata": {},
   "source": [
    "Dergelijke documentatie kun je zelf ook schrijven over functies die je maakt. Er bestaan wel afspraken en richtlijnen voor, maar daar hoef je je (zeker als je niet in een groot project samenwerkt) niet heel strikt aan te houden. Bovendien verschillen ze van project tot project. Neem de functie van de fibonaccireeks die je in een eerdere opgave hebt gemaakt en voorzie deze van een fatsoenlijke docstring. Probeer deze vervolgens ook te raadplegen."
   ]
  },
  {
   "cell_type": "code",
   "execution_count": null,
   "metadata": {},
   "outputs": [],
   "source": []
  },
  {
   "cell_type": "code",
   "execution_count": null,
   "metadata": {},
   "outputs": [],
   "source": [
    "to_include = os.path.join('uitwerkingen', '1h-fibonaccicommentaar.py') \n",
    "# %load $to_include\n"
   ]
  },
  {
   "cell_type": "markdown",
   "metadata": {},
   "source": [
    "### 2. Functies vs methoden\n",
    "Zoals je wellicht is opgevallen kun je veel dingen door object.functie() te typen, maar ook door package.functie(object) te gebruiken. Wat is het verschil tussen beide opties?\n",
    "\n",
    "### 3. List comprehension en enumerate\n",
    "Een methode om een list op te bouwen die je heel vaak zult gaan zien is de list comprehension. De lege cell voor je opdracht begint met ene voorbeeld. Bekijk deze eens. Maak er daarna nog een die het volgende doet: maak een lijst bestaat alle letters van \"Python is Gaaf!\", 3x weergegeven in elk element van de lijst. Je resultaat moet dus zijn:\n",
    "['PPP', 'yyy', 'ttt', 'hhh', 'ooo', 'nnn', '   ', 'iii', 'sss', '   ', 'GGG', 'aaa', 'aaa', 'fff', '!!!']\n",
    "\n",
    "\n",
    "Binnen list comprehensions kun je ook werken met if en else statements. Maak dezelfde lijst uit dezelfde string, maar nu met slechts 1 teken als het een hoofdletter is, 2 als het een kleine letter is en 3 bij leestekens of spaties. \n",
    "\n",
    "Zoek de \"enumerate\" functie op en gebruik die om in dezelfde string het eerste teken 1x, de tweede twee keer, de derde drie keer, enzovoorts in een lijst te stoppen.\n"
   ]
  },
  {
   "cell_type": "code",
   "execution_count": null,
   "metadata": {},
   "outputs": [],
   "source": [
    "lijstje = [x+2 for x in range(5)]\n"
   ]
  },
  {
   "cell_type": "code",
   "execution_count": null,
   "metadata": {},
   "outputs": [],
   "source": [
    "to_include = os.path.join('uitwerkingen', '1h-listcomprehension.py') \n",
    "# %load $to_include\n"
   ]
  },
  {
   "cell_type": "markdown",
   "metadata": {},
   "source": [
    "### 4. Packages sys, os en time\n",
    "Andere packages die je kunt laden en die veel nuttige functionaliteit bieden (en standaard met elke Python installatie meekomen) zijn bijvoorbeeld sys (\"system specific paramters and functions\"), os (alles van doen met je operating system) en time (allerlei handige functies die met tijd te maken hebben).\n",
    "\n",
    "- Importeer ze alle drie. Dat kan op 1 regel.\n",
    "- In sys zit sys.path. Wat zit hierin?\n",
    "- sys.platform geeft informatie over je besturingssysteem. Welk systeem draai je?\n",
    "- Welke versie van Python gebruik je eigenlijk?\n",
    "\n",
    "- Gebruik os om alle files in de huidige directory weer te geven.\n",
    "- In welke directory ben je eigenlijk aan het werk?\n",
    "- Ga naar directory uitwerkingen, laat alle files daar zien en ga weer terug naar de huidige directory.\n",
    "- Laat nu alle files in directory uitwerkingen zien zonder er eerst heen te gaan.\n",
    "\n",
    "- Hoe laat is het?\n",
    "- Schrijf een functie die een aantal seconden als argument heeft, en die eerst \"Welterusten\" print, dan zoveel seconden niks doet en dan weer wakker wordt met een leuke melding. Laat deze functie ook meteen van zichzelf meten hoe lang hij bezig geweest is en geeft dat terug als resultaat."
   ]
  },
  {
   "cell_type": "code",
   "execution_count": null,
   "metadata": {},
   "outputs": [],
   "source": []
  },
  {
   "cell_type": "code",
   "execution_count": null,
   "metadata": {},
   "outputs": [],
   "source": [
    "to_include = os.path.join('uitwerkingen', '1h-sysostime.py')\n",
    "# %load $to_include"
   ]
  },
  {
   "cell_type": "markdown",
   "metadata": {},
   "source": [
    "### 5. Magic functies in IPython\n",
    "Jupyter, de omgeving waarin we werken, is een afgeleide van IPython. Hierin is een mooie functionaliteit ontwikelt die \"magic commands\" heten. Deze worden voorafgegaan door een procentteken (%). De antwoorden die geladen worden met %load zijn er een goed voorbeeld van. Alle built-in magic commands zijn te vinden op https://ipython.readthedocs.io/en/stable/interactive/magics.html?highlight=built-in%20magic\n",
    "\n",
    "We bekijken ze niet allemaal, maar onderzoek met %timeit hoeveel sneller of langzamer list comprehensions zijn dan bijv. het opbouwen van een lange list met een loop waarin telkens een element aan de lijst wordt toegevoegd met append. Zie de documentatie over 'line mode' en 'cell mode' en gebruik beide. (De uitwerking bestaat hierom uit twee delen, let erop dat de cell mode magic command op de eerste regel van een cell moet staan).\n",
    "\n",
    "Naast deze en nog vele andere functionaliteiten met betrekking tot de performance van code en het analyseren daarvan zullen we in de toekomst veelvuldig gebruik maken van \"%matplotlib inline\" die grafiekjes voor ons mooi tussen de code in het notebook plaatst."
   ]
  },
  {
   "cell_type": "code",
   "execution_count": null,
   "metadata": {},
   "outputs": [],
   "source": []
  },
  {
   "cell_type": "code",
   "execution_count": null,
   "metadata": {},
   "outputs": [],
   "source": [
    "to_include = os.path.join('uitwerkingen', '1h-timeit.py')\n",
    "# %load $to_include"
   ]
  },
  {
   "cell_type": "code",
   "execution_count": null,
   "metadata": {},
   "outputs": [],
   "source": [
    "to_include = os.path.join('uitwerkingen', '1h-timeit2.py')\n",
    "# %load $to_include"
   ]
  },
  {
   "cell_type": "markdown",
   "metadata": {},
   "source": [
    "### 6. Data voor volgende week!\n",
    "Als je zelf een data set hebt waar je graag mee aan de gang wil, zorg dan dat je die bij je hebt! Dit mag in allerlei vormen, denk aan: platte tekst, csv, excel, een database, json, xml, hdf5, of wat je maar kunt bedenken! Het kan zijn dat we aan jouw data volgende keer nog niet toe zijn, maar de kans is groot dat je ook met je eigen data aan de slag kunt! Heb je geen eigen data? Geen probleem, er zijn ook andere datasets beschikbaar."
   ]
  },
  {
   "cell_type": "markdown",
   "metadata": {},
   "source": [
    "# De bonus!\n",
    "\n",
    "Hieronder vind je opgaven die je kunt maken als je wil. Er zit weer een uitwerking bij, waar van toepassing. De stof is niet noodzakelijk om in de data science aan de slag te gaan, maar het helpt wel. Het zou vooral leuk en uitdagend moeten zijn en je moeten helpen een betere Pythonista te worden.\n",
    "\n",
    "Eerst eentje \"to blow your mind\". Evalueer de volgende expressie en probeer dit uit te leggen. Kom je er niet uit? Dat is niet zo gek hoor. Dan Bader heeft er een leuk stuk over geschreven (in het Engels): https://dbader.org/blog/python-mystery-dict-expression "
   ]
  },
  {
   "cell_type": "code",
   "execution_count": null,
   "metadata": {},
   "outputs": [],
   "source": [
    "{True: 'yes', 1: 'no', 1.0: 'maybe'}"
   ]
  },
  {
   "cell_type": "markdown",
   "metadata": {},
   "source": [
    "### Random getallen en numpy functionaliteiten\n",
    "Numpy heeft ook een hoop functionaliteit om random getallen te genereren. Deze sitten in numpy.random. Importeer numpy op de standaard wijze en genereer 1000 getallen met een uniforme verdeling tussen 0 en 10, en ook 1000 met een normale ('Gausische') verdeling met een gemiddelde van 2 en een stadaarddeviatie van 3. Als je niet weet wat die termen betekenen, zoek het dan vooral op! \n",
    "\n",
    "Check van beide lijsten met getallen of de lengte, het gemiddelde, de standaarddeviatie, de mediaan en de som zijn wat ze zouden moeten zijn.\n",
    "\n",
    "Maak een functie waarin een array wordt gemaakt waarin de cumulatieve som wordt gegeven van de lijsten. Het eerste element in die nieuwe array is dus het eerste element in de array die erin gaat, de tweede is de som van de eerste twee, de derde de som van de eerste drie, etc. Is het laatste getal in die array inderdaad gelijk aan de som?\n"
   ]
  },
  {
   "cell_type": "code",
   "execution_count": null,
   "metadata": {},
   "outputs": [],
   "source": []
  },
  {
   "cell_type": "code",
   "execution_count": null,
   "metadata": {},
   "outputs": [],
   "source": [
    "to_include = os.path.join('uitwerkingen', '1h-random.py')\n",
    "# %load $to_include"
   ]
  },
  {
   "cell_type": "markdown",
   "metadata": {},
   "source": [
    "## Zelf te importeren libraries maken\n",
    "\n",
    "Dat importeren van functionaliteiten kun je ook met je eigen code doen. Als je Labs gebruikt, open dan een text editor vanuit de launcher (het plus-teken linksboven). Als je daarin code schrijft en hem opslaat in een bestandsnaam die eindigt op .py, bijvoorbeeld mijnlibrary.py dan kun je die code importeren met \"import mijnlibrary\". Als je hierin een functie hebt gedefinieerd met \"def\" dan kun je dus mijnlibrary.functienaam() aanroepen. Je kunt uiteraard ook een verkorte naam gebruiken.\n",
    "\n",
    "Alle code die je importeert wordt uitgevoerd op het moment dat je importeert, vandaar dat de functienamen dan bekend zijn. Een losse regel bovenaan wordt dus ook gewoon uitgevoerd.\n",
    "\n",
    "Maak een library met twee functies, die bij het importeren blij rapporteert dat dat lukt. De functionaliteiten van je functies hoeven niet ingewikkeld te zijn, maar probeer ze beide. Uiteraard schrijf je een nette docstring met documentatie over de functies."
   ]
  },
  {
   "cell_type": "code",
   "execution_count": null,
   "metadata": {},
   "outputs": [],
   "source": []
  },
  {
   "cell_type": "code",
   "execution_count": 5,
   "metadata": {},
   "outputs": [],
   "source": [
    "to_include = os.path.join('uitwerkingen', '1h-importeren.py')\n",
    "# %load $to_include"
   ]
  }
 ],
 "metadata": {
  "kernelspec": {
   "display_name": "Python 3",
   "language": "python",
   "name": "python3"
  },
  "language_info": {
   "codemirror_mode": {
    "name": "ipython",
    "version": 3
   },
   "file_extension": ".py",
   "mimetype": "text/x-python",
   "name": "python",
   "nbconvert_exporter": "python",
   "pygments_lexer": "ipython3",
   "version": "3.6.6"
  }
 },
 "nbformat": 4,
 "nbformat_minor": 2
}
